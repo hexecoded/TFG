{
 "cells": [
  {
   "cell_type": "markdown",
   "id": "92485b90",
   "metadata": {},
   "source": [
    "## Entrenamiento de ResNet50 con data augmentation y 3 modelos\n",
    "\n",
    "Se procede al particionado de datos de train y valid por separado para aplicar data augmentation en entrenamiento mediante la librería imgaug. Luego, se proceden a realizar un modelo de clasificación binaria para discriminar primero el tipo de enfermedad, y posteriormente, se creará un modelo específico para enfermedades cancerígenas y no cancerígenas."
   ]
  },
  {
   "cell_type": "markdown",
   "id": "8a0d239d",
   "metadata": {},
   "source": [
    "Comenzamos por la importación de librerías"
   ]
  },
  {
   "cell_type": "code",
   "execution_count": 1,
   "id": "initial_id",
   "metadata": {
    "ExecuteTime": {
     "end_time": "2024-05-08T20:29:22.060748Z",
     "start_time": "2024-05-08T20:29:19.215241Z"
    },
    "collapsed": true
   },
   "outputs": [
    {
     "data": {
      "text/plain": [
       "True"
      ]
     },
     "execution_count": 1,
     "metadata": {},
     "output_type": "execute_result"
    }
   ],
   "source": [
    "# Librerías utilizadas por el script\n",
    "import timm\n",
    "import numpy as np\n",
    "import pandas as pd\n",
    "import cv2\n",
    "import torch\n",
    "import fastbook\n",
    "import fastai\n",
    "import fastcore\n",
    "import PIL\n",
    "import shutil\n",
    "\n",
    "import matplotlib.pyplot as plt\n",
    "import imgaug as ia\n",
    "import seaborn as sns\n",
    "\n",
    "from imgaug import augmenters as iaa\n",
    "from sklearn.model_selection import train_test_split\n",
    "from sklearn.metrics import classification_report\n",
    "from fastai.vision.all import *\n",
    "from nbdev.showdoc import *\n",
    "from fastai.vision.all import *\n",
    "\n",
    "\"\"\"\n",
    "!pip install -Uqq fastbook\n",
    "!pip install nbdev\n",
    "\"\"\"\n",
    "fastbook.setup_book()\n",
    "torch.cuda.is_available()"
   ]
  },
  {
   "cell_type": "markdown",
   "id": "ee29cd37a32e7842",
   "metadata": {},
   "source": [
    "A continuación, se declaran las constantes usadas como parámetros a las funciones"
   ]
  },
  {
   "cell_type": "code",
   "execution_count": 2,
   "id": "374d0bc116b3289a",
   "metadata": {
    "ExecuteTime": {
     "end_time": "2024-05-08T20:29:22.079045Z",
     "start_time": "2024-05-08T20:29:22.077009Z"
    }
   },
   "outputs": [],
   "source": [
    "# Número de clases. 2 para la binaria.\n",
    "NUM_CLASSES = 2\n",
    "TRAIN_DIR = \"trainThumbnails/\"\n",
    "SEED = 19\n",
    "# Número de canales de cada imagen\n",
    "CHANNELS = 3\n",
    "IMAGE_RESIZE = 386\n",
    "RESIZE_METHOD = 'squish'\n",
    "LOSS_FUNC = CrossEntropyLossFlat()\n",
    "METRICS = [accuracy, BalancedAccuracy(), error_rate, Recall(), Precision()]\n",
    "\n",
    "# EARLY_STOP_PATIENCE must be < NUM_EPOCHS\n",
    "NUM_EPOCHS = 50\n",
    "EARLY_STOP_PATIENCE = 3\n",
    "\n",
    "BATCH_SIZE = 16\n",
    "\n",
    "train_aug = pd.read_csv('train.csv')\n",
    "valid = pd.read_csv('valid.csv')\n",
    "\n",
    "np.random.seed(SEED)"
   ]
  },
  {
   "cell_type": "markdown",
   "id": "77c0645f",
   "metadata": {},
   "source": [
    "Ahora, podemos volver a calcular la proporción:"
   ]
  },
  {
   "cell_type": "code",
   "execution_count": 3,
   "id": "c88142fb",
   "metadata": {},
   "outputs": [
    {
     "name": "stdout",
     "output_type": "stream",
     "text": [
      "bin\n",
      "Benign       35664\n",
      "Malignant    29256\n",
      "Name: count, dtype: int64\n"
     ]
    },
    {
     "data": {
      "text/plain": [
       "<Axes: xlabel='bin', ylabel='count'>"
      ]
     },
     "execution_count": 3,
     "metadata": {},
     "output_type": "execute_result"
    },
    {
     "data": {
      "image/png": "[encoded data removed]",
      "text/plain": [
       "<Figure size 640x480 with 1 Axes>"
      ]
     },
     "metadata": {},
     "output_type": "display_data"
    }
   ],
   "source": [
    "print(train_aug.bin.value_counts())\n",
    "\n",
    "sns.countplot(data=train_aug, x='bin', order=train_aug.bin.value_counts().index)"
   ]
  },
  {
   "cell_type": "markdown",
   "id": "3ea209841729e661",
   "metadata": {},
   "source": [
    "Creamos el dataset. Para ello, me ayudaré de fastai y crearé un conjunto de imágenes que se usarán para train y test. Nota: hay dos columnas de etiquetas, por lo que se han hecho dos funciones distintas; una que se ocupa de las etiquetas binarias, y otra de las subcategorías. Comenzaremos primero por clasificación binaria, teniendo cuidado de no introducir imágenes aumentadas en validación."
   ]
  },
  {
   "cell_type": "code",
   "execution_count": 4,
   "id": "2e1398ee3901926e",
   "metadata": {
    "ExecuteTime": {
     "end_time": "2024-05-08T20:29:22.151817Z",
     "start_time": "2024-05-08T20:29:22.149995Z"
    }
   },
   "outputs": [],
   "source": [
    "def binary_label_train(fname):\n",
    "    global train_aug\n",
    "    el = train_aug.loc[train_aug['image'] == str(fname).split(\"/\")[2]]\n",
    "    return el['bin'].values[0]\n",
    "\n",
    "def binary_label_valid(fname):\n",
    "    global valid\n",
    "    el = valid.loc[valid['image'] == str(fname).split(\"/\")[2]]\n",
    "    return el['bin'].values[0]\n",
    "\n",
    "\n",
    "def multi_label(fname):\n",
    "    global train_df\n",
    "    el = train_df.loc[train_df['image'] == str(fname)]\n",
    "    return ((el['label'].values[0]))"
   ]
  },
  {
   "cell_type": "code",
   "execution_count": 5,
   "id": "9765b149e114ec3f",
   "metadata": {
    "ExecuteTime": {
     "end_time": "2024-05-08T20:30:50.069368Z",
     "start_time": "2024-05-08T20:29:22.152386Z"
    }
   },
   "outputs": [],
   "source": [
    "train_ds = DataBlock(\n",
    "    blocks=(ImageBlock, CategoryBlock),  # La entrada es un bloque de imagenes, y la salida, categorias\n",
    "    get_items=get_image_files,  # Utilizamos el mñetodo get_image_files proporcionado en el Notebook\n",
    "    get_y=binary_label_train,  # Las etiquetas son especificadas como contenido del dataset en si\n",
    "    item_tfms=[Resize(IMAGE_RESIZE, method=RESIZE_METHOD)],  # Redimensionado\n",
    "    batch_tfms=Normalize.from_stats(*imagenet_stats)\n",
    ").dataloaders(\"binAUG/train\", bs=BATCH_SIZE)"
   ]
  },
  {
   "cell_type": "code",
   "execution_count": 6,
   "id": "fc657528",
   "metadata": {},
   "outputs": [],
   "source": [
    "valid_ds = DataBlock(\n",
    "    blocks=(ImageBlock, CategoryBlock),  # La entrada es un bloque de imagenes, y la salida, categorias\n",
    "    get_items=get_image_files,  # Utilizamos el mñetodo get_image_files proporcionado en el Notebook\n",
    "    get_y=binary_label_valid,  # Las etiquetas son especificadas como contenido del dataset en si\n",
    "    item_tfms=[Resize(IMAGE_RESIZE, method=RESIZE_METHOD)],  # Redimensionado\n",
    "    batch_tfms=Normalize.from_stats(*imagenet_stats)\n",
    ").dataloaders(\"binAUG/valid\", bs=BATCH_SIZE)"
   ]
  },
  {
   "cell_type": "markdown",
   "id": "b5e48ec6",
   "metadata": {},
   "source": [
    "Ahora, construimos un objeto dataloaders y creamos el objeto final apto para entrenamiento"
   ]
  },
  {
   "cell_type": "code",
   "execution_count": 7,
   "id": "2d14e9c9",
   "metadata": {},
   "outputs": [],
   "source": [
    "dataset = DataLoaders(train_ds, valid_ds)"
   ]
  },
  {
   "cell_type": "code",
   "execution_count": 8,
   "id": "9765657b0e253ba1",
   "metadata": {
    "ExecuteTime": {
     "end_time": "2024-05-08T20:30:51.248073Z",
     "start_time": "2024-05-08T20:30:50.070382Z"
    }
   },
   "outputs": [
    {
     "data": {
      "text/html": [
       "\n",
       "<style>\n",
       "    /* Turns off some styling */\n",
       "    progress {\n",
       "        /* gets rid of default border in Firefox and Opera. */\n",
       "        border: none;\n",
       "        /* Needs to be in here for Safari polyfill so background images work as expected. */\n",
       "        background-size: auto;\n",
       "    }\n",
       "    progress:not([value]), progress:not([value])::-webkit-progress-bar {\n",
       "        background: repeating-linear-gradient(45deg, #7e7e7e, #7e7e7e 10px, #5c5c5c 10px, #5c5c5c 20px);\n",
       "    }\n",
       "    .progress-bar-interrupted, .progress-bar-interrupted::-webkit-progress-bar {\n",
       "        background: #F44336;\n",
       "    }\n",
       "</style>\n"
      ],
      "text/plain": [
       "<IPython.core.display.HTML object>"
      ]
     },
     "metadata": {},
     "output_type": "display_data"
    },
    {
     "data": {
      "text/html": [],
      "text/plain": [
       "<IPython.core.display.HTML object>"
      ]
     },
     "metadata": {},
     "output_type": "display_data"
    },
    {
     "name": "stderr",
     "output_type": "stream",
     "text": [
      "/home/cristhian/anaconda3/lib/python3.11/site-packages/torch/nn/modules/conv.py:456: UserWarning: Plan failed with a cudnnException: CUDNN_BACKEND_EXECUTION_PLAN_DESCRIPTOR: cudnnFinalize Descriptor Failed cudnn_status: CUDNN_STATUS_NOT_SUPPORTED (Triggered internally at /opt/conda/conda-bld/pytorch_1712608853099/work/aten/src/ATen/native/cudnn/Conv_v8.cpp:919.)\n",
      "  return F.conv2d(input, weight, bias, self.stride,\n"
     ]
    },
    {
     "name": "stdout",
     "output_type": "stream",
     "text": [
      "Sequential (Input shape: 16 x 3 x 386 x 386)\n",
      "============================================================================\n",
      "Layer (type)         Output Shape         Param #    Trainable \n",
      "============================================================================\n",
      "                     16 x 64 x 193 x 193 \n",
      "Conv2d                                    9408       False     \n",
      "BatchNorm2d                               128        True      \n",
      "ReLU                                                           \n",
      "____________________________________________________________________________\n",
      "                     16 x 64 x 97 x 97   \n",
      "MaxPool2d                                                      \n",
      "Conv2d                                    4096       False     \n",
      "BatchNorm2d                               128        True      \n",
      "ReLU                                                           \n",
      "Conv2d                                    36864      False     \n",
      "BatchNorm2d                               128        True      \n",
      "Identity                                                       \n",
      "ReLU                                                           \n",
      "Identity                                                       \n",
      "____________________________________________________________________________\n",
      "                     16 x 256 x 97 x 97  \n",
      "Conv2d                                    16384      False     \n",
      "BatchNorm2d                               512        True      \n",
      "ReLU                                                           \n",
      "Conv2d                                    16384      False     \n",
      "BatchNorm2d                               512        True      \n",
      "____________________________________________________________________________\n",
      "                     16 x 64 x 97 x 97   \n",
      "Conv2d                                    16384      False     \n",
      "BatchNorm2d                               128        True      \n",
      "ReLU                                                           \n",
      "Conv2d                                    36864      False     \n",
      "BatchNorm2d                               128        True      \n",
      "Identity                                                       \n",
      "ReLU                                                           \n",
      "Identity                                                       \n",
      "____________________________________________________________________________\n",
      "                     16 x 256 x 97 x 97  \n",
      "Conv2d                                    16384      False     \n",
      "BatchNorm2d                               512        True      \n",
      "ReLU                                                           \n",
      "____________________________________________________________________________\n",
      "                     16 x 64 x 97 x 97   \n",
      "Conv2d                                    16384      False     \n",
      "BatchNorm2d                               128        True      \n",
      "ReLU                                                           \n",
      "Conv2d                                    36864      False     \n",
      "BatchNorm2d                               128        True      \n",
      "Identity                                                       \n",
      "ReLU                                                           \n",
      "Identity                                                       \n",
      "____________________________________________________________________________\n",
      "                     16 x 256 x 97 x 97  \n",
      "Conv2d                                    16384      False     \n",
      "BatchNorm2d                               512        True      \n",
      "ReLU                                                           \n",
      "____________________________________________________________________________\n",
      "                     16 x 128 x 97 x 97  \n",
      "Conv2d                                    32768      False     \n",
      "BatchNorm2d                               256        True      \n",
      "ReLU                                                           \n",
      "____________________________________________________________________________\n",
      "                     16 x 128 x 49 x 49  \n",
      "Conv2d                                    147456     False     \n",
      "BatchNorm2d                               256        True      \n",
      "Identity                                                       \n",
      "ReLU                                                           \n",
      "Identity                                                       \n",
      "____________________________________________________________________________\n",
      "                     16 x 512 x 49 x 49  \n",
      "Conv2d                                    65536      False     \n",
      "BatchNorm2d                               1024       True      \n",
      "ReLU                                                           \n",
      "Conv2d                                    131072     False     \n",
      "BatchNorm2d                               1024       True      \n",
      "____________________________________________________________________________\n",
      "                     16 x 128 x 49 x 49  \n",
      "Conv2d                                    65536      False     \n",
      "BatchNorm2d                               256        True      \n",
      "ReLU                                                           \n",
      "Conv2d                                    147456     False     \n",
      "BatchNorm2d                               256        True      \n",
      "Identity                                                       \n",
      "ReLU                                                           \n",
      "Identity                                                       \n",
      "____________________________________________________________________________\n",
      "                     16 x 512 x 49 x 49  \n",
      "Conv2d                                    65536      False     \n",
      "BatchNorm2d                               1024       True      \n",
      "ReLU                                                           \n",
      "____________________________________________________________________________\n",
      "                     16 x 128 x 49 x 49  \n",
      "Conv2d                                    65536      False     \n",
      "BatchNorm2d                               256        True      \n",
      "ReLU                                                           \n",
      "Conv2d                                    147456     False     \n",
      "BatchNorm2d                               256        True      \n",
      "Identity                                                       \n",
      "ReLU                                                           \n",
      "Identity                                                       \n",
      "____________________________________________________________________________\n",
      "                     16 x 512 x 49 x 49  \n",
      "Conv2d                                    65536      False     \n",
      "BatchNorm2d                               1024       True      \n",
      "ReLU                                                           \n",
      "____________________________________________________________________________\n",
      "                     16 x 128 x 49 x 49  \n",
      "Conv2d                                    65536      False     \n",
      "BatchNorm2d                               256        True      \n",
      "ReLU                                                           \n",
      "Conv2d                                    147456     False     \n",
      "BatchNorm2d                               256        True      \n",
      "Identity                                                       \n",
      "ReLU                                                           \n",
      "Identity                                                       \n",
      "____________________________________________________________________________\n",
      "                     16 x 512 x 49 x 49  \n",
      "Conv2d                                    65536      False     \n",
      "BatchNorm2d                               1024       True      \n",
      "ReLU                                                           \n",
      "____________________________________________________________________________\n",
      "                     16 x 256 x 49 x 49  \n",
      "Conv2d                                    131072     False     \n",
      "BatchNorm2d                               512        True      \n",
      "ReLU                                                           \n",
      "____________________________________________________________________________\n",
      "                     16 x 256 x 25 x 25  \n",
      "Conv2d                                    589824     False     \n",
      "BatchNorm2d                               512        True      \n",
      "Identity                                                       \n",
      "ReLU                                                           \n",
      "Identity                                                       \n",
      "____________________________________________________________________________\n",
      "                     16 x 1024 x 25 x 25 \n",
      "Conv2d                                    262144     False     \n",
      "BatchNorm2d                               2048       True      \n",
      "ReLU                                                           \n",
      "Conv2d                                    524288     False     \n",
      "BatchNorm2d                               2048       True      \n",
      "____________________________________________________________________________\n",
      "                     16 x 256 x 25 x 25  \n",
      "Conv2d                                    262144     False     \n",
      "BatchNorm2d                               512        True      \n",
      "ReLU                                                           \n",
      "Conv2d                                    589824     False     \n",
      "BatchNorm2d                               512        True      \n",
      "Identity                                                       \n",
      "ReLU                                                           \n",
      "Identity                                                       \n",
      "____________________________________________________________________________\n",
      "                     16 x 1024 x 25 x 25 \n",
      "Conv2d                                    262144     False     \n",
      "BatchNorm2d                               2048       True      \n",
      "ReLU                                                           \n",
      "____________________________________________________________________________\n",
      "                     16 x 256 x 25 x 25  \n",
      "Conv2d                                    262144     False     \n",
      "BatchNorm2d                               512        True      \n",
      "ReLU                                                           \n",
      "Conv2d                                    589824     False     \n",
      "BatchNorm2d                               512        True      \n",
      "Identity                                                       \n",
      "ReLU                                                           \n",
      "Identity                                                       \n",
      "____________________________________________________________________________\n",
      "                     16 x 1024 x 25 x 25 \n",
      "Conv2d                                    262144     False     \n",
      "BatchNorm2d                               2048       True      \n",
      "ReLU                                                           \n",
      "____________________________________________________________________________\n",
      "                     16 x 256 x 25 x 25  \n",
      "Conv2d                                    262144     False     \n",
      "BatchNorm2d                               512        True      \n",
      "ReLU                                                           \n",
      "Conv2d                                    589824     False     \n",
      "BatchNorm2d                               512        True      \n",
      "Identity                                                       \n",
      "ReLU                                                           \n",
      "Identity                                                       \n",
      "____________________________________________________________________________\n",
      "                     16 x 1024 x 25 x 25 \n",
      "Conv2d                                    262144     False     \n",
      "BatchNorm2d                               2048       True      \n",
      "ReLU                                                           \n",
      "____________________________________________________________________________\n",
      "                     16 x 256 x 25 x 25  \n",
      "Conv2d                                    262144     False     \n",
      "BatchNorm2d                               512        True      \n",
      "ReLU                                                           \n",
      "Conv2d                                    589824     False     \n",
      "BatchNorm2d                               512        True      \n",
      "Identity                                                       \n",
      "ReLU                                                           \n",
      "Identity                                                       \n",
      "____________________________________________________________________________\n",
      "                     16 x 1024 x 25 x 25 \n",
      "Conv2d                                    262144     False     \n",
      "BatchNorm2d                               2048       True      \n",
      "ReLU                                                           \n",
      "____________________________________________________________________________\n",
      "                     16 x 256 x 25 x 25  \n",
      "Conv2d                                    262144     False     \n",
      "BatchNorm2d                               512        True      \n",
      "ReLU                                                           \n",
      "Conv2d                                    589824     False     \n",
      "BatchNorm2d                               512        True      \n",
      "Identity                                                       \n",
      "ReLU                                                           \n",
      "Identity                                                       \n",
      "____________________________________________________________________________\n",
      "                     16 x 1024 x 25 x 25 \n",
      "Conv2d                                    262144     False     \n",
      "BatchNorm2d                               2048       True      \n",
      "ReLU                                                           \n",
      "____________________________________________________________________________\n",
      "                     16 x 512 x 25 x 25  \n",
      "Conv2d                                    524288     False     \n",
      "BatchNorm2d                               1024       True      \n",
      "ReLU                                                           \n",
      "____________________________________________________________________________\n",
      "                     16 x 512 x 13 x 13  \n",
      "Conv2d                                    2359296    False     \n",
      "BatchNorm2d                               1024       True      \n",
      "Identity                                                       \n",
      "ReLU                                                           \n",
      "Identity                                                       \n",
      "____________________________________________________________________________\n",
      "                     16 x 2048 x 13 x 13 \n",
      "Conv2d                                    1048576    False     \n",
      "BatchNorm2d                               4096       True      \n",
      "ReLU                                                           \n",
      "Conv2d                                    2097152    False     \n",
      "BatchNorm2d                               4096       True      \n",
      "____________________________________________________________________________\n",
      "                     16 x 512 x 13 x 13  \n",
      "Conv2d                                    1048576    False     \n",
      "BatchNorm2d                               1024       True      \n",
      "ReLU                                                           \n",
      "Conv2d                                    2359296    False     \n",
      "BatchNorm2d                               1024       True      \n",
      "Identity                                                       \n",
      "ReLU                                                           \n",
      "Identity                                                       \n",
      "____________________________________________________________________________\n",
      "                     16 x 2048 x 13 x 13 \n",
      "Conv2d                                    1048576    False     \n",
      "BatchNorm2d                               4096       True      \n",
      "ReLU                                                           \n",
      "____________________________________________________________________________\n",
      "                     16 x 512 x 13 x 13  \n",
      "Conv2d                                    1048576    False     \n",
      "BatchNorm2d                               1024       True      \n",
      "ReLU                                                           \n",
      "Conv2d                                    2359296    False     \n",
      "BatchNorm2d                               1024       True      \n",
      "Identity                                                       \n",
      "ReLU                                                           \n",
      "Identity                                                       \n",
      "____________________________________________________________________________\n",
      "                     16 x 2048 x 13 x 13 \n",
      "Conv2d                                    1048576    False     \n",
      "BatchNorm2d                               4096       True      \n",
      "ReLU                                                           \n",
      "____________________________________________________________________________\n",
      "                     16 x 2048 x 1 x 1   \n",
      "AdaptiveAvgPool2d                                              \n",
      "AdaptiveMaxPool2d                                              \n",
      "____________________________________________________________________________\n",
      "                     16 x 4096           \n",
      "Flatten                                                        \n",
      "BatchNorm1d                               8192       True      \n",
      "Dropout                                                        \n",
      "____________________________________________________________________________\n",
      "                     16 x 512            \n",
      "Linear                                    2097152    True      \n",
      "ReLU                                                           \n",
      "BatchNorm1d                               1024       True      \n",
      "Dropout                                                        \n",
      "____________________________________________________________________________\n",
      "                     16 x 2              \n",
      "Linear                                    1024       True      \n",
      "____________________________________________________________________________\n",
      "\n",
      "Total params: 25,615,424\n",
      "Total trainable params: 2,160,512\n",
      "Total non-trainable params: 23,454,912\n",
      "\n",
      "Optimizer used: <function Adam at 0x7f2f45f0f060>\n",
      "Loss function: FlattenedLoss of CrossEntropyLoss()\n",
      "\n",
      "Model frozen up to parameter group #1\n",
      "\n",
      "Callbacks:\n",
      "  - TrainEvalCallback\n",
      "  - CastToTensor\n",
      "  - Recorder\n",
      "  - ProgressCallback\n"
     ]
    }
   ],
   "source": [
    "resnet50 = vision_learner(train_ds, 'resnet50', loss_func=LOSS_FUNC, metrics=METRICS, pretrained=True)\n",
    "print(resnet50.summary())"
   ]
  },
  {
   "cell_type": "code",
   "execution_count": 9,
   "id": "9c33d939a49148a1",
   "metadata": {
    "ExecuteTime": {
     "end_time": "2024-05-08T20:31:07.380250Z",
     "start_time": "2024-05-08T20:30:51.250228Z"
    }
   },
   "outputs": [
    {
     "data": {
      "text/html": [
       "\n",
       "<style>\n",
       "    /* Turns off some styling */\n",
       "    progress {\n",
       "        /* gets rid of default border in Firefox and Opera. */\n",
       "        border: none;\n",
       "        /* Needs to be in here for Safari polyfill so background images work as expected. */\n",
       "        background-size: auto;\n",
       "    }\n",
       "    progress:not([value]), progress:not([value])::-webkit-progress-bar {\n",
       "        background: repeating-linear-gradient(45deg, #7e7e7e, #7e7e7e 10px, #5c5c5c 10px, #5c5c5c 20px);\n",
       "    }\n",
       "    .progress-bar-interrupted, .progress-bar-interrupted::-webkit-progress-bar {\n",
       "        background: #F44336;\n",
       "    }\n",
       "</style>\n"
      ],
      "text/plain": [
       "<IPython.core.display.HTML object>"
      ]
     },
     "metadata": {},
     "output_type": "display_data"
    },
    {
     "data": {
      "text/html": [],
      "text/plain": [
       "<IPython.core.display.HTML object>"
      ]
     },
     "metadata": {},
     "output_type": "display_data"
    },
    {
     "data": {
      "image/png": "[encoded data removed]",
      "text/plain": [
       "<Figure size 640x480 with 1 Axes>"
      ]
     },
     "metadata": {},
     "output_type": "display_data"
    }
   ],
   "source": [
    "lrs = resnet50.lr_find()"
   ]
  },
  {
   "cell_type": "code",
   "execution_count": 10,
   "id": "a576da9a3dc3acfb",
   "metadata": {
    "ExecuteTime": {
     "end_time": "2024-05-08T20:37:51.424514Z",
     "start_time": "2024-05-08T20:31:07.383910Z"
    }
   },
   "outputs": [],
   "source": [
    "# Creamos callbacks para el modelo\n",
    "early_stopping = EarlyStoppingCallback(monitor='valid_loss', patience=EARLY_STOP_PATIENCE)\n",
    "save_callback = SaveModelCallback(monitor='valid_loss', fname='best_model_augmented')\n",
    "callbacks = [early_stopping, save_callback,ShowGraphCallback]\n"
   ]
  },
  {
   "cell_type": "markdown",
   "id": "c88c44fe",
   "metadata": {},
   "source": [
    "Procedemos a realizar el finetuning. Para ello, primero se entrenará solo la head de la red, y posteriormente, la red en su conjunto. Se usará early stopping con patience=3"
   ]
  },
  {
   "cell_type": "code",
   "execution_count": 11,
   "id": "a654a9f6",
   "metadata": {},
   "outputs": [
    {
     "data": {
      "text/html": [
       "\n",
       "<style>\n",
       "    /* Turns off some styling */\n",
       "    progress {\n",
       "        /* gets rid of default border in Firefox and Opera. */\n",
       "        border: none;\n",
       "        /* Needs to be in here for Safari polyfill so background images work as expected. */\n",
       "        background-size: auto;\n",
       "    }\n",
       "    progress:not([value]), progress:not([value])::-webkit-progress-bar {\n",
       "        background: repeating-linear-gradient(45deg, #7e7e7e, #7e7e7e 10px, #5c5c5c 10px, #5c5c5c 20px);\n",
       "    }\n",
       "    .progress-bar-interrupted, .progress-bar-interrupted::-webkit-progress-bar {\n",
       "        background: #F44336;\n",
       "    }\n",
       "</style>\n"
      ],
      "text/plain": [
       "<IPython.core.display.HTML object>"
      ]
     },
     "metadata": {},
     "output_type": "display_data"
    },
    {
     "data": {
      "text/html": [
       "\n",
       "    <div>\n",
       "      <progress value='11' class='' max='40' style='width:300px; height:20px; vertical-align: middle;'></progress>\n",
       "      27.50% [11/40 1:23:18&lt;3:39:37]\n",
       "    </div>\n",
       "    \n",
       "<table border=\"1\" class=\"dataframe\">\n",
       "  <thead>\n",
       "    <tr style=\"text-align: left;\">\n",
       "      <th>epoch</th>\n",
       "      <th>train_loss</th>\n",
       "      <th>valid_loss</th>\n",
       "      <th>accuracy</th>\n",
       "      <th>balanced_accuracy_score</th>\n",
       "      <th>error_rate</th>\n",
       "      <th>recall_score</th>\n",
       "      <th>precision_score</th>\n",
       "      <th>time</th>\n",
       "    </tr>\n",
       "  </thead>\n",
       "  <tbody>\n",
       "    <tr>\n",
       "      <td>0</td>\n",
       "      <td>0.625073</td>\n",
       "      <td>0.426648</td>\n",
       "      <td>0.818546</td>\n",
       "      <td>0.812271</td>\n",
       "      <td>0.181454</td>\n",
       "      <td>0.752279</td>\n",
       "      <td>0.826810</td>\n",
       "      <td>08:18</td>\n",
       "    </tr>\n",
       "    <tr>\n",
       "      <td>1</td>\n",
       "      <td>0.579607</td>\n",
       "      <td>0.394189</td>\n",
       "      <td>0.831716</td>\n",
       "      <td>0.824325</td>\n",
       "      <td>0.168284</td>\n",
       "      <td>0.753656</td>\n",
       "      <td>0.853331</td>\n",
       "      <td>08:06</td>\n",
       "    </tr>\n",
       "    <tr>\n",
       "      <td>2</td>\n",
       "      <td>0.608216</td>\n",
       "      <td>0.387255</td>\n",
       "      <td>0.836799</td>\n",
       "      <td>0.827672</td>\n",
       "      <td>0.163201</td>\n",
       "      <td>0.740409</td>\n",
       "      <td>0.875865</td>\n",
       "      <td>07:47</td>\n",
       "    </tr>\n",
       "    <tr>\n",
       "      <td>3</td>\n",
       "      <td>0.510384</td>\n",
       "      <td>0.365335</td>\n",
       "      <td>0.840188</td>\n",
       "      <td>0.837940</td>\n",
       "      <td>0.159812</td>\n",
       "      <td>0.816446</td>\n",
       "      <td>0.824818</td>\n",
       "      <td>07:33</td>\n",
       "    </tr>\n",
       "    <tr>\n",
       "      <td>4</td>\n",
       "      <td>0.495390</td>\n",
       "      <td>0.355338</td>\n",
       "      <td>0.846041</td>\n",
       "      <td>0.837147</td>\n",
       "      <td>0.153959</td>\n",
       "      <td>0.752107</td>\n",
       "      <td>0.886815</td>\n",
       "      <td>07:43</td>\n",
       "    </tr>\n",
       "    <tr>\n",
       "      <td>5</td>\n",
       "      <td>0.440031</td>\n",
       "      <td>0.338864</td>\n",
       "      <td>0.848583</td>\n",
       "      <td>0.842396</td>\n",
       "      <td>0.151417</td>\n",
       "      <td>0.783244</td>\n",
       "      <td>0.865754</td>\n",
       "      <td>07:44</td>\n",
       "    </tr>\n",
       "    <tr>\n",
       "      <td>6</td>\n",
       "      <td>0.433418</td>\n",
       "      <td>0.330436</td>\n",
       "      <td>0.851972</td>\n",
       "      <td>0.847093</td>\n",
       "      <td>0.148028</td>\n",
       "      <td>0.800447</td>\n",
       "      <td>0.859280</td>\n",
       "      <td>07:30</td>\n",
       "    </tr>\n",
       "    <tr>\n",
       "      <td>7</td>\n",
       "      <td>0.393725</td>\n",
       "      <td>0.323256</td>\n",
       "      <td>0.856747</td>\n",
       "      <td>0.853778</td>\n",
       "      <td>0.143253</td>\n",
       "      <td>0.825391</td>\n",
       "      <td>0.850257</td>\n",
       "      <td>07:28</td>\n",
       "    </tr>\n",
       "    <tr>\n",
       "      <td>8</td>\n",
       "      <td>0.403484</td>\n",
       "      <td>0.316067</td>\n",
       "      <td>0.860136</td>\n",
       "      <td>0.854125</td>\n",
       "      <td>0.139864</td>\n",
       "      <td>0.796663</td>\n",
       "      <td>0.879582</td>\n",
       "      <td>07:28</td>\n",
       "    </tr>\n",
       "    <tr>\n",
       "      <td>9</td>\n",
       "      <td>0.336240</td>\n",
       "      <td>0.310645</td>\n",
       "      <td>0.860521</td>\n",
       "      <td>0.855500</td>\n",
       "      <td>0.139479</td>\n",
       "      <td>0.807500</td>\n",
       "      <td>0.871519</td>\n",
       "      <td>06:53</td>\n",
       "    </tr>\n",
       "    <tr>\n",
       "      <td>10</td>\n",
       "      <td>0.368982</td>\n",
       "      <td>0.302766</td>\n",
       "      <td>0.863370</td>\n",
       "      <td>0.858373</td>\n",
       "      <td>0.136630</td>\n",
       "      <td>0.810597</td>\n",
       "      <td>0.875023</td>\n",
       "      <td>06:38</td>\n",
       "    </tr>\n",
       "  </tbody>\n",
       "</table><p>\n",
       "\n",
       "    <div>\n",
       "      <progress value='1662' class='' max='3246' style='width:300px; height:20px; vertical-align: middle;'></progress>\n",
       "      51.20% [1662/3246 03:07&lt;02:59 0.3631]\n",
       "    </div>\n",
       "    "
      ],
      "text/plain": [
       "<IPython.core.display.HTML object>"
      ]
     },
     "metadata": {},
     "output_type": "display_data"
    },
    {
     "name": "stdout",
     "output_type": "stream",
     "text": [
      "Better model found at epoch 0 with valid_loss value: 0.4266480505466461.\n"
     ]
    },
    {
     "data": {
      "image/png": "[encoded data removed]",
      "text/plain": [
       "<Figure size 600x400 with 1 Axes>"
      ]
     },
     "metadata": {},
     "output_type": "display_data"
    },
    {
     "name": "stdout",
     "output_type": "stream",
     "text": [
      "Better model found at epoch 1 with valid_loss value: 0.39418861269950867.\n",
      "Better model found at epoch 2 with valid_loss value: 0.38725459575653076.\n",
      "Better model found at epoch 3 with valid_loss value: 0.36533477902412415.\n",
      "Better model found at epoch 4 with valid_loss value: 0.3553382158279419.\n",
      "Better model found at epoch 5 with valid_loss value: 0.33886444568634033.\n",
      "Better model found at epoch 6 with valid_loss value: 0.33043619990348816.\n",
      "Better model found at epoch 7 with valid_loss value: 0.3232555091381073.\n",
      "Better model found at epoch 8 with valid_loss value: 0.31606706976890564.\n",
      "Better model found at epoch 9 with valid_loss value: 0.3106450140476227.\n",
      "Better model found at epoch 10 with valid_loss value: 0.3027655780315399.\n"
     ]
    },
    {
     "ename": "KeyboardInterrupt",
     "evalue": "",
     "output_type": "error",
     "traceback": [
      "\u001b[0;31m---------------------------------------------------------------------------\u001b[0m",
      "\u001b[0;31mKeyboardInterrupt\u001b[0m                         Traceback (most recent call last)",
      "Cell \u001b[0;32mIn[11], line 9\u001b[0m\n\u001b[1;32m      7\u001b[0m \u001b[38;5;66;03m# Congelamos\u001b[39;00m\n\u001b[1;32m      8\u001b[0m resnet50\u001b[38;5;241m.\u001b[39mfreeze()\n\u001b[0;32m----> 9\u001b[0m resnet50\u001b[38;5;241m.\u001b[39mfit_one_cycle(FREEZE_EPOCHS, lrs[\u001b[38;5;241m0\u001b[39m], pct_start\u001b[38;5;241m=\u001b[39m\u001b[38;5;241m0.99\u001b[39m, cbs\u001b[38;5;241m=\u001b[39m callbacks)\n",
      "File \u001b[0;32m~/anaconda3/lib/python3.11/site-packages/fastai/callback/schedule.py:119\u001b[0m, in \u001b[0;36mfit_one_cycle\u001b[0;34m(self, n_epoch, lr_max, div, div_final, pct_start, wd, moms, cbs, reset_opt, start_epoch)\u001b[0m\n\u001b[1;32m    116\u001b[0m lr_max \u001b[38;5;241m=\u001b[39m np\u001b[38;5;241m.\u001b[39marray([h[\u001b[38;5;124m'\u001b[39m\u001b[38;5;124mlr\u001b[39m\u001b[38;5;124m'\u001b[39m] \u001b[38;5;28;01mfor\u001b[39;00m h \u001b[38;5;129;01min\u001b[39;00m \u001b[38;5;28mself\u001b[39m\u001b[38;5;241m.\u001b[39mopt\u001b[38;5;241m.\u001b[39mhypers])\n\u001b[1;32m    117\u001b[0m scheds \u001b[38;5;241m=\u001b[39m {\u001b[38;5;124m'\u001b[39m\u001b[38;5;124mlr\u001b[39m\u001b[38;5;124m'\u001b[39m: combined_cos(pct_start, lr_max\u001b[38;5;241m/\u001b[39mdiv, lr_max, lr_max\u001b[38;5;241m/\u001b[39mdiv_final),\n\u001b[1;32m    118\u001b[0m           \u001b[38;5;124m'\u001b[39m\u001b[38;5;124mmom\u001b[39m\u001b[38;5;124m'\u001b[39m: combined_cos(pct_start, \u001b[38;5;241m*\u001b[39m(\u001b[38;5;28mself\u001b[39m\u001b[38;5;241m.\u001b[39mmoms \u001b[38;5;28;01mif\u001b[39;00m moms \u001b[38;5;129;01mis\u001b[39;00m \u001b[38;5;28;01mNone\u001b[39;00m \u001b[38;5;28;01melse\u001b[39;00m moms))}\n\u001b[0;32m--> 119\u001b[0m \u001b[38;5;28mself\u001b[39m\u001b[38;5;241m.\u001b[39mfit(n_epoch, cbs\u001b[38;5;241m=\u001b[39mParamScheduler(scheds)\u001b[38;5;241m+\u001b[39mL(cbs), reset_opt\u001b[38;5;241m=\u001b[39mreset_opt, wd\u001b[38;5;241m=\u001b[39mwd, start_epoch\u001b[38;5;241m=\u001b[39mstart_epoch)\n",
      "File \u001b[0;32m~/anaconda3/lib/python3.11/site-packages/fastai/learner.py:264\u001b[0m, in \u001b[0;36mLearner.fit\u001b[0;34m(self, n_epoch, lr, wd, cbs, reset_opt, start_epoch)\u001b[0m\n\u001b[1;32m    262\u001b[0m \u001b[38;5;28mself\u001b[39m\u001b[38;5;241m.\u001b[39mopt\u001b[38;5;241m.\u001b[39mset_hypers(lr\u001b[38;5;241m=\u001b[39m\u001b[38;5;28mself\u001b[39m\u001b[38;5;241m.\u001b[39mlr \u001b[38;5;28;01mif\u001b[39;00m lr \u001b[38;5;129;01mis\u001b[39;00m \u001b[38;5;28;01mNone\u001b[39;00m \u001b[38;5;28;01melse\u001b[39;00m lr)\n\u001b[1;32m    263\u001b[0m \u001b[38;5;28mself\u001b[39m\u001b[38;5;241m.\u001b[39mn_epoch \u001b[38;5;241m=\u001b[39m n_epoch\n\u001b[0;32m--> 264\u001b[0m \u001b[38;5;28mself\u001b[39m\u001b[38;5;241m.\u001b[39m_with_events(\u001b[38;5;28mself\u001b[39m\u001b[38;5;241m.\u001b[39m_do_fit, \u001b[38;5;124m'\u001b[39m\u001b[38;5;124mfit\u001b[39m\u001b[38;5;124m'\u001b[39m, CancelFitException, \u001b[38;5;28mself\u001b[39m\u001b[38;5;241m.\u001b[39m_end_cleanup)\n",
      "File \u001b[0;32m~/anaconda3/lib/python3.11/site-packages/fastai/learner.py:199\u001b[0m, in \u001b[0;36mLearner._with_events\u001b[0;34m(self, f, event_type, ex, final)\u001b[0m\n\u001b[1;32m    198\u001b[0m \u001b[38;5;28;01mdef\u001b[39;00m \u001b[38;5;21m_with_events\u001b[39m(\u001b[38;5;28mself\u001b[39m, f, event_type, ex, final\u001b[38;5;241m=\u001b[39mnoop):\n\u001b[0;32m--> 199\u001b[0m     \u001b[38;5;28;01mtry\u001b[39;00m: \u001b[38;5;28mself\u001b[39m(\u001b[38;5;124mf\u001b[39m\u001b[38;5;124m'\u001b[39m\u001b[38;5;124mbefore_\u001b[39m\u001b[38;5;132;01m{\u001b[39;00mevent_type\u001b[38;5;132;01m}\u001b[39;00m\u001b[38;5;124m'\u001b[39m);  f()\n\u001b[1;32m    200\u001b[0m     \u001b[38;5;28;01mexcept\u001b[39;00m ex: \u001b[38;5;28mself\u001b[39m(\u001b[38;5;124mf\u001b[39m\u001b[38;5;124m'\u001b[39m\u001b[38;5;124mafter_cancel_\u001b[39m\u001b[38;5;132;01m{\u001b[39;00mevent_type\u001b[38;5;132;01m}\u001b[39;00m\u001b[38;5;124m'\u001b[39m)\n\u001b[1;32m    201\u001b[0m     \u001b[38;5;28mself\u001b[39m(\u001b[38;5;124mf\u001b[39m\u001b[38;5;124m'\u001b[39m\u001b[38;5;124mafter_\u001b[39m\u001b[38;5;132;01m{\u001b[39;00mevent_type\u001b[38;5;132;01m}\u001b[39;00m\u001b[38;5;124m'\u001b[39m);  final()\n",
      "File \u001b[0;32m~/anaconda3/lib/python3.11/site-packages/fastai/learner.py:253\u001b[0m, in \u001b[0;36mLearner._do_fit\u001b[0;34m(self)\u001b[0m\n\u001b[1;32m    251\u001b[0m \u001b[38;5;28;01mfor\u001b[39;00m epoch \u001b[38;5;129;01min\u001b[39;00m \u001b[38;5;28mrange\u001b[39m(\u001b[38;5;28mself\u001b[39m\u001b[38;5;241m.\u001b[39mn_epoch):\n\u001b[1;32m    252\u001b[0m     \u001b[38;5;28mself\u001b[39m\u001b[38;5;241m.\u001b[39mepoch\u001b[38;5;241m=\u001b[39mepoch\n\u001b[0;32m--> 253\u001b[0m     \u001b[38;5;28mself\u001b[39m\u001b[38;5;241m.\u001b[39m_with_events(\u001b[38;5;28mself\u001b[39m\u001b[38;5;241m.\u001b[39m_do_epoch, \u001b[38;5;124m'\u001b[39m\u001b[38;5;124mepoch\u001b[39m\u001b[38;5;124m'\u001b[39m, CancelEpochException)\n",
      "File \u001b[0;32m~/anaconda3/lib/python3.11/site-packages/fastai/learner.py:199\u001b[0m, in \u001b[0;36mLearner._with_events\u001b[0;34m(self, f, event_type, ex, final)\u001b[0m\n\u001b[1;32m    198\u001b[0m \u001b[38;5;28;01mdef\u001b[39;00m \u001b[38;5;21m_with_events\u001b[39m(\u001b[38;5;28mself\u001b[39m, f, event_type, ex, final\u001b[38;5;241m=\u001b[39mnoop):\n\u001b[0;32m--> 199\u001b[0m     \u001b[38;5;28;01mtry\u001b[39;00m: \u001b[38;5;28mself\u001b[39m(\u001b[38;5;124mf\u001b[39m\u001b[38;5;124m'\u001b[39m\u001b[38;5;124mbefore_\u001b[39m\u001b[38;5;132;01m{\u001b[39;00mevent_type\u001b[38;5;132;01m}\u001b[39;00m\u001b[38;5;124m'\u001b[39m);  f()\n\u001b[1;32m    200\u001b[0m     \u001b[38;5;28;01mexcept\u001b[39;00m ex: \u001b[38;5;28mself\u001b[39m(\u001b[38;5;124mf\u001b[39m\u001b[38;5;124m'\u001b[39m\u001b[38;5;124mafter_cancel_\u001b[39m\u001b[38;5;132;01m{\u001b[39;00mevent_type\u001b[38;5;132;01m}\u001b[39;00m\u001b[38;5;124m'\u001b[39m)\n\u001b[1;32m    201\u001b[0m     \u001b[38;5;28mself\u001b[39m(\u001b[38;5;124mf\u001b[39m\u001b[38;5;124m'\u001b[39m\u001b[38;5;124mafter_\u001b[39m\u001b[38;5;132;01m{\u001b[39;00mevent_type\u001b[38;5;132;01m}\u001b[39;00m\u001b[38;5;124m'\u001b[39m);  final()\n",
      "File \u001b[0;32m~/anaconda3/lib/python3.11/site-packages/fastai/learner.py:247\u001b[0m, in \u001b[0;36mLearner._do_epoch\u001b[0;34m(self)\u001b[0m\n\u001b[1;32m    246\u001b[0m \u001b[38;5;28;01mdef\u001b[39;00m \u001b[38;5;21m_do_epoch\u001b[39m(\u001b[38;5;28mself\u001b[39m):\n\u001b[0;32m--> 247\u001b[0m     \u001b[38;5;28mself\u001b[39m\u001b[38;5;241m.\u001b[39m_do_epoch_train()\n\u001b[1;32m    248\u001b[0m     \u001b[38;5;28mself\u001b[39m\u001b[38;5;241m.\u001b[39m_do_epoch_validate()\n",
      "File \u001b[0;32m~/anaconda3/lib/python3.11/site-packages/fastai/learner.py:239\u001b[0m, in \u001b[0;36mLearner._do_epoch_train\u001b[0;34m(self)\u001b[0m\n\u001b[1;32m    237\u001b[0m \u001b[38;5;28;01mdef\u001b[39;00m \u001b[38;5;21m_do_epoch_train\u001b[39m(\u001b[38;5;28mself\u001b[39m):\n\u001b[1;32m    238\u001b[0m     \u001b[38;5;28mself\u001b[39m\u001b[38;5;241m.\u001b[39mdl \u001b[38;5;241m=\u001b[39m \u001b[38;5;28mself\u001b[39m\u001b[38;5;241m.\u001b[39mdls\u001b[38;5;241m.\u001b[39mtrain\n\u001b[0;32m--> 239\u001b[0m     \u001b[38;5;28mself\u001b[39m\u001b[38;5;241m.\u001b[39m_with_events(\u001b[38;5;28mself\u001b[39m\u001b[38;5;241m.\u001b[39mall_batches, \u001b[38;5;124m'\u001b[39m\u001b[38;5;124mtrain\u001b[39m\u001b[38;5;124m'\u001b[39m, CancelTrainException)\n",
      "File \u001b[0;32m~/anaconda3/lib/python3.11/site-packages/fastai/learner.py:199\u001b[0m, in \u001b[0;36mLearner._with_events\u001b[0;34m(self, f, event_type, ex, final)\u001b[0m\n\u001b[1;32m    198\u001b[0m \u001b[38;5;28;01mdef\u001b[39;00m \u001b[38;5;21m_with_events\u001b[39m(\u001b[38;5;28mself\u001b[39m, f, event_type, ex, final\u001b[38;5;241m=\u001b[39mnoop):\n\u001b[0;32m--> 199\u001b[0m     \u001b[38;5;28;01mtry\u001b[39;00m: \u001b[38;5;28mself\u001b[39m(\u001b[38;5;124mf\u001b[39m\u001b[38;5;124m'\u001b[39m\u001b[38;5;124mbefore_\u001b[39m\u001b[38;5;132;01m{\u001b[39;00mevent_type\u001b[38;5;132;01m}\u001b[39;00m\u001b[38;5;124m'\u001b[39m);  f()\n\u001b[1;32m    200\u001b[0m     \u001b[38;5;28;01mexcept\u001b[39;00m ex: \u001b[38;5;28mself\u001b[39m(\u001b[38;5;124mf\u001b[39m\u001b[38;5;124m'\u001b[39m\u001b[38;5;124mafter_cancel_\u001b[39m\u001b[38;5;132;01m{\u001b[39;00mevent_type\u001b[38;5;132;01m}\u001b[39;00m\u001b[38;5;124m'\u001b[39m)\n\u001b[1;32m    201\u001b[0m     \u001b[38;5;28mself\u001b[39m(\u001b[38;5;124mf\u001b[39m\u001b[38;5;124m'\u001b[39m\u001b[38;5;124mafter_\u001b[39m\u001b[38;5;132;01m{\u001b[39;00mevent_type\u001b[38;5;132;01m}\u001b[39;00m\u001b[38;5;124m'\u001b[39m);  final()\n",
      "File \u001b[0;32m~/anaconda3/lib/python3.11/site-packages/fastai/learner.py:205\u001b[0m, in \u001b[0;36mLearner.all_batches\u001b[0;34m(self)\u001b[0m\n\u001b[1;32m    203\u001b[0m \u001b[38;5;28;01mdef\u001b[39;00m \u001b[38;5;21mall_batches\u001b[39m(\u001b[38;5;28mself\u001b[39m):\n\u001b[1;32m    204\u001b[0m     \u001b[38;5;28mself\u001b[39m\u001b[38;5;241m.\u001b[39mn_iter \u001b[38;5;241m=\u001b[39m \u001b[38;5;28mlen\u001b[39m(\u001b[38;5;28mself\u001b[39m\u001b[38;5;241m.\u001b[39mdl)\n\u001b[0;32m--> 205\u001b[0m     \u001b[38;5;28;01mfor\u001b[39;00m o \u001b[38;5;129;01min\u001b[39;00m \u001b[38;5;28menumerate\u001b[39m(\u001b[38;5;28mself\u001b[39m\u001b[38;5;241m.\u001b[39mdl): \u001b[38;5;28mself\u001b[39m\u001b[38;5;241m.\u001b[39mone_batch(\u001b[38;5;241m*\u001b[39mo)\n",
      "File \u001b[0;32m~/anaconda3/lib/python3.11/site-packages/fastai/learner.py:235\u001b[0m, in \u001b[0;36mLearner.one_batch\u001b[0;34m(self, i, b)\u001b[0m\n\u001b[1;32m    233\u001b[0m b \u001b[38;5;241m=\u001b[39m \u001b[38;5;28mself\u001b[39m\u001b[38;5;241m.\u001b[39m_set_device(b)\n\u001b[1;32m    234\u001b[0m \u001b[38;5;28mself\u001b[39m\u001b[38;5;241m.\u001b[39m_split(b)\n\u001b[0;32m--> 235\u001b[0m \u001b[38;5;28mself\u001b[39m\u001b[38;5;241m.\u001b[39m_with_events(\u001b[38;5;28mself\u001b[39m\u001b[38;5;241m.\u001b[39m_do_one_batch, \u001b[38;5;124m'\u001b[39m\u001b[38;5;124mbatch\u001b[39m\u001b[38;5;124m'\u001b[39m, CancelBatchException)\n",
      "File \u001b[0;32m~/anaconda3/lib/python3.11/site-packages/fastai/learner.py:199\u001b[0m, in \u001b[0;36mLearner._with_events\u001b[0;34m(self, f, event_type, ex, final)\u001b[0m\n\u001b[1;32m    198\u001b[0m \u001b[38;5;28;01mdef\u001b[39;00m \u001b[38;5;21m_with_events\u001b[39m(\u001b[38;5;28mself\u001b[39m, f, event_type, ex, final\u001b[38;5;241m=\u001b[39mnoop):\n\u001b[0;32m--> 199\u001b[0m     \u001b[38;5;28;01mtry\u001b[39;00m: \u001b[38;5;28mself\u001b[39m(\u001b[38;5;124mf\u001b[39m\u001b[38;5;124m'\u001b[39m\u001b[38;5;124mbefore_\u001b[39m\u001b[38;5;132;01m{\u001b[39;00mevent_type\u001b[38;5;132;01m}\u001b[39;00m\u001b[38;5;124m'\u001b[39m);  f()\n\u001b[1;32m    200\u001b[0m     \u001b[38;5;28;01mexcept\u001b[39;00m ex: \u001b[38;5;28mself\u001b[39m(\u001b[38;5;124mf\u001b[39m\u001b[38;5;124m'\u001b[39m\u001b[38;5;124mafter_cancel_\u001b[39m\u001b[38;5;132;01m{\u001b[39;00mevent_type\u001b[38;5;132;01m}\u001b[39;00m\u001b[38;5;124m'\u001b[39m)\n\u001b[1;32m    201\u001b[0m     \u001b[38;5;28mself\u001b[39m(\u001b[38;5;124mf\u001b[39m\u001b[38;5;124m'\u001b[39m\u001b[38;5;124mafter_\u001b[39m\u001b[38;5;132;01m{\u001b[39;00mevent_type\u001b[38;5;132;01m}\u001b[39;00m\u001b[38;5;124m'\u001b[39m);  final()\n",
      "File \u001b[0;32m~/anaconda3/lib/python3.11/site-packages/fastai/learner.py:223\u001b[0m, in \u001b[0;36mLearner._do_one_batch\u001b[0;34m(self)\u001b[0m\n\u001b[1;32m    221\u001b[0m \u001b[38;5;28mself\u001b[39m(\u001b[38;5;124m'\u001b[39m\u001b[38;5;124mafter_loss\u001b[39m\u001b[38;5;124m'\u001b[39m)\n\u001b[1;32m    222\u001b[0m \u001b[38;5;28;01mif\u001b[39;00m \u001b[38;5;129;01mnot\u001b[39;00m \u001b[38;5;28mself\u001b[39m\u001b[38;5;241m.\u001b[39mtraining \u001b[38;5;129;01mor\u001b[39;00m \u001b[38;5;129;01mnot\u001b[39;00m \u001b[38;5;28mlen\u001b[39m(\u001b[38;5;28mself\u001b[39m\u001b[38;5;241m.\u001b[39myb): \u001b[38;5;28;01mreturn\u001b[39;00m\n\u001b[0;32m--> 223\u001b[0m \u001b[38;5;28mself\u001b[39m\u001b[38;5;241m.\u001b[39m_do_grad_opt()\n",
      "File \u001b[0;32m~/anaconda3/lib/python3.11/site-packages/fastai/learner.py:212\u001b[0m, in \u001b[0;36mLearner._do_grad_opt\u001b[0;34m(self)\u001b[0m\n\u001b[1;32m    210\u001b[0m \u001b[38;5;28;01mdef\u001b[39;00m \u001b[38;5;21m_do_grad_opt\u001b[39m(\u001b[38;5;28mself\u001b[39m):\n\u001b[1;32m    211\u001b[0m     \u001b[38;5;28mself\u001b[39m\u001b[38;5;241m.\u001b[39m_with_events(\u001b[38;5;28mself\u001b[39m\u001b[38;5;241m.\u001b[39m_backward, \u001b[38;5;124m'\u001b[39m\u001b[38;5;124mbackward\u001b[39m\u001b[38;5;124m'\u001b[39m, CancelBackwardException)\n\u001b[0;32m--> 212\u001b[0m     \u001b[38;5;28mself\u001b[39m\u001b[38;5;241m.\u001b[39m_with_events(\u001b[38;5;28mself\u001b[39m\u001b[38;5;241m.\u001b[39m_step, \u001b[38;5;124m'\u001b[39m\u001b[38;5;124mstep\u001b[39m\u001b[38;5;124m'\u001b[39m, CancelStepException)\n\u001b[1;32m    213\u001b[0m     \u001b[38;5;28mself\u001b[39m\u001b[38;5;241m.\u001b[39mopt\u001b[38;5;241m.\u001b[39mzero_grad()\n",
      "File \u001b[0;32m~/anaconda3/lib/python3.11/site-packages/fastai/learner.py:199\u001b[0m, in \u001b[0;36mLearner._with_events\u001b[0;34m(self, f, event_type, ex, final)\u001b[0m\n\u001b[1;32m    198\u001b[0m \u001b[38;5;28;01mdef\u001b[39;00m \u001b[38;5;21m_with_events\u001b[39m(\u001b[38;5;28mself\u001b[39m, f, event_type, ex, final\u001b[38;5;241m=\u001b[39mnoop):\n\u001b[0;32m--> 199\u001b[0m     \u001b[38;5;28;01mtry\u001b[39;00m: \u001b[38;5;28mself\u001b[39m(\u001b[38;5;124mf\u001b[39m\u001b[38;5;124m'\u001b[39m\u001b[38;5;124mbefore_\u001b[39m\u001b[38;5;132;01m{\u001b[39;00mevent_type\u001b[38;5;132;01m}\u001b[39;00m\u001b[38;5;124m'\u001b[39m);  f()\n\u001b[1;32m    200\u001b[0m     \u001b[38;5;28;01mexcept\u001b[39;00m ex: \u001b[38;5;28mself\u001b[39m(\u001b[38;5;124mf\u001b[39m\u001b[38;5;124m'\u001b[39m\u001b[38;5;124mafter_cancel_\u001b[39m\u001b[38;5;132;01m{\u001b[39;00mevent_type\u001b[38;5;132;01m}\u001b[39;00m\u001b[38;5;124m'\u001b[39m)\n\u001b[1;32m    201\u001b[0m     \u001b[38;5;28mself\u001b[39m(\u001b[38;5;124mf\u001b[39m\u001b[38;5;124m'\u001b[39m\u001b[38;5;124mafter_\u001b[39m\u001b[38;5;132;01m{\u001b[39;00mevent_type\u001b[38;5;132;01m}\u001b[39;00m\u001b[38;5;124m'\u001b[39m);  final()\n",
      "File \u001b[0;32m~/anaconda3/lib/python3.11/site-packages/fastai/learner.py:208\u001b[0m, in \u001b[0;36mLearner._step\u001b[0;34m(self)\u001b[0m\n\u001b[0;32m--> 208\u001b[0m \u001b[38;5;28;01mdef\u001b[39;00m \u001b[38;5;21m_step\u001b[39m(\u001b[38;5;28mself\u001b[39m): \u001b[38;5;28mself\u001b[39m\u001b[38;5;241m.\u001b[39mopt\u001b[38;5;241m.\u001b[39mstep()\n",
      "File \u001b[0;32m~/anaconda3/lib/python3.11/site-packages/fastai/optimizer.py:111\u001b[0m, in \u001b[0;36mOptimizer.step\u001b[0;34m(self, closure)\u001b[0m\n\u001b[1;32m    109\u001b[0m \u001b[38;5;28;01mif\u001b[39;00m closure \u001b[38;5;129;01mis\u001b[39;00m \u001b[38;5;129;01mnot\u001b[39;00m \u001b[38;5;28;01mNone\u001b[39;00m: \u001b[38;5;28;01mraise\u001b[39;00m \u001b[38;5;167;01mNotImplementedError\u001b[39;00m(\u001b[38;5;124m\"\u001b[39m\u001b[38;5;124mfastai optimizers currently do not support closure\u001b[39m\u001b[38;5;124m\"\u001b[39m)\n\u001b[1;32m    110\u001b[0m \u001b[38;5;28;01mfor\u001b[39;00m p,pg,state,hyper \u001b[38;5;129;01min\u001b[39;00m \u001b[38;5;28mself\u001b[39m\u001b[38;5;241m.\u001b[39mall_params(with_grad\u001b[38;5;241m=\u001b[39m\u001b[38;5;28;01mTrue\u001b[39;00m):\n\u001b[0;32m--> 111\u001b[0m     \u001b[38;5;28;01mfor\u001b[39;00m cb \u001b[38;5;129;01min\u001b[39;00m \u001b[38;5;28mself\u001b[39m\u001b[38;5;241m.\u001b[39mcbs: state \u001b[38;5;241m=\u001b[39m _update(state, cb(p, \u001b[38;5;241m*\u001b[39m\u001b[38;5;241m*\u001b[39m{\u001b[38;5;241m*\u001b[39m\u001b[38;5;241m*\u001b[39mstate, \u001b[38;5;241m*\u001b[39m\u001b[38;5;241m*\u001b[39mhyper}))\n\u001b[1;32m    112\u001b[0m     \u001b[38;5;28mself\u001b[39m\u001b[38;5;241m.\u001b[39mstate[p] \u001b[38;5;241m=\u001b[39m state\n",
      "File \u001b[0;32m~/anaconda3/lib/python3.11/site-packages/fastai/optimizer.py:162\u001b[0m, in \u001b[0;36maverage_sqr_grad\u001b[0;34m(p, sqr_mom, dampening, sqr_avg, **kwargs)\u001b[0m\n\u001b[1;32m    160\u001b[0m \u001b[38;5;28;01mif\u001b[39;00m sqr_avg \u001b[38;5;129;01mis\u001b[39;00m \u001b[38;5;28;01mNone\u001b[39;00m: sqr_avg \u001b[38;5;241m=\u001b[39m torch\u001b[38;5;241m.\u001b[39mzeros_like(p\u001b[38;5;241m.\u001b[39mgrad\u001b[38;5;241m.\u001b[39mdata)\n\u001b[1;32m    161\u001b[0m damp \u001b[38;5;241m=\u001b[39m \u001b[38;5;241m1\u001b[39m\u001b[38;5;241m-\u001b[39msqr_mom \u001b[38;5;28;01mif\u001b[39;00m dampening \u001b[38;5;28;01melse\u001b[39;00m \u001b[38;5;241m1.\u001b[39m\n\u001b[0;32m--> 162\u001b[0m sqr_avg\u001b[38;5;241m.\u001b[39mmul_(sqr_mom)\u001b[38;5;241m.\u001b[39maddcmul_(p\u001b[38;5;241m.\u001b[39mgrad\u001b[38;5;241m.\u001b[39mdata, p\u001b[38;5;241m.\u001b[39mgrad\u001b[38;5;241m.\u001b[39mdata, value\u001b[38;5;241m=\u001b[39mdamp)\n\u001b[1;32m    163\u001b[0m \u001b[38;5;28;01mreturn\u001b[39;00m {\u001b[38;5;124m'\u001b[39m\u001b[38;5;124msqr_avg\u001b[39m\u001b[38;5;124m'\u001b[39m: sqr_avg}\n",
      "\u001b[0;31mKeyboardInterrupt\u001b[0m: "
     ]
    },
    {
     "data": {
      "image/png": "[encoded data removed]",
      "text/plain": [
       "<Figure size 600x400 with 1 Axes>"
      ]
     },
     "metadata": {},
     "output_type": "display_data"
    }
   ],
   "source": [
    "# FINETUNING\n",
    "## Hiperparámetros\n",
    "FREEZE_EPOCHS = 40\n",
    "lr_mult=100\n",
    "base_lr = lrs[0]/2\n",
    "\n",
    "# Congelamos\n",
    "resnet50.freeze()\n",
    "resnet50.fit_one_cycle(FREEZE_EPOCHS, lrs[0], pct_start=0.99, cbs= callbacks)"
   ]
  },
  {
   "cell_type": "code",
   "execution_count": null,
   "id": "1325924c",
   "metadata": {},
   "outputs": [],
   "source": [
    "# Descongelamos y finalizamos entrenamiento\n",
    "resnet50.unfreeze()\n",
    "resnet50.fit_one_cycle(NUM_EPOCHS, slice(base_lr/lr_mult, base_lr), cbs= callbacks)"
   ]
  },
  {
   "cell_type": "code",
   "execution_count": null,
   "id": "26325ba99c1abbca",
   "metadata": {
    "ExecuteTime": {
     "end_time": "2024-05-08T20:37:51.961079Z",
     "start_time": "2024-05-08T20:37:51.425355Z"
    }
   },
   "outputs": [],
   "source": [
    "resnet50.summary()"
   ]
  },
  {
   "cell_type": "code",
   "execution_count": null,
   "id": "3993e360a562fb33",
   "metadata": {
    "ExecuteTime": {
     "end_time": "2024-05-08T20:39:04.994693Z",
     "start_time": "2024-05-08T20:37:51.961646Z"
    }
   },
   "outputs": [],
   "source": [
    "state = torch.load('models/best_model_augmented.pth')\n",
    "preds, targets = resnet50.get_preds(ds_idx=1)  # ds_idx=1 para el conjunto de validación\n"
   ]
  },
  {
   "cell_type": "code",
   "execution_count": null,
   "id": "12d860ad53550a3c",
   "metadata": {
    "ExecuteTime": {
     "end_time": "2024-05-08T20:39:04.997050Z",
     "start_time": "2024-05-08T20:39:04.995337Z"
    }
   },
   "outputs": [],
   "source": [
    "y_true = targets.numpy()\n",
    "y_pred = preds.argmax(dim=1).numpy()  # Convierte las probabilidades en etiquetas predichas"
   ]
  },
  {
   "cell_type": "code",
   "execution_count": null,
   "id": "9f23721f92bcec5",
   "metadata": {
    "ExecuteTime": {
     "end_time": "2024-05-08T20:39:05.011466Z",
     "start_time": "2024-05-08T20:39:04.997471Z"
    }
   },
   "outputs": [],
   "source": [
    "print(classification_report(y_true, y_pred, target_names=train_ds.vocab))"
   ]
  },
  {
   "cell_type": "code",
   "execution_count": null,
   "id": "490263e851669d00",
   "metadata": {
    "ExecuteTime": {
     "end_time": "2024-05-08T20:39:05.431107Z",
     "start_time": "2024-05-08T20:39:05.011876Z"
    }
   },
   "outputs": [],
   "source": [
    "torch.save(resnet50, 'modeloentero.pth')"
   ]
  },
  {
   "cell_type": "markdown",
   "id": "f072ebea0ebebfec",
   "metadata": {},
   "source": [
    "## ONNX\n",
    "\n",
    "Convertimos al formato estándar"
   ]
  },
  {
   "cell_type": "code",
   "execution_count": null,
   "id": "eb8628420ccf5f20",
   "metadata": {
    "ExecuteTime": {
     "end_time": "2024-05-08T20:39:05.729446Z",
     "start_time": "2024-05-08T20:39:05.431931Z"
    }
   },
   "outputs": [],
   "source": [
    "resnet50.export()\n",
    "resnet50.path"
   ]
  },
  {
   "cell_type": "code",
   "execution_count": null,
   "id": "1dbfdf7ff8b11fb9",
   "metadata": {
    "ExecuteTime": {
     "end_time": "2024-05-08T20:39:05.731535Z",
     "start_time": "2024-05-08T20:39:05.730044Z"
    }
   },
   "outputs": [],
   "source": []
  },
  {
   "cell_type": "code",
   "execution_count": null,
   "id": "b9da3b35dfea8512",
   "metadata": {
    "ExecuteTime": {
     "end_time": "2024-05-08T20:39:06.135775Z",
     "start_time": "2024-05-08T20:39:05.731973Z"
    }
   },
   "outputs": [],
   "source": [
    "testmodel = torch.load('export.pkl')\n",
    "model_dict = testmodel.state_dict()\n",
    "torch.save(model_dict, 'miModelo.pth')"
   ]
  },
  {
   "cell_type": "code",
   "execution_count": null,
   "id": "73975674976fe79a",
   "metadata": {
    "ExecuteTime": {
     "end_time": "2024-05-08T20:39:06.617267Z",
     "start_time": "2024-05-08T20:39:06.136417Z"
    }
   },
   "outputs": [],
   "source": [
    "loaded_model = models.resnet50\n",
    "loaded_model = vision_learner(trainSet, 'resnet50', loss_func=LOSS_FUNC,\n",
    "                              metrics=METRICS)  # Crea un modelo vacío con la misma arquitectura\n",
    "loaded_model.load_state_dict(torch.load('miModelo.pth'))"
   ]
  },
  {
   "cell_type": "code",
   "execution_count": null,
   "id": "626ff000f0058f20",
   "metadata": {
    "ExecuteTime": {
     "end_time": "2024-05-08T20:39:06.619553Z",
     "start_time": "2024-05-08T20:39:06.617743Z"
    }
   },
   "outputs": [],
   "source": [
    "type(loaded_model)"
   ]
  },
  {
   "cell_type": "code",
   "execution_count": null,
   "id": "38b98b9a8f57b23a",
   "metadata": {
    "ExecuteTime": {
     "end_time": "2024-05-08T20:39:06.622491Z",
     "start_time": "2024-05-08T20:39:06.619974Z"
    }
   },
   "outputs": [],
   "source": [
    "class InferenceWrapper(nn.Module):\n",
    "    def __init__(self, model, normalize_mean, normalize_std, scale_inp=False, channels_last=False):\n",
    "        super().__init__()\n",
    "        self.model = model\n",
    "        self.register_buffer(\"normalize_mean\", normalize_mean)\n",
    "        self.register_buffer(\"normalize_std\", normalize_std)\n",
    "        self.scale_inp = scale_inp\n",
    "        self.channels_last = channels_last\n",
    "        self.softmax = nn.Softmax(dim=1)\n",
    "\n",
    "    def preprocess_input(self, x):\n",
    "        if self.scale_inp:\n",
    "            x = x / 255.0\n",
    "\n",
    "        if self.channels_last:\n",
    "            x = x.permute(0, 3, 1, 2)\n",
    "\n",
    "        x = (x - self.normalize_mean) / self.normalize_std\n",
    "        return x\n",
    "\n",
    "    def forward(self, x):\n",
    "        x = self.preprocess_input(x)\n",
    "        x = self.model(x)\n",
    "        x = self.softmax(x)\n",
    "        return x"
   ]
  },
  {
   "cell_type": "code",
   "execution_count": null,
   "id": "5bff991f02a48956",
   "metadata": {
    "ExecuteTime": {
     "end_time": "2024-05-08T20:39:06.624857Z",
     "start_time": "2024-05-08T20:39:06.622928Z"
    }
   },
   "outputs": [],
   "source": [
    "# Define the normalization mean and standard deviation\n",
    "\"\"\"mean_tensor = torch.tensor(imagenet_stats[0]).view(1, 3, 1, 1)\n",
    "std_tensor = torch.tensor(imagenet_stats[1]).view(1, 3, 1, 1)\n",
    "\n",
    "# Set the model to evaluation mode\n",
    "resnet50.eval()\n",
    "\n",
    "# Wrap the model with preprocessing and post-processing steps\n",
    "wrapped_model = InferenceWrapper(model,\n",
    "                                 mean_tensor,\n",
    "                                 std_tensor,\n",
    "                                 scale_inp=False,  # Scale input values from the rang [0,255] to [0,1]\n",
    "                                 channels_last=False,  # Have the model expect input in channels-last format\n",
    "                                 )\"\"\""
   ]
  },
  {
   "cell_type": "code",
   "execution_count": null,
   "id": "c4e6a50a31704f00",
   "metadata": {
    "ExecuteTime": {
     "end_time": "2024-05-08T20:39:06.670114Z",
     "start_time": "2024-05-08T20:39:06.625234Z"
    }
   },
   "outputs": [],
   "source": [
    "resnet50.load('best_model_augmented')"
   ]
  },
  {
   "cell_type": "code",
   "execution_count": 2,
   "id": "b6bbcf72eaa95b91",
   "metadata": {
    "ExecuteTime": {
     "end_time": "2024-05-08T20:39:06.672736Z",
     "start_time": "2024-05-08T20:39:06.670548Z"
    }
   },
   "outputs": [
    {
     "ename": "NameError",
     "evalue": "name 'resnet50' is not defined",
     "output_type": "error",
     "traceback": [
      "\u001b[0;31m---------------------------------------------------------------------------\u001b[0m",
      "\u001b[0;31mNameError\u001b[0m                                 Traceback (most recent call last)",
      "Cell \u001b[0;32mIn[2], line 7\u001b[0m\n\u001b[1;32m      3\u001b[0m \u001b[38;5;28;01mimport\u001b[39;00m \u001b[38;5;21;01mtorchvision\u001b[39;00m\u001b[38;5;21;01m.\u001b[39;00m\u001b[38;5;21;01mtransforms\u001b[39;00m \u001b[38;5;28;01mas\u001b[39;00m \u001b[38;5;21;01mtransforms\u001b[39;00m\n\u001b[1;32m      5\u001b[0m \u001b[38;5;66;03m# https://pytorch.org/vision/stable/models.html\u001b[39;00m\n\u001b[0;32m----> 7\u001b[0m pytorch_model \u001b[38;5;241m=\u001b[39m resnet50\u001b[38;5;241m.\u001b[39mmodel\u001b[38;5;241m.\u001b[39meval()  \u001b[38;5;66;03m# gets the PyTorch model\u001b[39;00m\n\u001b[1;32m      8\u001b[0m softmax_layer \u001b[38;5;241m=\u001b[39m torch\u001b[38;5;241m.\u001b[39mnn\u001b[38;5;241m.\u001b[39mSoftmax(dim\u001b[38;5;241m=\u001b[39m\u001b[38;5;241m1\u001b[39m)  \u001b[38;5;66;03m# define softmax\u001b[39;00m\n\u001b[1;32m      9\u001b[0m normalization_layer \u001b[38;5;241m=\u001b[39m torchvision\u001b[38;5;241m.\u001b[39mtransforms\u001b[38;5;241m.\u001b[39mNormalize(mean\u001b[38;5;241m=\u001b[39m[\u001b[38;5;241m0.485\u001b[39m, \u001b[38;5;241m0.456\u001b[39m, \u001b[38;5;241m0.406\u001b[39m],\n\u001b[1;32m     10\u001b[0m                                                        std\u001b[38;5;241m=\u001b[39m[\u001b[38;5;241m0.229\u001b[39m, \u001b[38;5;241m0.224\u001b[39m, \u001b[38;5;241m0.225\u001b[39m])  \u001b[38;5;66;03m# normalization layer\u001b[39;00m\n",
      "\u001b[0;31mNameError\u001b[0m: name 'resnet50' is not defined"
     ]
    }
   ],
   "source": [
    "import torch\n",
    "import torchvision\n",
    "import torchvision.transforms as transforms\n",
    "\n",
    "# https://pytorch.org/vision/stable/models.html\n",
    "\n",
    "pytorch_model = resnet50.model.eval()  # gets the PyTorch model\n",
    "softmax_layer = torch.nn.Softmax(dim=1)  # define softmax\n",
    "normalization_layer = torchvision.transforms.Normalize(mean=[0.485, 0.456, 0.406],\n",
    "                                                       std=[0.229, 0.224, 0.225])  # normalization layer\n",
    "\n",
    "# assembling the final model\n",
    "final_model = nn.Sequential(\n",
    "    normalization_layer,\n",
    "    pytorch_model,\n",
    "    softmax_layer\n",
    ")"
   ]
  },
  {
   "cell_type": "code",
   "execution_count": 1,
   "id": "63520064f72fd0db",
   "metadata": {
    "ExecuteTime": {
     "end_time": "2024-05-08T20:39:07.372674Z",
     "start_time": "2024-05-08T20:39:06.673136Z"
    }
   },
   "outputs": [
    {
     "ename": "NameError",
     "evalue": "name 'torch' is not defined",
     "output_type": "error",
     "traceback": [
      "\u001b[0;31m---------------------------------------------------------------------------\u001b[0m",
      "\u001b[0;31mNameError\u001b[0m                                 Traceback (most recent call last)",
      "Cell \u001b[0;32mIn[1], line 1\u001b[0m\n\u001b[0;32m----> 1\u001b[0m \u001b[38;5;28minput\u001b[39m \u001b[38;5;241m=\u001b[39m torch\u001b[38;5;241m.\u001b[39mrandn(BATCH_SIZE, \u001b[38;5;241m3\u001b[39m, IMAGE_RESIZE, IMAGE_RESIZE)\u001b[38;5;241m.\u001b[39mto(\u001b[38;5;124m'\u001b[39m\u001b[38;5;124mcuda\u001b[39m\u001b[38;5;124m'\u001b[39m)\n\u001b[1;32m      2\u001b[0m torch\u001b[38;5;241m.\u001b[39monnx\u001b[38;5;241m.\u001b[39mexport(\n\u001b[1;32m      3\u001b[0m     final_model,\n\u001b[1;32m      4\u001b[0m     \u001b[38;5;28minput\u001b[39m,\n\u001b[0;32m   (...)\u001b[0m\n\u001b[1;32m     12\u001b[0m                   \u001b[38;5;124m'\u001b[39m\u001b[38;5;124moutput\u001b[39m\u001b[38;5;124m'\u001b[39m: {\u001b[38;5;241m0\u001b[39m: \u001b[38;5;124m'\u001b[39m\u001b[38;5;124mbatch_size\u001b[39m\u001b[38;5;124m'\u001b[39m}}\n\u001b[1;32m     13\u001b[0m )\n",
      "\u001b[0;31mNameError\u001b[0m: name 'torch' is not defined"
     ]
    }
   ],
   "source": [
    "input = torch.randn(BATCH_SIZE, 3, IMAGE_RESIZE, IMAGE_RESIZE).to('cuda')\n",
    "torch.onnx.export(\n",
    "    final_model,\n",
    "    input,\n",
    "    'modelbase.onnx',\n",
    "    do_constant_folding=True,\n",
    "    export_params=True,\n",
    "    input_names=['input','input2'],\n",
    "    output_names=['output'],\n",
    "    opset_version=17,\n",
    "    dynamic_axes={'input': {0: 'batch_size'},  # variable length axes\n",
    "                  'output': {0: 'batch_size'}}\n",
    ")"
   ]
  },
  {
   "cell_type": "markdown",
   "id": "fed34bda4b8f7446",
   "metadata": {},
   "source": []
  },
  {
   "cell_type": "markdown",
   "id": "bc97cb8c3efa055e",
   "metadata": {},
   "source": [
    "Inferimos en ONNX"
   ]
  },
  {
   "cell_type": "code",
   "execution_count": null,
   "id": "27f07a6ab9f5a3b9",
   "metadata": {
    "ExecuteTime": {
     "end_time": "2024-05-08T20:39:07.376459Z",
     "start_time": "2024-05-08T20:39:07.374259Z"
    }
   },
   "outputs": [],
   "source": [
    "from PIL import Image\n",
    "\n",
    "\n",
    "def image_transform_onnx(path: str, size: int) -> np.ndarray:\n",
    "    '''Image transform helper for onnx runtime inference.'''\n",
    "\n",
    "    image = Image.open(path)\n",
    "    image = image.resize((size, size))\n",
    "\n",
    "    # now our image is represented by 3 layers - Red, Green, Blue\n",
    "    # each layer has a 224 x 224 values representing\n",
    "    image = np.array(image)\n",
    "\n",
    "    # dummy input for the model at export - torch.randn(1, 3, 224, 224)\n",
    "    image = image.transpose(2, 0, 1).astype(np.float32)\n",
    "\n",
    "    # our image is currently represented by values ranging between 0-255\n",
    "    # we need to convert these values to 0.0-1.0 - those are the values that are expected by our model\n",
    "    image /= 255\n",
    "    image = image[None, ...]\n",
    "    return image"
   ]
  },
  {
   "cell_type": "code",
   "execution_count": null,
   "id": "ad2b9b5906890bb2",
   "metadata": {
    "ExecuteTime": {
     "end_time": "2024-05-08T20:39:07.568531Z",
     "start_time": "2024-05-08T20:39:07.376879Z"
    }
   },
   "outputs": [],
   "source": [
    "import numpy as np\n",
    "import onnxruntime as rt\n",
    "\n",
    "labels = ['Benign', 'Malignant']\n",
    "\n",
    "# get image as tensor - 1 x 3 x 256 x 256 dimensions\n",
    "img = image_transform_onnx('trainThumbnails/ISIC_0068761.JPG', 386)\n",
    "\n",
    "# initialize onnx runtime inference session\n",
    "sess = rt.InferenceSession('modelbase.onnx')\n",
    "\n",
    "# input & output names\n",
    "input_name = sess.get_inputs()[0].name\n",
    "output_name = sess.get_outputs()[0].name\n",
    "\n",
    "# input dimensions (important for debugging)\n",
    "input_dims = sess.get_inputs()[0].shape\n",
    "\n",
    "print(f\"Input layer name: {input_name}, Output layer name: {output_name}, Input Dimension: {input_dims}\")\n",
    "\n",
    "results = sess.run([output_name], {input_name: img})[0]\n",
    "print(f\"It's a {labels[np.argmax(results)]}\", results)"
   ]
  },
  {
   "cell_type": "code",
   "execution_count": null,
   "id": "bd5a852d",
   "metadata": {},
   "outputs": [],
   "source": []
  }
 ],
 "metadata": {
  "kernelspec": {
   "display_name": "Python 3",
   "language": "python",
   "name": "python3"
  },
  "language_info": {
   "codemirror_mode": {
    "name": "ipython",
    "version": 3
   },
   "file_extension": ".py",
   "mimetype": "text/x-python",
   "name": "python",
   "nbconvert_exporter": "python",
   "pygments_lexer": "ipython3",
   "version": "3.11.0"
  }
 },
 "nbformat": 4,
 "nbformat_minor": 5
}
