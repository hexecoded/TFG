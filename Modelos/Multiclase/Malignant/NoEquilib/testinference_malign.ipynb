{
 "cells": [
  {
   "cell_type": "markdown",
   "id": "92485b90",
   "metadata": {},
   "source": [
    "# Evaluación de los modelos\n",
    "\n",
    "En este documento se muestran las pruebas realizadas para la evaluación del modelo mediante el conjunto de entrenamiento. Se pondrán a pruebas los modelos original y cuantizado de los 3 problemas de aprendizaje empleando la partición de test reservada antes del preprocesado de datos.\n",
    "\n",
    "## Resultados de test para clasificación binaria\n",
    "\n",
    "Se procede al cargado en memoria del modelo previamente entrenado para el entrenamiento habitual de escritorio. Es necesario importar el directorio de ficheros de entrenamiento para reconstruir el modelo, y posteriormente, realizar la inferencia de test. El flujo de código resultado es similar al entrenamiento, con la diferencia de que en lugar de optimizar el modelo, se procede directamente a la inferencia de los valores de test empleando los pesos ya entrenados.\n",
    "\n",
    "Otra opción de cargar el modelo sería utilizar el formato torchscript, pero en clasificación binaria, debido a la magnitud de los datos, es más favorecedor utilizar el objeto pth. Para la clasificación maligna y benigna, si se empleará este formato."
   ]
  },
  {
   "cell_type": "markdown",
   "id": "8a0d239d",
   "metadata": {},
   "source": [
    "Comenzamos por la importación de librerías"
   ]
  },
  {
   "cell_type": "code",
   "id": "initial_id",
   "metadata": {
    "collapsed": true,
    "ExecuteTime": {
     "end_time": "2024-06-19T03:18:14.949599Z",
     "start_time": "2024-06-19T03:18:12.729833Z"
    }
   },
   "source": [
    "# Librerías utilizadas por el script\n",
    "\n",
    "import os\n",
    "#os.environ['HF_HOME'] = '/mnt/homeGPU/hexecode/cache/'\n",
    "\n",
    "import timm\n",
    "import numpy as np\n",
    "import pandas as pd\n",
    "import cv2\n",
    "import torch\n",
    "import fastbook\n",
    "import fastai\n",
    "import fastcore\n",
    "import PIL\n",
    "import shutil\n",
    "import albumentations\n",
    "import torch\n",
    "from torchvision import transforms\n",
    "from PIL import Image\n",
    "from datetime import datetime\n",
    "\n",
    "import matplotlib.pyplot as plt\n",
    "import imgaug as ia\n",
    "import seaborn as sns\n",
    "\n",
    "from imgaug import augmenters as iaa\n",
    "from sklearn.model_selection import train_test_split\n",
    "from sklearn.metrics import classification_report\n",
    "from fastai.vision.all import *\n",
    "from nbdev.showdoc import *\n",
    "from fastai.vision.all import *\n",
    "import torch.utils.mobile_optimizer as mobile_optimizer\n",
    "from torch.utils.mobile_optimizer import optimize_for_mobile\n",
    "from torchvision.io.image import read_image\n",
    "from torchvision.transforms.functional import normalize, resize, to_pil_image\n",
    "from torchvision.models import resnet18\n",
    "from torchcam.methods import SmoothGradCAMpp\n",
    "import torch\n",
    "\n",
    "\"\"\"\n",
    "!pip install -Uqq fastbook\n",
    "!pip install nbdev\n",
    "\"\"\"\n",
    "fastbook.setup_book()\n",
    "torch.cuda.is_available()\n",
    "TEST_DIR = \"testThumbnails/\"\n",
    "test_metadata = pd.read_csv('testSet.csv')\n"
   ],
   "outputs": [
    {
     "name": "stderr",
     "output_type": "stream",
     "text": [
      "INFO:albumentations.check_version:A new version of Albumentations is available: 1.4.9 (you have 1.4.7). Upgrade using: pip install --upgrade albumentations\n"
     ]
    }
   ],
   "execution_count": 1
  },
  {
   "metadata": {},
   "cell_type": "markdown",
   "source": [
    "### Modelo original\n",
    "Evaluamos el conjunto de test con el modelo original"
   ],
   "id": "29f8e3d18c80dd0e"
  },
  {
   "metadata": {
    "ExecuteTime": {
     "end_time": "2024-06-18T17:22:19.255547Z",
     "start_time": "2024-06-18T17:22:19.252839Z"
    }
   },
   "cell_type": "code",
   "source": [
    "#Preprocesamiento (solo resize y normalización)\n",
    "transform = transforms.Compose([\n",
    "    transforms.Resize((512, 512)),\n",
    "    transforms.ToTensor(),\n",
    "    transforms.Normalize(mean=[0.485, 0.456, 0.406], std=[0.229, 0.224, 0.225]),\n",
    "])\n",
    "\n",
    "test_imgs = test_metadata['image'].to_list()\n",
    "y_true = test_metadata['bin'].to_list()"
   ],
   "id": "ac7ba09229946eb2",
   "outputs": [],
   "execution_count": 2
  },
  {
   "metadata": {
    "ExecuteTime": {
     "end_time": "2024-06-19T03:21:43.036356Z",
     "start_time": "2024-06-19T03:21:43.034184Z"
    }
   },
   "cell_type": "code",
   "source": [
    "def evaluate_original(model, test_imgs):\n",
    "    y_pred = []\n",
    "    for img in test_imgs:\n",
    "        # Cargar imagen\n",
    "        image_path = TEST_DIR + img\n",
    "        image = Image.open(image_path)\n",
    "        input_tensor = transform(image).unsqueeze(0).cuda()\n",
    "\n",
    "        # Realiza la predicción\n",
    "        with torch.no_grad():\n",
    "            output = model(input_tensor)\n",
    "\n",
    "        # Indice con la mayor probabilidad\n",
    "        _, predicted_class = output.max(1)\n",
    "\n",
    "        y_pred.append(predicted_class.item())\n",
    "\n",
    "    return y_pred"
   ],
   "id": "829384295ffffb32",
   "outputs": [],
   "execution_count": 10
  },
  {
   "metadata": {
    "ExecuteTime": {
     "end_time": "2024-06-18T17:35:44.362757Z",
     "start_time": "2024-06-18T17:22:19.259319Z"
    }
   },
   "cell_type": "code",
   "source": [
    "# Cargamos el modelo original\n",
    "model = torch.jit.load(\"bestISICFocal_512_32_50.pt\").to('cuda')\n",
    "y_pred = evaluate_original(model, test_imgs)"
   ],
   "id": "1638a66abd8abc16",
   "outputs": [],
   "execution_count": 4
  },
  {
   "metadata": {},
   "cell_type": "markdown",
   "source": "Mostramos los resultados en un formato legible visible por el usuario.",
   "id": "5183acbbf2adb312"
  },
  {
   "cell_type": "code",
   "id": "9f23721f92bcec5",
   "metadata": {
    "ExecuteTime": {
     "end_time": "2024-06-18T17:35:44.384414Z",
     "start_time": "2024-06-18T17:35:44.363318Z"
    }
   },
   "source": "print(classification_report(y_true, y_pred))",
   "outputs": [
    {
     "name": "stdout",
     "output_type": "stream",
     "text": [
      "              precision    recall  f1-score   support\n",
      "\n",
      "           0       0.90      0.89      0.89     16010\n",
      "           1       0.68      0.70      0.69      5468\n",
      "\n",
      "    accuracy                           0.84     21478\n",
      "   macro avg       0.79      0.80      0.79     21478\n",
      "weighted avg       0.84      0.84      0.84     21478\n",
      "\n"
     ]
    }
   ],
   "execution_count": 5
  },
  {
   "metadata": {},
   "cell_type": "markdown",
   "source": "Ahora, repetimos el mismo proceso para el modelo adaptado para android. Realziaremos la evaluación con el modelo estándar sólo transformado al formato android, y el modelo cuantizado optimizado.",
   "id": "4406c6b693cc6ee4"
  },
  {
   "metadata": {},
   "cell_type": "markdown",
   "source": "### Modelo cuantizado",
   "id": "b92ca7c478ccb4af"
  },
  {
   "metadata": {
    "ExecuteTime": {
     "end_time": "2024-06-18T17:35:44.475045Z",
     "start_time": "2024-06-18T17:35:44.384865Z"
    }
   },
   "cell_type": "code",
   "source": [
    "#Cargamos el modelo\n",
    "model_opt = torch.jit.load(\"bestISICFocal512_32_50_android.ptl\")"
   ],
   "id": "d42e0f1d008189dc",
   "outputs": [],
   "execution_count": 6
  },
  {
   "metadata": {},
   "cell_type": "markdown",
   "source": "Cargamos la lista de imágenes de test e iteramos por ellas, añadiendo la predicción al resultado.",
   "id": "6e07b710736d677f"
  },
  {
   "metadata": {
    "ExecuteTime": {
     "end_time": "2024-06-19T03:36:52.191119Z",
     "start_time": "2024-06-19T03:36:52.188509Z"
    }
   },
   "cell_type": "code",
   "source": [
    "def evaluate_mobile(model, test_imgs):\n",
    "    y_pred = []\n",
    "    for img in test_imgs:\n",
    "        # Cargar imagen\n",
    "        image_path = TEST_DIR + img\n",
    "        image = Image.open(image_path)\n",
    "        input_tensor = transform(image).unsqueeze(0)\n",
    "\n",
    "\n",
    "        # Realiza la predicción\n",
    "        with torch.no_grad():\n",
    "            output = model(input_tensor)\n",
    "\n",
    "\n",
    "        # Indice con la mayor probabilidad\n",
    "        _, predicted_class = output.max(1)\n",
    "\n",
    "        y_pred.append(predicted_class.item())\n",
    "\n",
    "    return y_pred"
   ],
   "id": "58186568620313f8",
   "outputs": [],
   "execution_count": 46
  },
  {
   "metadata": {
    "ExecuteTime": {
     "end_time": "2024-06-18T20:07:32.926500Z",
     "start_time": "2024-06-18T17:35:44.479074Z"
    }
   },
   "cell_type": "code",
   "source": "y_pred_mobile = evaluate_mobile(model_opt, test_imgs)",
   "id": "b27e00567e462ead",
   "outputs": [],
   "execution_count": 8
  },
  {
   "metadata": {
    "ExecuteTime": {
     "end_time": "2024-06-18T20:07:32.951359Z",
     "start_time": "2024-06-18T20:07:32.927134Z"
    }
   },
   "cell_type": "code",
   "source": "print(classification_report(y_true, y_pred_mobile))",
   "id": "acc1adbc1402beb4",
   "outputs": [
    {
     "name": "stdout",
     "output_type": "stream",
     "text": [
      "              precision    recall  f1-score   support\n",
      "\n",
      "           0       0.90      0.89      0.89     16010\n",
      "           1       0.68      0.70      0.69      5468\n",
      "\n",
      "    accuracy                           0.84     21478\n",
      "   macro avg       0.79      0.80      0.79     21478\n",
      "weighted avg       0.84      0.84      0.84     21478\n",
      "\n"
     ]
    }
   ],
   "execution_count": 9
  },
  {
   "metadata": {},
   "cell_type": "markdown",
   "source": [
    "Para verificar en detalle el correcto funcionamiento del modelo, podemos emplear GradCam, y observar en qué puntos de la imagen se centra el modelo. Comenzaremos por una imagen correctamente clasificada.\n",
    "** NO DISPONIBLE PARA MODELO OPTIMIZADO O CUANTIZADO**"
   ],
   "id": "7c250ae3820ae02b"
  },
  {
   "metadata": {},
   "cell_type": "markdown",
   "source": "",
   "id": "9c4c96247359bc93"
  },
  {
   "metadata": {},
   "cell_type": "markdown",
   "source": [
    "## Resultados de test para clasificación multiclase\n",
    "\n",
    "Ahora, evaluaremos el rendimiento de los dos modelos de clasificación multiclase. Ambos modelos serán evaluados con la partición de test, extrayendo las clases oportunas, y aplicando el mismo tipo de preprocesado que al conjunto de entrenamiento."
   ],
   "id": "7327b86d3b42c5ee"
  },
  {
   "metadata": {},
   "cell_type": "markdown",
   "source": [
    "### Modelo de clases malignas\n",
    "\n",
    "En este primer caso, estudiaremos el impacto en métricas del modelo original vs cuantizado en test, empleando unicamente imágenes malignas. Recordar que, en este modelo, debemos realizar el mismo preprocesado que en train, por lo que debemos:\n",
    "- Fusionar la clase melanoma y melanoma metastasis\n",
    "- Normalizar y redimensionar usando los parámetros de imagenet y resolución 512 x 512."
   ],
   "id": "459bd39ec6efa204"
  },
  {
   "metadata": {},
   "cell_type": "markdown",
   "source": "#### Modelo original",
   "id": "877ab2de40fcf119"
  },
  {
   "metadata": {
    "ExecuteTime": {
     "end_time": "2024-06-19T03:38:50.516270Z",
     "start_time": "2024-06-19T03:38:50.500652Z"
    }
   },
   "cell_type": "code",
   "source": [
    "train_malignant = test_metadata.loc[test_metadata['bin'] == 1]\n",
    "train_malignant['label'].replace('melanoma_metastasis', 'melanoma', inplace=True)"
   ],
   "id": "e4769a779412826e",
   "outputs": [
    {
     "ename": "SettingWithCopyError",
     "evalue": "\nA value is trying to be set on a copy of a slice from a DataFrame\n\nSee the caveats in the documentation: https://pandas.pydata.org/pandas-docs/stable/user_guide/indexing.html#returning-a-view-versus-a-copy",
     "output_type": "error",
     "traceback": [
      "\u001B[0;31m---------------------------------------------------------------------------\u001B[0m",
      "\u001B[0;31mSettingWithCopyError\u001B[0m                      Traceback (most recent call last)",
      "\u001B[0;32m/tmp/ipykernel_12622/2642537923.py\u001B[0m in \u001B[0;36m?\u001B[0;34m()\u001B[0m\n\u001B[1;32m      1\u001B[0m \u001B[0mtrain_malignant\u001B[0m \u001B[0;34m=\u001B[0m \u001B[0mtest_metadata\u001B[0m\u001B[0;34m.\u001B[0m\u001B[0mloc\u001B[0m\u001B[0;34m[\u001B[0m\u001B[0mtest_metadata\u001B[0m\u001B[0;34m[\u001B[0m\u001B[0;34m'bin'\u001B[0m\u001B[0;34m]\u001B[0m \u001B[0;34m==\u001B[0m \u001B[0;36m1\u001B[0m\u001B[0;34m]\u001B[0m\u001B[0;34m\u001B[0m\u001B[0;34m\u001B[0m\u001B[0m\n\u001B[0;32m----> 2\u001B[0;31m \u001B[0mtrain_malignant\u001B[0m\u001B[0;34m[\u001B[0m\u001B[0;34m'label'\u001B[0m\u001B[0;34m]\u001B[0m\u001B[0;34m.\u001B[0m\u001B[0mreplace\u001B[0m\u001B[0;34m(\u001B[0m\u001B[0;34m'melanoma_metastasis'\u001B[0m\u001B[0;34m,\u001B[0m \u001B[0;34m'melanoma'\u001B[0m\u001B[0;34m,\u001B[0m \u001B[0minplace\u001B[0m\u001B[0;34m=\u001B[0m\u001B[0;32mTrue\u001B[0m\u001B[0;34m)\u001B[0m\u001B[0;34m\u001B[0m\u001B[0;34m\u001B[0m\u001B[0m\n\u001B[0m",
      "\u001B[0;32m~/anaconda3/lib/python3.11/site-packages/pandas/core/generic.py\u001B[0m in \u001B[0;36m?\u001B[0;34m(self, to_replace, value, inplace, limit, regex, method)\u001B[0m\n\u001B[1;32m   7915\u001B[0m                     )\n\u001B[1;32m   7916\u001B[0m \u001B[0;34m\u001B[0m\u001B[0m\n\u001B[1;32m   7917\u001B[0m         \u001B[0mresult\u001B[0m \u001B[0;34m=\u001B[0m \u001B[0mself\u001B[0m\u001B[0;34m.\u001B[0m\u001B[0m_constructor_from_mgr\u001B[0m\u001B[0;34m(\u001B[0m\u001B[0mnew_data\u001B[0m\u001B[0;34m,\u001B[0m \u001B[0maxes\u001B[0m\u001B[0;34m=\u001B[0m\u001B[0mnew_data\u001B[0m\u001B[0;34m.\u001B[0m\u001B[0maxes\u001B[0m\u001B[0;34m)\u001B[0m\u001B[0;34m\u001B[0m\u001B[0;34m\u001B[0m\u001B[0m\n\u001B[1;32m   7918\u001B[0m         \u001B[0;32mif\u001B[0m \u001B[0minplace\u001B[0m\u001B[0;34m:\u001B[0m\u001B[0;34m\u001B[0m\u001B[0;34m\u001B[0m\u001B[0m\n\u001B[0;32m-> 7919\u001B[0;31m             \u001B[0;32mreturn\u001B[0m \u001B[0mself\u001B[0m\u001B[0;34m.\u001B[0m\u001B[0m_update_inplace\u001B[0m\u001B[0;34m(\u001B[0m\u001B[0mresult\u001B[0m\u001B[0;34m)\u001B[0m\u001B[0;34m\u001B[0m\u001B[0;34m\u001B[0m\u001B[0m\n\u001B[0m\u001B[1;32m   7920\u001B[0m         \u001B[0;32melse\u001B[0m\u001B[0;34m:\u001B[0m\u001B[0;34m\u001B[0m\u001B[0;34m\u001B[0m\u001B[0m\n\u001B[1;32m   7921\u001B[0m             \u001B[0;32mreturn\u001B[0m \u001B[0mresult\u001B[0m\u001B[0;34m.\u001B[0m\u001B[0m__finalize__\u001B[0m\u001B[0;34m(\u001B[0m\u001B[0mself\u001B[0m\u001B[0;34m,\u001B[0m \u001B[0mmethod\u001B[0m\u001B[0;34m=\u001B[0m\u001B[0;34m\"replace\"\u001B[0m\u001B[0;34m)\u001B[0m\u001B[0;34m\u001B[0m\u001B[0;34m\u001B[0m\u001B[0m\n",
      "\u001B[0;32m~/anaconda3/lib/python3.11/site-packages/pandas/core/generic.py\u001B[0m in \u001B[0;36m?\u001B[0;34m(self, result, verify_is_copy)\u001B[0m\n\u001B[1;32m   4818\u001B[0m         \u001B[0;31m# decision that we may revisit in the future.\u001B[0m\u001B[0;34m\u001B[0m\u001B[0;34m\u001B[0m\u001B[0m\n\u001B[1;32m   4819\u001B[0m         \u001B[0mself\u001B[0m\u001B[0;34m.\u001B[0m\u001B[0m_reset_cache\u001B[0m\u001B[0;34m(\u001B[0m\u001B[0;34m)\u001B[0m\u001B[0;34m\u001B[0m\u001B[0;34m\u001B[0m\u001B[0m\n\u001B[1;32m   4820\u001B[0m         \u001B[0mself\u001B[0m\u001B[0;34m.\u001B[0m\u001B[0m_clear_item_cache\u001B[0m\u001B[0;34m(\u001B[0m\u001B[0;34m)\u001B[0m\u001B[0;34m\u001B[0m\u001B[0;34m\u001B[0m\u001B[0m\n\u001B[1;32m   4821\u001B[0m         \u001B[0mself\u001B[0m\u001B[0;34m.\u001B[0m\u001B[0m_mgr\u001B[0m \u001B[0;34m=\u001B[0m \u001B[0mresult\u001B[0m\u001B[0;34m.\u001B[0m\u001B[0m_mgr\u001B[0m\u001B[0;34m\u001B[0m\u001B[0;34m\u001B[0m\u001B[0m\n\u001B[0;32m-> 4822\u001B[0;31m         \u001B[0mself\u001B[0m\u001B[0;34m.\u001B[0m\u001B[0m_maybe_update_cacher\u001B[0m\u001B[0;34m(\u001B[0m\u001B[0mverify_is_copy\u001B[0m\u001B[0;34m=\u001B[0m\u001B[0mverify_is_copy\u001B[0m\u001B[0;34m,\u001B[0m \u001B[0minplace\u001B[0m\u001B[0;34m=\u001B[0m\u001B[0;32mTrue\u001B[0m\u001B[0;34m)\u001B[0m\u001B[0;34m\u001B[0m\u001B[0;34m\u001B[0m\u001B[0m\n\u001B[0m",
      "\u001B[0;32m~/anaconda3/lib/python3.11/site-packages/pandas/core/series.py\u001B[0m in \u001B[0;36m?\u001B[0;34m(self, clear, verify_is_copy, inplace)\u001B[0m\n\u001B[1;32m   1420\u001B[0m                 \u001B[0;31m# GH#33675 we have swapped in a new array, so parent\u001B[0m\u001B[0;34m\u001B[0m\u001B[0;34m\u001B[0m\u001B[0m\n\u001B[1;32m   1421\u001B[0m                 \u001B[0;31m#  reference to self is now invalid\u001B[0m\u001B[0;34m\u001B[0m\u001B[0;34m\u001B[0m\u001B[0m\n\u001B[1;32m   1422\u001B[0m                 \u001B[0mref\u001B[0m\u001B[0;34m.\u001B[0m\u001B[0m_item_cache\u001B[0m\u001B[0;34m.\u001B[0m\u001B[0mpop\u001B[0m\u001B[0;34m(\u001B[0m\u001B[0mcacher\u001B[0m\u001B[0;34m[\u001B[0m\u001B[0;36m0\u001B[0m\u001B[0;34m]\u001B[0m\u001B[0;34m,\u001B[0m \u001B[0;32mNone\u001B[0m\u001B[0;34m)\u001B[0m\u001B[0;34m\u001B[0m\u001B[0;34m\u001B[0m\u001B[0m\n\u001B[1;32m   1423\u001B[0m \u001B[0;34m\u001B[0m\u001B[0m\n\u001B[0;32m-> 1424\u001B[0;31m         super()._maybe_update_cacher(\n\u001B[0m\u001B[1;32m   1425\u001B[0m             \u001B[0mclear\u001B[0m\u001B[0;34m=\u001B[0m\u001B[0mclear\u001B[0m\u001B[0;34m,\u001B[0m \u001B[0mverify_is_copy\u001B[0m\u001B[0;34m=\u001B[0m\u001B[0mverify_is_copy\u001B[0m\u001B[0;34m,\u001B[0m \u001B[0minplace\u001B[0m\u001B[0;34m=\u001B[0m\u001B[0minplace\u001B[0m\u001B[0;34m\u001B[0m\u001B[0;34m\u001B[0m\u001B[0m\n\u001B[1;32m   1426\u001B[0m         )\n",
      "\u001B[0;32m~/anaconda3/lib/python3.11/site-packages/pandas/core/generic.py\u001B[0m in \u001B[0;36m?\u001B[0;34m(self, clear, verify_is_copy, inplace)\u001B[0m\n\u001B[1;32m   3947\u001B[0m         \u001B[0;32mif\u001B[0m \u001B[0musing_copy_on_write\u001B[0m\u001B[0;34m(\u001B[0m\u001B[0;34m)\u001B[0m\u001B[0;34m:\u001B[0m\u001B[0;34m\u001B[0m\u001B[0;34m\u001B[0m\u001B[0m\n\u001B[1;32m   3948\u001B[0m             \u001B[0;32mreturn\u001B[0m\u001B[0;34m\u001B[0m\u001B[0;34m\u001B[0m\u001B[0m\n\u001B[1;32m   3949\u001B[0m \u001B[0;34m\u001B[0m\u001B[0m\n\u001B[1;32m   3950\u001B[0m         \u001B[0;32mif\u001B[0m \u001B[0mverify_is_copy\u001B[0m\u001B[0;34m:\u001B[0m\u001B[0;34m\u001B[0m\u001B[0;34m\u001B[0m\u001B[0m\n\u001B[0;32m-> 3951\u001B[0;31m             \u001B[0mself\u001B[0m\u001B[0;34m.\u001B[0m\u001B[0m_check_setitem_copy\u001B[0m\u001B[0;34m(\u001B[0m\u001B[0mt\u001B[0m\u001B[0;34m=\u001B[0m\u001B[0;34m\"referent\"\u001B[0m\u001B[0;34m)\u001B[0m\u001B[0;34m\u001B[0m\u001B[0;34m\u001B[0m\u001B[0m\n\u001B[0m\u001B[1;32m   3952\u001B[0m \u001B[0;34m\u001B[0m\u001B[0m\n\u001B[1;32m   3953\u001B[0m         \u001B[0;32mif\u001B[0m \u001B[0mclear\u001B[0m\u001B[0;34m:\u001B[0m\u001B[0;34m\u001B[0m\u001B[0;34m\u001B[0m\u001B[0m\n\u001B[1;32m   3954\u001B[0m             \u001B[0mself\u001B[0m\u001B[0;34m.\u001B[0m\u001B[0m_clear_item_cache\u001B[0m\u001B[0;34m(\u001B[0m\u001B[0;34m)\u001B[0m\u001B[0;34m\u001B[0m\u001B[0;34m\u001B[0m\u001B[0m\n",
      "\u001B[0;32m~/anaconda3/lib/python3.11/site-packages/pandas/core/generic.py\u001B[0m in \u001B[0;36m?\u001B[0;34m(self, t, force)\u001B[0m\n\u001B[1;32m   4404\u001B[0m                 \u001B[0;34m\"indexing.html#returning-a-view-versus-a-copy\"\u001B[0m\u001B[0;34m\u001B[0m\u001B[0;34m\u001B[0m\u001B[0m\n\u001B[1;32m   4405\u001B[0m             )\n\u001B[1;32m   4406\u001B[0m \u001B[0;34m\u001B[0m\u001B[0m\n\u001B[1;32m   4407\u001B[0m         \u001B[0;32mif\u001B[0m \u001B[0mvalue\u001B[0m \u001B[0;34m==\u001B[0m \u001B[0;34m\"raise\"\u001B[0m\u001B[0;34m:\u001B[0m\u001B[0;34m\u001B[0m\u001B[0;34m\u001B[0m\u001B[0m\n\u001B[0;32m-> 4408\u001B[0;31m             \u001B[0;32mraise\u001B[0m \u001B[0mSettingWithCopyError\u001B[0m\u001B[0;34m(\u001B[0m\u001B[0mt\u001B[0m\u001B[0;34m)\u001B[0m\u001B[0;34m\u001B[0m\u001B[0;34m\u001B[0m\u001B[0m\n\u001B[0m\u001B[1;32m   4409\u001B[0m         \u001B[0;32mif\u001B[0m \u001B[0mvalue\u001B[0m \u001B[0;34m==\u001B[0m \u001B[0;34m\"warn\"\u001B[0m\u001B[0;34m:\u001B[0m\u001B[0;34m\u001B[0m\u001B[0;34m\u001B[0m\u001B[0m\n\u001B[1;32m   4410\u001B[0m             \u001B[0mwarnings\u001B[0m\u001B[0;34m.\u001B[0m\u001B[0mwarn\u001B[0m\u001B[0;34m(\u001B[0m\u001B[0mt\u001B[0m\u001B[0;34m,\u001B[0m \u001B[0mSettingWithCopyWarning\u001B[0m\u001B[0;34m,\u001B[0m \u001B[0mstacklevel\u001B[0m\u001B[0;34m=\u001B[0m\u001B[0mfind_stack_level\u001B[0m\u001B[0;34m(\u001B[0m\u001B[0;34m)\u001B[0m\u001B[0;34m)\u001B[0m\u001B[0;34m\u001B[0m\u001B[0;34m\u001B[0m\u001B[0m\n",
      "\u001B[0;31mSettingWithCopyError\u001B[0m: \nA value is trying to be set on a copy of a slice from a DataFrame\n\nSee the caveats in the documentation: https://pandas.pydata.org/pandas-docs/stable/user_guide/indexing.html#returning-a-view-versus-a-copy"
     ]
    }
   ],
   "execution_count": 49
  },
  {
   "metadata": {
    "ExecuteTime": {
     "end_time": "2024-06-19T03:38:50.557320Z",
     "start_time": "2024-06-19T03:38:50.544347Z"
    }
   },
   "cell_type": "code",
   "source": [
    "#Renombramos a notación numérica\n",
    "replacements = {'basal_cell_carcinoma':0,'melanoma': 1,'squamous_cell_carcinoma':2}\n",
    "train_malignant['label'] = train_malignant['label'].map(replacements).fillna(train_malignant['label'])"
   ],
   "id": "752c7c34c63f15c1",
   "outputs": [
    {
     "ename": "SettingWithCopyError",
     "evalue": "\nA value is trying to be set on a copy of a slice from a DataFrame.\nTry using .loc[row_indexer,col_indexer] = value instead\n\nSee the caveats in the documentation: https://pandas.pydata.org/pandas-docs/stable/user_guide/indexing.html#returning-a-view-versus-a-copy",
     "output_type": "error",
     "traceback": [
      "\u001B[0;31m---------------------------------------------------------------------------\u001B[0m",
      "\u001B[0;31mSettingWithCopyError\u001B[0m                      Traceback (most recent call last)",
      "\u001B[0;32m/tmp/ipykernel_12622/3845606359.py\u001B[0m in \u001B[0;36m?\u001B[0;34m()\u001B[0m\n\u001B[1;32m      1\u001B[0m \u001B[0;31m#Renombramos a notación numérica\u001B[0m\u001B[0;34m\u001B[0m\u001B[0;34m\u001B[0m\u001B[0m\n\u001B[1;32m      2\u001B[0m \u001B[0mreplacements\u001B[0m \u001B[0;34m=\u001B[0m \u001B[0;34m{\u001B[0m\u001B[0;34m'basal_cell_carcinoma'\u001B[0m\u001B[0;34m:\u001B[0m\u001B[0;36m0\u001B[0m\u001B[0;34m,\u001B[0m\u001B[0;34m'melanoma'\u001B[0m\u001B[0;34m:\u001B[0m \u001B[0;36m1\u001B[0m\u001B[0;34m,\u001B[0m\u001B[0;34m'squamous_cell_carcinoma'\u001B[0m\u001B[0;34m:\u001B[0m\u001B[0;36m2\u001B[0m\u001B[0;34m}\u001B[0m\u001B[0;34m\u001B[0m\u001B[0;34m\u001B[0m\u001B[0m\n\u001B[0;32m----> 3\u001B[0;31m \u001B[0mtrain_malignant\u001B[0m\u001B[0;34m[\u001B[0m\u001B[0;34m'label'\u001B[0m\u001B[0;34m]\u001B[0m \u001B[0;34m=\u001B[0m \u001B[0mtrain_malignant\u001B[0m\u001B[0;34m[\u001B[0m\u001B[0;34m'label'\u001B[0m\u001B[0;34m]\u001B[0m\u001B[0;34m.\u001B[0m\u001B[0mmap\u001B[0m\u001B[0;34m(\u001B[0m\u001B[0mreplacements\u001B[0m\u001B[0;34m)\u001B[0m\u001B[0;34m.\u001B[0m\u001B[0mfillna\u001B[0m\u001B[0;34m(\u001B[0m\u001B[0mtrain_malignant\u001B[0m\u001B[0;34m[\u001B[0m\u001B[0;34m'label'\u001B[0m\u001B[0;34m]\u001B[0m\u001B[0;34m)\u001B[0m\u001B[0;34m\u001B[0m\u001B[0;34m\u001B[0m\u001B[0m\n\u001B[0m",
      "\u001B[0;32m~/anaconda3/lib/python3.11/site-packages/pandas/core/frame.py\u001B[0m in \u001B[0;36m?\u001B[0;34m(self, key, value)\u001B[0m\n\u001B[1;32m   4087\u001B[0m             \u001B[0;31m# Column to set is duplicated\u001B[0m\u001B[0;34m\u001B[0m\u001B[0;34m\u001B[0m\u001B[0m\n\u001B[1;32m   4088\u001B[0m             \u001B[0mself\u001B[0m\u001B[0;34m.\u001B[0m\u001B[0m_setitem_array\u001B[0m\u001B[0;34m(\u001B[0m\u001B[0;34m[\u001B[0m\u001B[0mkey\u001B[0m\u001B[0;34m]\u001B[0m\u001B[0;34m,\u001B[0m \u001B[0mvalue\u001B[0m\u001B[0;34m)\u001B[0m\u001B[0;34m\u001B[0m\u001B[0;34m\u001B[0m\u001B[0m\n\u001B[1;32m   4089\u001B[0m         \u001B[0;32melse\u001B[0m\u001B[0;34m:\u001B[0m\u001B[0;34m\u001B[0m\u001B[0;34m\u001B[0m\u001B[0m\n\u001B[1;32m   4090\u001B[0m             \u001B[0;31m# set column\u001B[0m\u001B[0;34m\u001B[0m\u001B[0;34m\u001B[0m\u001B[0m\n\u001B[0;32m-> 4091\u001B[0;31m             \u001B[0mself\u001B[0m\u001B[0;34m.\u001B[0m\u001B[0m_set_item\u001B[0m\u001B[0;34m(\u001B[0m\u001B[0mkey\u001B[0m\u001B[0;34m,\u001B[0m \u001B[0mvalue\u001B[0m\u001B[0;34m)\u001B[0m\u001B[0;34m\u001B[0m\u001B[0;34m\u001B[0m\u001B[0m\n\u001B[0m",
      "\u001B[0;32m~/anaconda3/lib/python3.11/site-packages/pandas/core/frame.py\u001B[0m in \u001B[0;36m?\u001B[0;34m(self, key, value)\u001B[0m\n\u001B[1;32m   4310\u001B[0m                 \u001B[0;32mif\u001B[0m \u001B[0misinstance\u001B[0m\u001B[0;34m(\u001B[0m\u001B[0mexisting_piece\u001B[0m\u001B[0;34m,\u001B[0m \u001B[0mDataFrame\u001B[0m\u001B[0;34m)\u001B[0m\u001B[0;34m:\u001B[0m\u001B[0;34m\u001B[0m\u001B[0;34m\u001B[0m\u001B[0m\n\u001B[1;32m   4311\u001B[0m                     \u001B[0mvalue\u001B[0m \u001B[0;34m=\u001B[0m \u001B[0mnp\u001B[0m\u001B[0;34m.\u001B[0m\u001B[0mtile\u001B[0m\u001B[0;34m(\u001B[0m\u001B[0mvalue\u001B[0m\u001B[0;34m,\u001B[0m \u001B[0;34m(\u001B[0m\u001B[0mlen\u001B[0m\u001B[0;34m(\u001B[0m\u001B[0mexisting_piece\u001B[0m\u001B[0;34m.\u001B[0m\u001B[0mcolumns\u001B[0m\u001B[0;34m)\u001B[0m\u001B[0;34m,\u001B[0m \u001B[0;36m1\u001B[0m\u001B[0;34m)\u001B[0m\u001B[0;34m)\u001B[0m\u001B[0;34m.\u001B[0m\u001B[0mT\u001B[0m\u001B[0;34m\u001B[0m\u001B[0;34m\u001B[0m\u001B[0m\n\u001B[1;32m   4312\u001B[0m                     \u001B[0mrefs\u001B[0m \u001B[0;34m=\u001B[0m \u001B[0;32mNone\u001B[0m\u001B[0;34m\u001B[0m\u001B[0;34m\u001B[0m\u001B[0m\n\u001B[1;32m   4313\u001B[0m \u001B[0;34m\u001B[0m\u001B[0m\n\u001B[0;32m-> 4314\u001B[0;31m         \u001B[0mself\u001B[0m\u001B[0;34m.\u001B[0m\u001B[0m_set_item_mgr\u001B[0m\u001B[0;34m(\u001B[0m\u001B[0mkey\u001B[0m\u001B[0;34m,\u001B[0m \u001B[0mvalue\u001B[0m\u001B[0;34m,\u001B[0m \u001B[0mrefs\u001B[0m\u001B[0;34m)\u001B[0m\u001B[0;34m\u001B[0m\u001B[0;34m\u001B[0m\u001B[0m\n\u001B[0m",
      "\u001B[0;32m~/anaconda3/lib/python3.11/site-packages/pandas/core/frame.py\u001B[0m in \u001B[0;36m?\u001B[0;34m(self, key, value, refs)\u001B[0m\n\u001B[1;32m   4268\u001B[0m         \u001B[0;31m# check if we are modifying a copy\u001B[0m\u001B[0;34m\u001B[0m\u001B[0;34m\u001B[0m\u001B[0m\n\u001B[1;32m   4269\u001B[0m         \u001B[0;31m# try to set first as we want an invalid\u001B[0m\u001B[0;34m\u001B[0m\u001B[0;34m\u001B[0m\u001B[0m\n\u001B[1;32m   4270\u001B[0m         \u001B[0;31m# value exception to occur first\u001B[0m\u001B[0;34m\u001B[0m\u001B[0;34m\u001B[0m\u001B[0m\n\u001B[1;32m   4271\u001B[0m         \u001B[0;32mif\u001B[0m \u001B[0mlen\u001B[0m\u001B[0;34m(\u001B[0m\u001B[0mself\u001B[0m\u001B[0;34m)\u001B[0m\u001B[0;34m:\u001B[0m\u001B[0;34m\u001B[0m\u001B[0;34m\u001B[0m\u001B[0m\n\u001B[0;32m-> 4272\u001B[0;31m             \u001B[0mself\u001B[0m\u001B[0;34m.\u001B[0m\u001B[0m_check_setitem_copy\u001B[0m\u001B[0;34m(\u001B[0m\u001B[0;34m)\u001B[0m\u001B[0;34m\u001B[0m\u001B[0;34m\u001B[0m\u001B[0m\n\u001B[0m",
      "\u001B[0;32m~/anaconda3/lib/python3.11/site-packages/pandas/core/generic.py\u001B[0m in \u001B[0;36m?\u001B[0;34m(self, t, force)\u001B[0m\n\u001B[1;32m   4404\u001B[0m                 \u001B[0;34m\"indexing.html#returning-a-view-versus-a-copy\"\u001B[0m\u001B[0;34m\u001B[0m\u001B[0;34m\u001B[0m\u001B[0m\n\u001B[1;32m   4405\u001B[0m             )\n\u001B[1;32m   4406\u001B[0m \u001B[0;34m\u001B[0m\u001B[0m\n\u001B[1;32m   4407\u001B[0m         \u001B[0;32mif\u001B[0m \u001B[0mvalue\u001B[0m \u001B[0;34m==\u001B[0m \u001B[0;34m\"raise\"\u001B[0m\u001B[0;34m:\u001B[0m\u001B[0;34m\u001B[0m\u001B[0;34m\u001B[0m\u001B[0m\n\u001B[0;32m-> 4408\u001B[0;31m             \u001B[0;32mraise\u001B[0m \u001B[0mSettingWithCopyError\u001B[0m\u001B[0;34m(\u001B[0m\u001B[0mt\u001B[0m\u001B[0;34m)\u001B[0m\u001B[0;34m\u001B[0m\u001B[0;34m\u001B[0m\u001B[0m\n\u001B[0m\u001B[1;32m   4409\u001B[0m         \u001B[0;32mif\u001B[0m \u001B[0mvalue\u001B[0m \u001B[0;34m==\u001B[0m \u001B[0;34m\"warn\"\u001B[0m\u001B[0;34m:\u001B[0m\u001B[0;34m\u001B[0m\u001B[0;34m\u001B[0m\u001B[0m\n\u001B[1;32m   4410\u001B[0m             \u001B[0mwarnings\u001B[0m\u001B[0;34m.\u001B[0m\u001B[0mwarn\u001B[0m\u001B[0;34m(\u001B[0m\u001B[0mt\u001B[0m\u001B[0;34m,\u001B[0m \u001B[0mSettingWithCopyWarning\u001B[0m\u001B[0;34m,\u001B[0m \u001B[0mstacklevel\u001B[0m\u001B[0;34m=\u001B[0m\u001B[0mfind_stack_level\u001B[0m\u001B[0;34m(\u001B[0m\u001B[0;34m)\u001B[0m\u001B[0;34m)\u001B[0m\u001B[0;34m\u001B[0m\u001B[0;34m\u001B[0m\u001B[0m\n",
      "\u001B[0;31mSettingWithCopyError\u001B[0m: \nA value is trying to be set on a copy of a slice from a DataFrame.\nTry using .loc[row_indexer,col_indexer] = value instead\n\nSee the caveats in the documentation: https://pandas.pydata.org/pandas-docs/stable/user_guide/indexing.html#returning-a-view-versus-a-copy"
     ]
    }
   ],
   "execution_count": 50
  },
  {
   "metadata": {},
   "cell_type": "markdown",
   "source": "Comprobamos que la transformación ha sido exitosa",
   "id": "8b493b66b5dff3d4"
  },
  {
   "metadata": {
    "ExecuteTime": {
     "end_time": "2024-06-19T03:38:50.581430Z",
     "start_time": "2024-06-19T03:38:50.578276Z"
    }
   },
   "cell_type": "code",
   "source": [
    "print(train_malignant['label'].unique())\n",
    "print(train_malignant.label.value_counts())\n",
    "y_true = train_malignant.label.to_list()\n",
    "test_malign_imgs = train_malignant.image.to_list()"
   ],
   "id": "b3ee538161977f1e",
   "outputs": [
    {
     "name": "stdout",
     "output_type": "stream",
     "text": [
      "[1 0 2]\n",
      "label\n",
      "1    2950\n",
      "0    1969\n",
      "2     549\n",
      "Name: count, dtype: int64\n"
     ]
    }
   ],
   "execution_count": 51
  },
  {
   "metadata": {},
   "cell_type": "markdown",
   "source": "Cargamos modelo original y realizamos inferncia",
   "id": "4c7eddfbd7e00d3b"
  },
  {
   "metadata": {
    "ExecuteTime": {
     "end_time": "2024-06-19T03:38:50.616829Z",
     "start_time": "2024-06-19T03:38:50.614341Z"
    }
   },
   "cell_type": "code",
   "source": [
    "#Preprocesamiento (solo resize y normalización)\n",
    "transform = transforms.Compose([\n",
    "    transforms.Resize((512, 512)),\n",
    "    transforms.ToTensor(),\n",
    "    transforms.Normalize(mean=[0.485, 0.456, 0.406], std=[0.229, 0.224, 0.225]),\n",
    "])"
   ],
   "id": "8b294eb21bc21681",
   "outputs": [],
   "execution_count": 52
  },
  {
   "metadata": {
    "ExecuteTime": {
     "end_time": "2024-06-19T03:41:58.862853Z",
     "start_time": "2024-06-19T03:38:50.618132Z"
    }
   },
   "cell_type": "code",
   "source": [
    "# Cargamos el modelo original\n",
    "model = torch.jit.load(\"bestISICmalignant_512.pt\").to('cuda')\n",
    "y_pred = evaluate_original(model, test_malign_imgs)"
   ],
   "id": "1b181ac867d86033",
   "outputs": [],
   "execution_count": 53
  },
  {
   "metadata": {
    "ExecuteTime": {
     "end_time": "2024-06-19T03:41:58.871445Z",
     "start_time": "2024-06-19T03:41:58.863554Z"
    }
   },
   "cell_type": "code",
   "source": "print(classification_report(y_true, y_pred))",
   "id": "b8e19f0eee6ed2b5",
   "outputs": [
    {
     "name": "stdout",
     "output_type": "stream",
     "text": [
      "              precision    recall  f1-score   support\n",
      "\n",
      "           0       0.80      0.84      0.82      1969\n",
      "           1       0.87      0.92      0.89      2950\n",
      "           2       0.65      0.37      0.47       549\n",
      "\n",
      "    accuracy                           0.83      5468\n",
      "   macro avg       0.78      0.71      0.73      5468\n",
      "weighted avg       0.83      0.83      0.83      5468\n",
      "\n"
     ]
    }
   ],
   "execution_count": 54
  },
  {
   "metadata": {},
   "cell_type": "markdown",
   "source": "",
   "id": "ba4d1936d1ce5f1c"
  },
  {
   "metadata": {},
   "cell_type": "markdown",
   "source": "### Modelo cuantizado",
   "id": "6ba12fa82da0398d"
  },
  {
   "metadata": {
    "ExecuteTime": {
     "end_time": "2024-06-19T03:41:58.913732Z",
     "start_time": "2024-06-19T03:41:58.871856Z"
    }
   },
   "cell_type": "code",
   "source": "model_opt = torch.jit.load(\"bestISICmalignant 512_android.ptl\")",
   "id": "5e11a7a0253ebee1",
   "outputs": [],
   "execution_count": 55
  },
  {
   "metadata": {
    "ExecuteTime": {
     "end_time": "2024-06-19T04:25:32.729641Z",
     "start_time": "2024-06-19T03:41:58.914794Z"
    }
   },
   "cell_type": "code",
   "source": "y_pred = evaluate_mobile(model_opt, test_malign_imgs)",
   "id": "875750270cf5ee9c",
   "outputs": [],
   "execution_count": 56
  },
  {
   "metadata": {
    "ExecuteTime": {
     "end_time": "2024-06-19T04:25:32.739927Z",
     "start_time": "2024-06-19T04:25:32.730210Z"
    }
   },
   "cell_type": "code",
   "source": "print(classification_report(y_true, y_pred))",
   "id": "4b7e829e43855a6c",
   "outputs": [
    {
     "name": "stdout",
     "output_type": "stream",
     "text": [
      "              precision    recall  f1-score   support\n",
      "\n",
      "           0       0.80      0.84      0.82      1969\n",
      "           1       0.87      0.92      0.89      2950\n",
      "           2       0.65      0.37      0.47       549\n",
      "\n",
      "    accuracy                           0.83      5468\n",
      "   macro avg       0.78      0.71      0.73      5468\n",
      "weighted avg       0.82      0.83      0.82      5468\n",
      "\n"
     ]
    }
   ],
   "execution_count": 57
  }
 ],
 "metadata": {
  "kernelspec": {
   "display_name": "Python 3",
   "language": "python",
   "name": "python3"
  },
  "language_info": {
   "codemirror_mode": {
    "name": "ipython",
    "version": 3
   },
   "file_extension": ".py",
   "mimetype": "text/x-python",
   "name": "python",
   "nbconvert_exporter": "python",
   "pygments_lexer": "ipython3",
   "version": "3.11.0"
  }
 },
 "nbformat": 4,
 "nbformat_minor": 5
}
