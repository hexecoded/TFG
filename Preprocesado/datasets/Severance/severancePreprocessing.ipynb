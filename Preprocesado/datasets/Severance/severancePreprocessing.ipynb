{
 "cells": [
  {
   "cell_type": "markdown",
   "source": [
    "# Análisis y preprocesado del dataset Severance\n",
    "### Importación de librerías"
   ],
   "metadata": {
    "collapsed": false
   }
  },
  {
   "cell_type": "code",
   "execution_count": 7,
   "metadata": {
    "ExecuteTime": {
     "end_time": "2024-03-14T19:33:28.965924500Z",
     "start_time": "2024-03-14T19:33:28.963413200Z"
    }
   },
   "outputs": [],
   "source": [
    "import os\n",
    "import cv2\n",
    "\n",
    "import matplotlib.pyplot as plt\n",
    "import numpy as np\n",
    "import pandas as pd\n",
    "\n",
    "grosor_borde = 4  # Establece el grosor en píxeles del borde blanco a eliminar"
   ]
  },
  {
   "cell_type": "code",
   "outputs": [],
   "source": [
    "'''\n",
    "This function receives a string with the filename of the image to read,\n",
    "and a flag indicating if we want to read it in color/RGB (flagColor=1) or gray level (flagColor=0)\n",
    "\n",
    "Example of use:\n",
    "im1=readIm(get_image('apple.jpg'),0)\n",
    "'''\n",
    "\n",
    "\n",
    "def readIm(filename, flagColor=1):\n",
    "    # cv2 reads BGR format\n",
    "    im = cv2.imread(filename)\n",
    "    # change to  RGB and return the image\n",
    "    if (flagColor):\n",
    "        return cv2.cvtColor(im, cv2.COLOR_BGR2RGB)\n",
    "    # change from BGR to grayscale instead if flag is 0\n",
    "    return cv2.cvtColor(im, cv2.COLOR_BGR2GRAY)\n",
    "\n",
    "\n",
    "'''\n",
    "This function receives an array of arbitrary real numbers (that could include even negative values),\n",
    "and returns an 'image' in the range [0,1].\n",
    "flag_GLOBAL allows the user to normalize the whole image (including all channels) or to normalize\n",
    "each channel/band independently.\n",
    "'''\n",
    "\n",
    "\n",
    "def rangeDisplay01(im, flag_GLOBAL=True):\n",
    "    im = im.astype(float)\n",
    "    if flag_GLOBAL:\n",
    "        im = (im - im.min()) / (im.max() - im.min())\n",
    "    else:\n",
    "        # bands normalization\n",
    "        for band in range(im.shape[2]):\n",
    "            im[:, :, band] = (im[:, :, band] - im[:, :, band].min()) / (im[:, :, band].max() - im[:, :, band].min())\n",
    "            # Note: remember that, for plt.imshow with RGB data, the valid range is [0..1] for floats and [0..255] for integers.\n",
    "    return im\n",
    "\n",
    "\n",
    "\"\"\"\n",
    "Función para mostrar imágenes en pantalla en color y blanco negro. Permite realizar\n",
    "aumento sobre las mismas para apreciar un mayor detalle.\n",
    "\n",
    "Entrada:\n",
    "    im: imagen leída en formato ndarray\n",
    "    title: nombre que recibe el marco en pantalla\n",
    "    factor: factor de aumento de la image, \"zoom\"\n",
    "\"\"\"\n",
    "\n",
    "\n",
    "def displayIm(im, title='Result', factor=2):\n",
    "    # First normalize range\n",
    "    max = np.max(im)\n",
    "    min = np.min(im)\n",
    "    if min < 0 or max > 255:\n",
    "        im = rangeDisplay01(im, flag_GLOBAL=True)\n",
    "    if len(im.shape) == 3:\n",
    "        # im es tribanda\n",
    "        plt.imshow(im, cmap='jet')\n",
    "    else:\n",
    "        # im es monobanda\n",
    "        plt.imshow(im, cmap='gray')\n",
    "    figure_size = plt.gcf().get_size_inches()\n",
    "    plt.gcf().set_size_inches(factor * figure_size)\n",
    "    plt.title(title)\n",
    "    plt.xticks([]), plt.yticks([])  # eliminamos numeración\n",
    "    plt.show()"
   ],
   "metadata": {
    "collapsed": false,
    "ExecuteTime": {
     "end_time": "2024-03-14T19:24:59.870294300Z",
     "start_time": "2024-03-14T19:24:59.863052200Z"
    }
   },
   "execution_count": 2
  },
  {
   "cell_type": "markdown",
   "source": [
    "### Lectura de las imágenes"
   ],
   "metadata": {
    "collapsed": false
   }
  },
  {
   "cell_type": "code",
   "outputs": [
    {
     "name": "stdout",
     "output_type": "stream",
     "text": [
      "C:\\Users\\Cris1\\Desktop\\TFG\\datasets\\Severance\\SeveranceA_Thumbnails\n"
     ]
    },
    {
     "data": {
      "text/plain": "                      0   1  2                                3  \\\n0      actinickeratosis  60  M                  R/O AK\\nR/O SCC   \n1      actinickeratosis  68  F                           R/O AK   \n2      actinickeratosis  39  F                   R/O AK\\nR/O SK   \n3      actinickeratosis  63  F                           R/O AK   \n4      actinickeratosis  66  F                   R/O SK\\nR/O AK   \n...                 ...  .. ..                              ...   \n10421        spitznevus  18  F  R/O inflammed intradermal nevus   \n10422        spitznevus  13  F                           R/O GP   \n10423        spitznevus  14  F                  R/O spitz nevus   \n10424        spitznevus   8  M                   R/O hemangioma   \n10425        spitznevus   8  F                  R/O Spitz nevus   \n\n                                             4              5          6  \n0      actinickeratosis;squamouscellcarcinoma;      Lt. cheek  Head&Neck  \n1                            actinickeratosis;  perioral area  Head&Neck  \n2        actinickeratosis;seborrheickeratosis;           nose  Head&Neck  \n3                            actinickeratosis;          cheek  Head&Neck  \n4        seborrheickeratosis;actinickeratosis;           nose  Head&Neck  \n...                                        ...            ...        ...  \n10421                        melanocyticnevus;          cheek  Head&Neck  \n10422                       pyogenicgranuloma;       Lt. calf        Leg  \n10423                             otherbenign;      lower leg        Leg  \n10424                              hemangioma;      Rt. thigh        Leg  \n10425                             otherbenign;        abdomen      Trunk  \n\n[10426 rows x 7 columns]",
      "text/html": "<div>\n<style scoped>\n    .dataframe tbody tr th:only-of-type {\n        vertical-align: middle;\n    }\n\n    .dataframe tbody tr th {\n        vertical-align: top;\n    }\n\n    .dataframe thead th {\n        text-align: right;\n    }\n</style>\n<table border=\"1\" class=\"dataframe\">\n  <thead>\n    <tr style=\"text-align: right;\">\n      <th></th>\n      <th>0</th>\n      <th>1</th>\n      <th>2</th>\n      <th>3</th>\n      <th>4</th>\n      <th>5</th>\n      <th>6</th>\n    </tr>\n  </thead>\n  <tbody>\n    <tr>\n      <th>0</th>\n      <td>actinickeratosis</td>\n      <td>60</td>\n      <td>M</td>\n      <td>R/O AK\\nR/O SCC</td>\n      <td>actinickeratosis;squamouscellcarcinoma;</td>\n      <td>Lt. cheek</td>\n      <td>Head&amp;Neck</td>\n    </tr>\n    <tr>\n      <th>1</th>\n      <td>actinickeratosis</td>\n      <td>68</td>\n      <td>F</td>\n      <td>R/O AK</td>\n      <td>actinickeratosis;</td>\n      <td>perioral area</td>\n      <td>Head&amp;Neck</td>\n    </tr>\n    <tr>\n      <th>2</th>\n      <td>actinickeratosis</td>\n      <td>39</td>\n      <td>F</td>\n      <td>R/O AK\\nR/O SK</td>\n      <td>actinickeratosis;seborrheickeratosis;</td>\n      <td>nose</td>\n      <td>Head&amp;Neck</td>\n    </tr>\n    <tr>\n      <th>3</th>\n      <td>actinickeratosis</td>\n      <td>63</td>\n      <td>F</td>\n      <td>R/O AK</td>\n      <td>actinickeratosis;</td>\n      <td>cheek</td>\n      <td>Head&amp;Neck</td>\n    </tr>\n    <tr>\n      <th>4</th>\n      <td>actinickeratosis</td>\n      <td>66</td>\n      <td>F</td>\n      <td>R/O SK\\nR/O AK</td>\n      <td>seborrheickeratosis;actinickeratosis;</td>\n      <td>nose</td>\n      <td>Head&amp;Neck</td>\n    </tr>\n    <tr>\n      <th>...</th>\n      <td>...</td>\n      <td>...</td>\n      <td>...</td>\n      <td>...</td>\n      <td>...</td>\n      <td>...</td>\n      <td>...</td>\n    </tr>\n    <tr>\n      <th>10421</th>\n      <td>spitznevus</td>\n      <td>18</td>\n      <td>F</td>\n      <td>R/O inflammed intradermal nevus</td>\n      <td>melanocyticnevus;</td>\n      <td>cheek</td>\n      <td>Head&amp;Neck</td>\n    </tr>\n    <tr>\n      <th>10422</th>\n      <td>spitznevus</td>\n      <td>13</td>\n      <td>F</td>\n      <td>R/O GP</td>\n      <td>pyogenicgranuloma;</td>\n      <td>Lt. calf</td>\n      <td>Leg</td>\n    </tr>\n    <tr>\n      <th>10423</th>\n      <td>spitznevus</td>\n      <td>14</td>\n      <td>F</td>\n      <td>R/O spitz nevus</td>\n      <td>otherbenign;</td>\n      <td>lower leg</td>\n      <td>Leg</td>\n    </tr>\n    <tr>\n      <th>10424</th>\n      <td>spitznevus</td>\n      <td>8</td>\n      <td>M</td>\n      <td>R/O hemangioma</td>\n      <td>hemangioma;</td>\n      <td>Rt. thigh</td>\n      <td>Leg</td>\n    </tr>\n    <tr>\n      <th>10425</th>\n      <td>spitznevus</td>\n      <td>8</td>\n      <td>F</td>\n      <td>R/O Spitz nevus</td>\n      <td>otherbenign;</td>\n      <td>abdomen</td>\n      <td>Trunk</td>\n    </tr>\n  </tbody>\n</table>\n<p>10426 rows × 7 columns</p>\n</div>"
     },
     "metadata": {},
     "output_type": "display_data"
    }
   ],
   "source": [
    "img_path = \"../\"\n",
    "print(os.getcwd())\n",
    "# XML sin preprocesar\n",
    "os.chdir(img_path)\n",
    "\n",
    "trainData = pd.read_excel('SeveranceA.xls', header=None)\n",
    "\n",
    "# .csv procesado\n",
    "#filas = get_thumbnails(trainData, img_path)\n",
    "#train = pd.DataFrame(filas, columns=trainData.columns)\n",
    "display(trainData)\n",
    "os.chdir(\"SeveranceA_Thumbnails/\")"
   ],
   "metadata": {
    "collapsed": false,
    "ExecuteTime": {
     "end_time": "2024-03-14T19:24:59.990714800Z",
     "start_time": "2024-03-14T19:24:59.866773900Z"
    }
   },
   "execution_count": 3
  },
  {
   "cell_type": "code",
   "outputs": [
    {
     "name": "stdout",
     "output_type": "stream",
     "text": [
      "C:\\Users\\Cris1\\Desktop\\TFG\\datasets\\Severance\\SeveranceA_Thumbnails\n"
     ]
    }
   ],
   "source": [
    "print(os.getcwd())"
   ],
   "metadata": {
    "collapsed": false,
    "ExecuteTime": {
     "end_time": "2024-03-14T19:24:59.990714800Z",
     "start_time": "2024-03-14T19:24:59.985880Z"
    }
   },
   "execution_count": 4
  },
  {
   "cell_type": "markdown",
   "source": [
    "### Tratamiento y división\n",
    "\n",
    "Se leen de disco las imágenes de gran tamaño y se dividen en miniaturas para su tratamiento. Se procede a la eliminación de posibles bordes blancos restantes mediante la eliminación de 4 píxeles de margen."
   ],
   "metadata": {
    "collapsed": false
   }
  },
  {
   "cell_type": "code",
   "outputs": [],
   "source": [
    "import pathlib\n",
    "\n",
    "# Creamos directorio de imágenes recortadas\n",
    "if not os.path.exists('thumbnails'):\n",
    "    os.makedirs('thumbnails')\n",
    "\n",
    "# Listamos las imágenes en rejilla disponibles\n",
    "files = [f for f in pathlib.Path().iterdir() if f.is_file()][:-2]\n",
    "\n",
    "names = []\n",
    "diss_class = []\n",
    "j = -1\n",
    "\n",
    "trainProcessed = []\n",
    "\n",
    "for f in files:\n",
    "    # Retiramos la extensión del fichero\n",
    "    name = str(f)[:-4]\n",
    "\n",
    "    # Leemos la imagen\n",
    "    image = cv2.imread(str(f), cv2.IMREAD_UNCHANGED)[2:-6]\n",
    "\n",
    "    # Dividimos la rejilla\n",
    "    image_split = np.split(image[1:-1], 8)\n",
    "\n",
    "    i = 0\n",
    "    for im in image_split:\n",
    "        # Recorta la imagen en columnas\n",
    "        image_split_col = np.split(im[:, 2:-3], 15, axis=1)\n",
    "        # Para cada imagen\n",
    "        for imcol in image_split_col:\n",
    "            # Eliminar el borde\n",
    "            img_sin_borde = imcol[grosor_borde:-grosor_borde, grosor_borde:-grosor_borde]\n",
    "            if (np.count_nonzero(imcol == 255) > 20000):  # Si es imagen de separador con nombre\n",
    "                j += 1  # Cambiamos de etiqueta al siguiente paciente\n",
    "                continue\n",
    "            else:\n",
    "                actual = list(trainData.iloc[j])\n",
    "                actual.append(f\"{name}_{i}.png\")\n",
    "                trainProcessed.append(actual)\n",
    "            # Guardamos la imagen y añadimos su nombre\n",
    "            cv2.imwrite(f\"thumbnails/{name}_{i}.png\", img_sin_borde)\n",
    "            names.append(f\"{name}_{i}.png\")\n",
    "            i += 1\n",
    "\n",
    "        diss_class.append(name)"
   ],
   "metadata": {
    "collapsed": false,
    "ExecuteTime": {
     "end_time": "2024-03-14T19:25:25.225809400Z",
     "start_time": "2024-03-14T19:24:59.992714800Z"
    }
   },
   "execution_count": 5
  },
  {
   "cell_type": "markdown",
   "source": [
    "Ahora, podemos guardar todas las imágenes en disco creando un nuevo fichero csv que permita fácilmente identificar los metadatos de cada miniatura"
   ],
   "metadata": {
    "collapsed": false
   }
  },
  {
   "cell_type": "code",
   "outputs": [
    {
     "data": {
      "text/plain": "                  label  age sex  abrev_diagnosis  \\\n0      actinickeratosis   60   M  R/O AK\\nR/O SCC   \n1      actinickeratosis   60   M  R/O AK\\nR/O SCC   \n2      actinickeratosis   60   M  R/O AK\\nR/O SCC   \n3      actinickeratosis   60   M  R/O AK\\nR/O SCC   \n4      actinickeratosis   68   F           R/O AK   \n...                 ...  ...  ..              ...   \n35165        spitznevus    8   F  R/O Spitz nevus   \n35166        spitznevus    8   F  R/O Spitz nevus   \n35167        spitznevus    8   F  R/O Spitz nevus   \n35168        spitznevus    8   F  R/O Spitz nevus   \n35169        spitznevus    8   F  R/O Spitz nevus   \n\n                                     diagnosis       fine_loc        loc  \\\n0      actinickeratosis;squamouscellcarcinoma;      Lt. cheek  Head&Neck   \n1      actinickeratosis;squamouscellcarcinoma;      Lt. cheek  Head&Neck   \n2      actinickeratosis;squamouscellcarcinoma;      Lt. cheek  Head&Neck   \n3      actinickeratosis;squamouscellcarcinoma;      Lt. cheek  Head&Neck   \n4                            actinickeratosis;  perioral area  Head&Neck   \n...                                        ...            ...        ...   \n35165                             otherbenign;        abdomen      Trunk   \n35166                             otherbenign;        abdomen      Trunk   \n35167                             otherbenign;        abdomen      Trunk   \n35168                             otherbenign;        abdomen      Trunk   \n35169                             otherbenign;        abdomen      Trunk   \n\n            image  \n0       001_0.png  \n1       001_1.png  \n2       001_2.png  \n3       001_3.png  \n4       001_4.png  \n...           ...  \n35165  380_88.png  \n35166  380_89.png  \n35167  380_90.png  \n35168  380_91.png  \n35169  380_92.png  \n\n[35170 rows x 8 columns]",
      "text/html": "<div>\n<style scoped>\n    .dataframe tbody tr th:only-of-type {\n        vertical-align: middle;\n    }\n\n    .dataframe tbody tr th {\n        vertical-align: top;\n    }\n\n    .dataframe thead th {\n        text-align: right;\n    }\n</style>\n<table border=\"1\" class=\"dataframe\">\n  <thead>\n    <tr style=\"text-align: right;\">\n      <th></th>\n      <th>label</th>\n      <th>age</th>\n      <th>sex</th>\n      <th>abrev_diagnosis</th>\n      <th>diagnosis</th>\n      <th>fine_loc</th>\n      <th>loc</th>\n      <th>image</th>\n    </tr>\n  </thead>\n  <tbody>\n    <tr>\n      <th>0</th>\n      <td>actinickeratosis</td>\n      <td>60</td>\n      <td>M</td>\n      <td>R/O AK\\nR/O SCC</td>\n      <td>actinickeratosis;squamouscellcarcinoma;</td>\n      <td>Lt. cheek</td>\n      <td>Head&amp;Neck</td>\n      <td>001_0.png</td>\n    </tr>\n    <tr>\n      <th>1</th>\n      <td>actinickeratosis</td>\n      <td>60</td>\n      <td>M</td>\n      <td>R/O AK\\nR/O SCC</td>\n      <td>actinickeratosis;squamouscellcarcinoma;</td>\n      <td>Lt. cheek</td>\n      <td>Head&amp;Neck</td>\n      <td>001_1.png</td>\n    </tr>\n    <tr>\n      <th>2</th>\n      <td>actinickeratosis</td>\n      <td>60</td>\n      <td>M</td>\n      <td>R/O AK\\nR/O SCC</td>\n      <td>actinickeratosis;squamouscellcarcinoma;</td>\n      <td>Lt. cheek</td>\n      <td>Head&amp;Neck</td>\n      <td>001_2.png</td>\n    </tr>\n    <tr>\n      <th>3</th>\n      <td>actinickeratosis</td>\n      <td>60</td>\n      <td>M</td>\n      <td>R/O AK\\nR/O SCC</td>\n      <td>actinickeratosis;squamouscellcarcinoma;</td>\n      <td>Lt. cheek</td>\n      <td>Head&amp;Neck</td>\n      <td>001_3.png</td>\n    </tr>\n    <tr>\n      <th>4</th>\n      <td>actinickeratosis</td>\n      <td>68</td>\n      <td>F</td>\n      <td>R/O AK</td>\n      <td>actinickeratosis;</td>\n      <td>perioral area</td>\n      <td>Head&amp;Neck</td>\n      <td>001_4.png</td>\n    </tr>\n    <tr>\n      <th>...</th>\n      <td>...</td>\n      <td>...</td>\n      <td>...</td>\n      <td>...</td>\n      <td>...</td>\n      <td>...</td>\n      <td>...</td>\n      <td>...</td>\n    </tr>\n    <tr>\n      <th>35165</th>\n      <td>spitznevus</td>\n      <td>8</td>\n      <td>F</td>\n      <td>R/O Spitz nevus</td>\n      <td>otherbenign;</td>\n      <td>abdomen</td>\n      <td>Trunk</td>\n      <td>380_88.png</td>\n    </tr>\n    <tr>\n      <th>35166</th>\n      <td>spitznevus</td>\n      <td>8</td>\n      <td>F</td>\n      <td>R/O Spitz nevus</td>\n      <td>otherbenign;</td>\n      <td>abdomen</td>\n      <td>Trunk</td>\n      <td>380_89.png</td>\n    </tr>\n    <tr>\n      <th>35167</th>\n      <td>spitznevus</td>\n      <td>8</td>\n      <td>F</td>\n      <td>R/O Spitz nevus</td>\n      <td>otherbenign;</td>\n      <td>abdomen</td>\n      <td>Trunk</td>\n      <td>380_90.png</td>\n    </tr>\n    <tr>\n      <th>35168</th>\n      <td>spitznevus</td>\n      <td>8</td>\n      <td>F</td>\n      <td>R/O Spitz nevus</td>\n      <td>otherbenign;</td>\n      <td>abdomen</td>\n      <td>Trunk</td>\n      <td>380_91.png</td>\n    </tr>\n    <tr>\n      <th>35169</th>\n      <td>spitznevus</td>\n      <td>8</td>\n      <td>F</td>\n      <td>R/O Spitz nevus</td>\n      <td>otherbenign;</td>\n      <td>abdomen</td>\n      <td>Trunk</td>\n      <td>380_92.png</td>\n    </tr>\n  </tbody>\n</table>\n<p>35170 rows × 8 columns</p>\n</div>"
     },
     "metadata": {},
     "output_type": "display_data"
    }
   ],
   "source": [
    "# Creamos el dataframe con las imágenes recortadas\n",
    "trainProcessedDF = pd.DataFrame(trainProcessed)\n",
    "trainProcessedDF.columns = [\"label\", \"age\", \"sex\", \"abrev_diagnosis\", \"diagnosis\", \"fine_loc\", \"loc\", \"image\"]\n",
    "\n",
    "# Salvamos a disco duro la información\n",
    "display(trainProcessedDF)\n",
    "trainProcessedDF.to_csv(\"severanceTrainingSet_thumbnails.csv\", sep=',', encoding='utf-8')"
   ],
   "metadata": {
    "collapsed": false,
    "ExecuteTime": {
     "end_time": "2024-03-14T19:25:25.401732900Z",
     "start_time": "2024-03-14T19:25:25.226809400Z"
    }
   },
   "execution_count": 6
  }
 ],
 "metadata": {
  "kernelspec": {
   "display_name": "base",
   "language": "python",
   "name": "python3"
  },
  "language_info": {
   "codemirror_mode": {
    "name": "ipython",
    "version": 3
   },
   "file_extension": ".py",
   "mimetype": "text/x-python",
   "name": "python",
   "nbconvert_exporter": "python",
   "pygments_lexer": "ipython3",
   "version": "3.11.5"
  }
 },
 "nbformat": 4,
 "nbformat_minor": 2
}
