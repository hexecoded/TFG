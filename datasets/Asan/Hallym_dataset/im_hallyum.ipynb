{
 "cells": [
  {
   "cell_type": "code",
   "execution_count": 1,
   "metadata": {
    "ExecuteTime": {
     "end_time": "2024-04-01T01:08:53.699217Z",
     "start_time": "2024-04-01T01:08:53.512145Z"
    }
   },
   "outputs": [
    {
     "name": "stdout",
     "output_type": "stream",
     "text": [
      "L#12dx#hallym#back bcc.png\n",
      "bcc\n",
      "L#12dx#hallym#hallym bcc.png\n",
      "bcc\n"
     ]
    }
   ],
   "source": [
    "import cv2\n",
    "import csv\n",
    "\n",
    "import matplotlib.pyplot as plt\n",
    "import numpy as np\n",
    "import pandas as pd\n",
    "\n",
    "grosor_borde = 8\n",
    "\n",
    "\n",
    "def displayIm(im, title='Result',factor= 2):\n",
    "  # First normalize range\n",
    "  max=np.max(im)\n",
    "  min=np.min(im)\n",
    "  if min<0 or max>255:\n",
    "    im=rangeDisplay01(im,flag_GLOBAL=True)\n",
    "  if len(im.shape) == 3:\n",
    "    # im es tribanda\n",
    "    plt.imshow(im, cmap='jet')\n",
    "  else:\n",
    "    # im es monobanda\n",
    "    plt.imshow(im, cmap='gray')\n",
    "  figure_size = plt.gcf().get_size_inches()\n",
    "  plt.gcf().set_size_inches(factor * figure_size)\n",
    "  plt.title(title)\n",
    "  plt.xticks([]), plt.yticks([]) # eliminamos numeración\n",
    "  plt.show()\n",
    "\n",
    "# This function display the KeyPoints of an image\n",
    "def showKP(im,kp,title):\n",
    "    im_orig = im.copy()\n",
    "    for curKey in kp:\n",
    "            x=np.int(curKey.pt[0])\n",
    "            y=np.int(curKey.pt[1])\n",
    "            size = np.int(curKey.size)\n",
    "            cv2.circle(im,(x,y),40,color=(0,0,0), thickness=1) \n",
    "    displayIm(im, title)  \n",
    "\n",
    "\n",
    "import pathlib\n",
    "\n",
    "files = [f for f in pathlib.Path().iterdir() if f.is_file()][1:]\n",
    "\n",
    "names = []\n",
    "diss_class = []\n",
    "\n",
    "i=0\n",
    "\n",
    "for f in files:\n",
    "  name = str(f)[-7:-4]\n",
    "  print(f)\n",
    "  print(name)\n",
    "\n",
    "\n",
    "  image = cv2.imread(str(f), cv2.IMREAD_UNCHANGED)\n",
    "\n",
    "  gray = cv2.cvtColor(image, cv2.COLOR_BGR2GRAY)\n",
    "\n",
    "  kernel = cv2.getStructuringElement(cv2.MORPH_RECT, (5,5))\n",
    "  gradient = cv2.morphologyEx(gray, cv2.MORPH_GRADIENT, kernel)\n",
    "\n",
    "  contours, _ = cv2.findContours(gradient, cv2.RETR_EXTERNAL, cv2.CHAIN_APPROX_SIMPLE)\n",
    "\n",
    "  for cnt in contours:\n",
    "      \n",
    "      (x,y,w,h) = cv2.boundingRect(cnt)\n",
    "      cv2.rectangle(image, (x,y), (x+w,y+h), (0,0,0))\n",
    "      box_image = image[y : y+h, x: x+w]\n",
    "\n",
    "      # Recorta la imagen para eliminar el borde\n",
    "      img_sin_borde = box_image[grosor_borde:-grosor_borde, grosor_borde:-grosor_borde]\n",
    "      cv2.imwrite(f\"cropped/{name}_{i}.png\", img_sin_borde)\n",
    "      i+=1\n",
    "      \n",
    "      names.append(f\"{name}_{i}.png\")\n",
    "      diss_class.append(name)\n",
    "\n",
    "\n",
    "\n"
   ]
  },
  {
   "cell_type": "code",
   "execution_count": 2,
   "metadata": {
    "ExecuteTime": {
     "end_time": "2024-04-01T01:08:53.711458Z",
     "start_time": "2024-04-01T01:08:53.700727Z"
    }
   },
   "outputs": [
    {
     "data": {
      "text/plain": "'\\nimport cv2\\nimport numpy as np\\nfrom matplotlib import pyplot as plt\\n\\n# Carga la imagen\\nimg = cv2.imread(\"tu_imagen.jpg\")\\n\\n# Define el grosor del borde que deseas eliminar (en píxeles)\\ngrosor_borde = 10\\n\\n# Recorta la imagen para eliminar el borde\\nimg_sin_borde = img[grosor_borde:-grosor_borde, grosor_borde:-grosor_borde]\\n\\n# Guarda la imagen sin el borde\\ncv2.imwrite(\"imagen_sin_borde.jpg\", img_sin_borde)\\nprint(\"Imagen sin borde guardada correctamente\")\\n\\n# Muestra la imagen original y la imagen sin borde\\nplt.subplot(121), plt.imshow(cv2.cvtColor(img, cv2.COLOR_BGR2RGB)), plt.title(\"Imagen Original\")\\nplt.subplot(122), plt.imshow(cv2.cvtColor(img_sin_borde, cv2.COLOR_BGR2RGB)), plt.title(\"Imagen sin Borde\")\\nplt.show()\\n'"
     },
     "execution_count": 2,
     "metadata": {},
     "output_type": "execute_result"
    }
   ],
   "source": [
    "\"\"\"\n",
    "import cv2\n",
    "import numpy as np\n",
    "from matplotlib import pyplot as plt\n",
    "\n",
    "# Carga la imagen\n",
    "img = cv2.imread(\"tu_imagen.jpg\")\n",
    "\n",
    "# Define el grosor del borde que deseas eliminar (en píxeles)\n",
    "grosor_borde = 10\n",
    "\n",
    "# Recorta la imagen para eliminar el borde\n",
    "img_sin_borde = img[grosor_borde:-grosor_borde, grosor_borde:-grosor_borde]\n",
    "\n",
    "# Guarda la imagen sin el borde\n",
    "cv2.imwrite(\"imagen_sin_borde.jpg\", img_sin_borde)\n",
    "print(\"Imagen sin borde guardada correctamente\")\n",
    "\n",
    "# Muestra la imagen original y la imagen sin borde\n",
    "plt.subplot(121), plt.imshow(cv2.cvtColor(img, cv2.COLOR_BGR2RGB)), plt.title(\"Imagen Original\")\n",
    "plt.subplot(122), plt.imshow(cv2.cvtColor(img_sin_borde, cv2.COLOR_BGR2RGB)), plt.title(\"Imagen sin Borde\")\n",
    "plt.show()\n",
    "\"\"\""
   ]
  },
  {
   "cell_type": "code",
   "execution_count": 3,
   "metadata": {
    "ExecuteTime": {
     "end_time": "2024-04-01T01:08:53.721568Z",
     "start_time": "2024-04-01T01:08:53.714480Z"
    }
   },
   "outputs": [
    {
     "name": "stdout",
     "output_type": "stream",
     "text": [
      "[['bcc_1.png', 'bcc'], ['bcc_2.png', 'bcc'], ['bcc_3.png', 'bcc'], ['bcc_4.png', 'bcc'], ['bcc_5.png', 'bcc'], ['bcc_6.png', 'bcc'], ['bcc_7.png', 'bcc'], ['bcc_8.png', 'bcc'], ['bcc_9.png', 'bcc'], ['bcc_10.png', 'bcc'], ['bcc_11.png', 'bcc'], ['bcc_12.png', 'bcc'], ['bcc_13.png', 'bcc'], ['bcc_14.png', 'bcc'], ['bcc_15.png', 'bcc'], ['bcc_16.png', 'bcc'], ['bcc_17.png', 'bcc'], ['bcc_18.png', 'bcc'], ['bcc_19.png', 'bcc'], ['bcc_20.png', 'bcc'], ['bcc_21.png', 'bcc'], ['bcc_22.png', 'bcc'], ['bcc_23.png', 'bcc'], ['bcc_24.png', 'bcc'], ['bcc_25.png', 'bcc'], ['bcc_26.png', 'bcc'], ['bcc_27.png', 'bcc'], ['bcc_28.png', 'bcc'], ['bcc_29.png', 'bcc'], ['bcc_30.png', 'bcc'], ['bcc_31.png', 'bcc'], ['bcc_32.png', 'bcc'], ['bcc_33.png', 'bcc'], ['bcc_34.png', 'bcc'], ['bcc_35.png', 'bcc'], ['bcc_36.png', 'bcc'], ['bcc_37.png', 'bcc'], ['bcc_38.png', 'bcc'], ['bcc_39.png', 'bcc'], ['bcc_40.png', 'bcc'], ['bcc_41.png', 'bcc'], ['bcc_42.png', 'bcc'], ['bcc_43.png', 'bcc'], ['bcc_44.png', 'bcc'], ['bcc_45.png', 'bcc'], ['bcc_46.png', 'bcc'], ['bcc_47.png', 'bcc'], ['bcc_48.png', 'bcc'], ['bcc_49.png', 'bcc'], ['bcc_50.png', 'bcc'], ['bcc_51.png', 'bcc'], ['bcc_52.png', 'bcc'], ['bcc_53.png', 'bcc'], ['bcc_54.png', 'bcc'], ['bcc_55.png', 'bcc'], ['bcc_56.png', 'bcc'], ['bcc_57.png', 'bcc'], ['bcc_58.png', 'bcc'], ['bcc_59.png', 'bcc'], ['bcc_60.png', 'bcc'], ['bcc_61.png', 'bcc'], ['bcc_62.png', 'bcc'], ['bcc_63.png', 'bcc'], ['bcc_64.png', 'bcc'], ['bcc_65.png', 'bcc'], ['bcc_66.png', 'bcc'], ['bcc_67.png', 'bcc'], ['bcc_68.png', 'bcc'], ['bcc_69.png', 'bcc'], ['bcc_70.png', 'bcc'], ['bcc_71.png', 'bcc'], ['bcc_72.png', 'bcc'], ['bcc_73.png', 'bcc'], ['bcc_74.png', 'bcc'], ['bcc_75.png', 'bcc'], ['bcc_76.png', 'bcc'], ['bcc_77.png', 'bcc'], ['bcc_78.png', 'bcc'], ['bcc_79.png', 'bcc'], ['bcc_80.png', 'bcc'], ['bcc_81.png', 'bcc'], ['bcc_82.png', 'bcc'], ['bcc_83.png', 'bcc'], ['bcc_84.png', 'bcc'], ['bcc_85.png', 'bcc'], ['bcc_86.png', 'bcc'], ['bcc_87.png', 'bcc'], ['bcc_88.png', 'bcc'], ['bcc_89.png', 'bcc'], ['bcc_90.png', 'bcc'], ['bcc_91.png', 'bcc'], ['bcc_92.png', 'bcc'], ['bcc_93.png', 'bcc'], ['bcc_94.png', 'bcc'], ['bcc_95.png', 'bcc'], ['bcc_96.png', 'bcc'], ['bcc_97.png', 'bcc'], ['bcc_98.png', 'bcc'], ['bcc_99.png', 'bcc'], ['bcc_100.png', 'bcc'], ['bcc_101.png', 'bcc'], ['bcc_102.png', 'bcc'], ['bcc_103.png', 'bcc'], ['bcc_104.png', 'bcc'], ['bcc_105.png', 'bcc'], ['bcc_106.png', 'bcc'], ['bcc_107.png', 'bcc'], ['bcc_108.png', 'bcc'], ['bcc_109.png', 'bcc'], ['bcc_110.png', 'bcc'], ['bcc_111.png', 'bcc'], ['bcc_112.png', 'bcc'], ['bcc_113.png', 'bcc'], ['bcc_114.png', 'bcc'], ['bcc_115.png', 'bcc'], ['bcc_116.png', 'bcc'], ['bcc_117.png', 'bcc'], ['bcc_118.png', 'bcc'], ['bcc_119.png', 'bcc'], ['bcc_120.png', 'bcc'], ['bcc_121.png', 'bcc'], ['bcc_122.png', 'bcc'], ['bcc_123.png', 'bcc'], ['bcc_124.png', 'bcc'], ['bcc_125.png', 'bcc'], ['bcc_126.png', 'bcc'], ['bcc_127.png', 'bcc'], ['bcc_128.png', 'bcc'], ['bcc_129.png', 'bcc'], ['bcc_130.png', 'bcc'], ['bcc_131.png', 'bcc'], ['bcc_132.png', 'bcc'], ['bcc_133.png', 'bcc'], ['bcc_134.png', 'bcc'], ['bcc_135.png', 'bcc'], ['bcc_136.png', 'bcc'], ['bcc_137.png', 'bcc'], ['bcc_138.png', 'bcc'], ['bcc_139.png', 'bcc'], ['bcc_140.png', 'bcc'], ['bcc_141.png', 'bcc'], ['bcc_142.png', 'bcc'], ['bcc_143.png', 'bcc'], ['bcc_144.png', 'bcc'], ['bcc_145.png', 'bcc'], ['bcc_146.png', 'bcc'], ['bcc_147.png', 'bcc'], ['bcc_148.png', 'bcc'], ['bcc_149.png', 'bcc'], ['bcc_150.png', 'bcc'], ['bcc_151.png', 'bcc'], ['bcc_152.png', 'bcc']]\n"
     ]
    }
   ],
   "source": [
    "content = list(map(list, zip(names, diss_class)))\n",
    "print(content)\n",
    "\n",
    "# Guardamos como csv\n",
    "\n",
    "fields = ['Image', 'Label'] \n",
    "\n",
    "with open('ASAN_Test_dataset.csv', 'w',newline='') as f:\n",
    "     \n",
    "    # using csv.writer method from CSV package\n",
    "    write = csv.writer(f)\n",
    "     \n",
    "    write.writerow(fields)\n",
    "    write.writerows(content)"
   ]
  }
 ],
 "metadata": {
  "kernelspec": {
   "display_name": "base",
   "language": "python",
   "name": "python3"
  },
  "language_info": {
   "codemirror_mode": {
    "name": "ipython",
    "version": 3
   },
   "file_extension": ".py",
   "mimetype": "text/x-python",
   "name": "python",
   "nbconvert_exporter": "python",
   "pygments_lexer": "ipython3",
   "version": "3.11.5"
  }
 },
 "nbformat": 4,
 "nbformat_minor": 2
}
