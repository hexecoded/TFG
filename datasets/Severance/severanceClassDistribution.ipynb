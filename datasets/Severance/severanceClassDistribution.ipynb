{
 "cells": [
  {
   "cell_type": "markdown",
   "source": [
    "# Análisis estadístico del dataset Severance\n",
    "\n",
    "En este cuaderno, se analiza estadísticamente las características del dataset de Severance y sus metadatos disponibles"
   ],
   "metadata": {
    "collapsed": false
   }
  },
  {
   "cell_type": "code",
   "execution_count": null,
   "metadata": {},
   "outputs": [],
   "source": [
    "# SET UP Fastai\n",
    "%pip install -Uqq fastbook\n",
    "%pip install nbdev"
   ]
  },
  {
   "cell_type": "code",
   "execution_count": 1,
   "metadata": {
    "ExecuteTime": {
     "end_time": "2024-03-14T19:53:13.634347Z",
     "start_time": "2024-03-14T19:53:10.645419Z"
    }
   },
   "outputs": [
    {
     "name": "stdout",
     "output_type": "stream",
     "text": [
      "fastcore version 1.5.29 installed\n",
      "fastai version 2.7.13 installed\n"
     ]
    }
   ],
   "source": [
    "import fastbook\n",
    "fastbook.setup_book()\n",
    "import fastai\n",
    "import fastcore\n",
    "print(f'fastcore version {fastcore.__version__} installed')\n",
    "print(f'fastai version {fastai.__version__} installed')\n",
    "import numpy as np # linear algebra\n",
    "import pandas as pd # data processing, CSV file I/O (e.g. pd.read_csv)\n",
    "import os\n",
    "import csv\n",
    "import cv2\n",
    "import matplotlib.pyplot as plt\n",
    "import seaborn as sns"
   ]
  },
  {
   "cell_type": "code",
   "execution_count": 2,
   "metadata": {
    "ExecuteTime": {
     "end_time": "2024-03-14T19:53:13.690547Z",
     "start_time": "2024-03-14T19:53:13.635353Z"
    }
   },
   "outputs": [
    {
     "data": {
      "text/plain": "                  label  age sex  abrev_diagnosis  \\\n0      actinickeratosis   60   M  R/O AK\\nR/O SCC   \n1      actinickeratosis   60   M  R/O AK\\nR/O SCC   \n2      actinickeratosis   60   M  R/O AK\\nR/O SCC   \n3      actinickeratosis   60   M  R/O AK\\nR/O SCC   \n4      actinickeratosis   68   F           R/O AK   \n...                 ...  ...  ..              ...   \n35165        spitznevus    8   F  R/O Spitz nevus   \n35166        spitznevus    8   F  R/O Spitz nevus   \n35167        spitznevus    8   F  R/O Spitz nevus   \n35168        spitznevus    8   F  R/O Spitz nevus   \n35169        spitznevus    8   F  R/O Spitz nevus   \n\n                                     diagnosis       fine_loc        loc  \\\n0      actinickeratosis;squamouscellcarcinoma;      Lt. cheek  Head&Neck   \n1      actinickeratosis;squamouscellcarcinoma;      Lt. cheek  Head&Neck   \n2      actinickeratosis;squamouscellcarcinoma;      Lt. cheek  Head&Neck   \n3      actinickeratosis;squamouscellcarcinoma;      Lt. cheek  Head&Neck   \n4                            actinickeratosis;  perioral area  Head&Neck   \n...                                        ...            ...        ...   \n35165                             otherbenign;        abdomen      Trunk   \n35166                             otherbenign;        abdomen      Trunk   \n35167                             otherbenign;        abdomen      Trunk   \n35168                             otherbenign;        abdomen      Trunk   \n35169                             otherbenign;        abdomen      Trunk   \n\n            image  \n0       001_0.png  \n1       001_1.png  \n2       001_2.png  \n3       001_3.png  \n4       001_4.png  \n...           ...  \n35165  380_88.png  \n35166  380_89.png  \n35167  380_90.png  \n35168  380_91.png  \n35169  380_92.png  \n\n[35170 rows x 8 columns]",
      "text/html": "<div>\n<style scoped>\n    .dataframe tbody tr th:only-of-type {\n        vertical-align: middle;\n    }\n\n    .dataframe tbody tr th {\n        vertical-align: top;\n    }\n\n    .dataframe thead th {\n        text-align: right;\n    }\n</style>\n<table border=\"1\" class=\"dataframe\">\n  <thead>\n    <tr style=\"text-align: right;\">\n      <th></th>\n      <th>label</th>\n      <th>age</th>\n      <th>sex</th>\n      <th>abrev_diagnosis</th>\n      <th>diagnosis</th>\n      <th>fine_loc</th>\n      <th>loc</th>\n      <th>image</th>\n    </tr>\n  </thead>\n  <tbody>\n    <tr>\n      <th>0</th>\n      <td>actinickeratosis</td>\n      <td>60</td>\n      <td>M</td>\n      <td>R/O AK\\nR/O SCC</td>\n      <td>actinickeratosis;squamouscellcarcinoma;</td>\n      <td>Lt. cheek</td>\n      <td>Head&amp;Neck</td>\n      <td>001_0.png</td>\n    </tr>\n    <tr>\n      <th>1</th>\n      <td>actinickeratosis</td>\n      <td>60</td>\n      <td>M</td>\n      <td>R/O AK\\nR/O SCC</td>\n      <td>actinickeratosis;squamouscellcarcinoma;</td>\n      <td>Lt. cheek</td>\n      <td>Head&amp;Neck</td>\n      <td>001_1.png</td>\n    </tr>\n    <tr>\n      <th>2</th>\n      <td>actinickeratosis</td>\n      <td>60</td>\n      <td>M</td>\n      <td>R/O AK\\nR/O SCC</td>\n      <td>actinickeratosis;squamouscellcarcinoma;</td>\n      <td>Lt. cheek</td>\n      <td>Head&amp;Neck</td>\n      <td>001_2.png</td>\n    </tr>\n    <tr>\n      <th>3</th>\n      <td>actinickeratosis</td>\n      <td>60</td>\n      <td>M</td>\n      <td>R/O AK\\nR/O SCC</td>\n      <td>actinickeratosis;squamouscellcarcinoma;</td>\n      <td>Lt. cheek</td>\n      <td>Head&amp;Neck</td>\n      <td>001_3.png</td>\n    </tr>\n    <tr>\n      <th>4</th>\n      <td>actinickeratosis</td>\n      <td>68</td>\n      <td>F</td>\n      <td>R/O AK</td>\n      <td>actinickeratosis;</td>\n      <td>perioral area</td>\n      <td>Head&amp;Neck</td>\n      <td>001_4.png</td>\n    </tr>\n    <tr>\n      <th>...</th>\n      <td>...</td>\n      <td>...</td>\n      <td>...</td>\n      <td>...</td>\n      <td>...</td>\n      <td>...</td>\n      <td>...</td>\n      <td>...</td>\n    </tr>\n    <tr>\n      <th>35165</th>\n      <td>spitznevus</td>\n      <td>8</td>\n      <td>F</td>\n      <td>R/O Spitz nevus</td>\n      <td>otherbenign;</td>\n      <td>abdomen</td>\n      <td>Trunk</td>\n      <td>380_88.png</td>\n    </tr>\n    <tr>\n      <th>35166</th>\n      <td>spitznevus</td>\n      <td>8</td>\n      <td>F</td>\n      <td>R/O Spitz nevus</td>\n      <td>otherbenign;</td>\n      <td>abdomen</td>\n      <td>Trunk</td>\n      <td>380_89.png</td>\n    </tr>\n    <tr>\n      <th>35167</th>\n      <td>spitznevus</td>\n      <td>8</td>\n      <td>F</td>\n      <td>R/O Spitz nevus</td>\n      <td>otherbenign;</td>\n      <td>abdomen</td>\n      <td>Trunk</td>\n      <td>380_90.png</td>\n    </tr>\n    <tr>\n      <th>35168</th>\n      <td>spitznevus</td>\n      <td>8</td>\n      <td>F</td>\n      <td>R/O Spitz nevus</td>\n      <td>otherbenign;</td>\n      <td>abdomen</td>\n      <td>Trunk</td>\n      <td>380_91.png</td>\n    </tr>\n    <tr>\n      <th>35169</th>\n      <td>spitznevus</td>\n      <td>8</td>\n      <td>F</td>\n      <td>R/O Spitz nevus</td>\n      <td>otherbenign;</td>\n      <td>abdomen</td>\n      <td>Trunk</td>\n      <td>380_92.png</td>\n    </tr>\n  </tbody>\n</table>\n<p>35170 rows × 8 columns</p>\n</div>"
     },
     "metadata": {},
     "output_type": "display_data"
    }
   ],
   "source": [
    "# Lectura del csv preprocesado\n",
    "df_original = pd.read_csv('severanceTrainingSet_thumbnails.csv',index_col=0)\n",
    "# .csv procesado\n",
    "#filas = get_thumbnails(df_original, img_path)\n",
    "#train = pd.DataFrame(filas, columns=df_original.columns)\n",
    "display(df_original)"
   ]
  },
  {
   "cell_type": "code",
   "outputs": [],
   "source": [
    "# Extraemos el conteo de cada clase\n",
    "LABELS = list(df_original['label'].unique())\n",
    "print(LABELS)"
   ],
   "metadata": {
    "collapsed": false
   }
  },
  {
   "cell_type": "code",
   "outputs": [],
   "source": [
    "from sklearn.preprocessing import LabelEncoder\n",
    "import pandas as pd\n",
    "\n",
    "# Ejemplo de DataFrame con una columna 'Causa' que contiene categorías\n",
    "\n",
    "# Inicializa el LabelEncoder\n",
    "label_encoder = LabelEncoder()\n",
    "\n",
    "# Transforma las categorías en valores numéricos\n",
    "df_original['label_numerica'] = label_encoder.fit_transform(df_original['label'])"
   ],
   "metadata": {
    "collapsed": false
   }
  },
  {
   "cell_type": "code",
   "outputs": [],
   "source": [
    "# Extraemos el conteo de cada clase\n",
    "\n",
    "train_y = df_original.iloc[:,1:-1].to_numpy()\n",
    "\n",
    "values, counts = np.unique(df_original['label'].to_numpy(), return_counts=True)\n",
    "\n",
    "# Representamos en un gráfico de barras\n",
    "plt.figure(figsize=(16,9))\n",
    "plt.title(\"Distribución del conjunto de entrenamiento\")\n",
    "ax = sns.barplot(x=LABELS, y=counts, hue = LABELS, dodge=False)\n",
    "ax.set_xticklabels(ax.get_xticklabels(), fontsize=9)\n",
    "ax.legend(loc='center left', bbox_to_anchor=(1, 0.5))\n",
    "plt.xticks(rotation=90)\n",
    "plt.show()"
   ],
   "metadata": {
    "collapsed": false
   }
  },
  {
   "cell_type": "code",
   "outputs": [],
   "source": [
    "# Extraemos el conteo de cada clase\n",
    "labels = df_original['age'].unique()\n",
    "lab_count = [sum(df_original['age'] == l) for l in labels]\n",
    "\n",
    "# Representamos en un gráfico de barras\n",
    "plt.figure(figsize=(18,9))\n",
    "ax = sns.barplot(x=labels, y=lab_count, hue = labels, dodge=False)\n",
    "ax.set_xticklabels(ax.get_xticklabels(), fontsize=7)\n",
    "plt.title(\"Distribución de la edad de los pacientes\")\n",
    "ax.get_legend().remove()\n",
    "plt.show()"
   ],
   "metadata": {
    "collapsed": false
   }
  },
  {
   "cell_type": "code",
   "outputs": [],
   "source": [
    "values, counts = np.unique(df_original['label'].to_numpy(), return_counts=True)\n",
    "\n",
    "order = np.argsort(counts)[::-1]\n",
    "suma = np.sum(counts[5:])\n",
    "\n",
    "top10_counts = (counts[order[:9]])\n",
    "top10_counts =  np.append(top10_counts, suma)\n",
    "\n",
    "top10_labels = (values[order[:9]])\n",
    "top10_labels =  np.append(top10_labels, \"Otros\")\n",
    "\n",
    "#top10_labels.append(\"Otros\")\n",
    "\n",
    "sns.set_style(\"whitegrid\")\n",
    "plt.pie(top10_counts, labels=top10_labels, autopct='%1.1f%%')\n",
    "\n",
    "plt.title('Proporción de Clases')\n",
    "plt.axis('equal')  # Para que el círculo sea igual\n",
    "plt.tight_layout()\n",
    "plt.show()"
   ],
   "metadata": {
    "collapsed": false
   }
  }
 ],
 "metadata": {
  "kernelspec": {
   "display_name": "base",
   "language": "python",
   "name": "python3"
  },
  "language_info": {
   "codemirror_mode": {
    "name": "ipython",
    "version": 3
   },
   "file_extension": ".py",
   "mimetype": "text/x-python",
   "name": "python",
   "nbconvert_exporter": "python",
   "pygments_lexer": "ipython3",
   "version": "3.11.5"
  }
 },
 "nbformat": 4,
 "nbformat_minor": 2
}
