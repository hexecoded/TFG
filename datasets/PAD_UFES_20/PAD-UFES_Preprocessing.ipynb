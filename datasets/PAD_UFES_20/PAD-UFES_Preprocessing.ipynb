{
 "cells": [
  {
   "cell_type": "markdown",
   "source": [
    "# Análisis y preprocesado del dataset Severance\n",
    "### Importación de librerías"
   ],
   "metadata": {
    "collapsed": false
   }
  },
  {
   "cell_type": "code",
   "execution_count": 18,
   "metadata": {
    "ExecuteTime": {
     "end_time": "2024-03-17T18:33:16.534054Z",
     "start_time": "2024-03-17T18:33:16.446788Z"
    }
   },
   "outputs": [],
   "source": [
    "import os\n",
    "import cv2\n",
    "\n",
    "import matplotlib.pyplot as plt\n",
    "import seaborn as sns\n",
    "import numpy as np\n",
    "import pandas as pd"
   ]
  },
  {
   "cell_type": "markdown",
   "source": [
    "Las siguientes funciones tienen como objetivo la lectura y muestra de imágenes"
   ],
   "metadata": {
    "collapsed": false
   }
  },
  {
   "cell_type": "code",
   "outputs": [],
   "source": [
    "'''\n",
    "This function receives a string with the filename of the image to read,\n",
    "and a flag indicating if we want to read it in color/RGB (flagColor=1) or gray level (flagColor=0)\n",
    "\n",
    "Example of use:\n",
    "im1=readIm(get_image('apple.jpg'),0)\n",
    "'''\n",
    "\n",
    "\n",
    "def readIm(filename, flagColor=1):\n",
    "    # cv2 reads BGR format\n",
    "    im = cv2.imread(filename)\n",
    "    # change to  RGB and return the image\n",
    "    if (flagColor):\n",
    "        return cv2.cvtColor(im, cv2.COLOR_BGR2RGB)\n",
    "    # change from BGR to grayscale instead if flag is 0\n",
    "    return cv2.cvtColor(im, cv2.COLOR_BGR2GRAY)\n",
    "\n",
    "\n",
    "'''\n",
    "This function receives an array of arbitrary real numbers (that could include even negative values),\n",
    "and returns an 'image' in the range [0,1].\n",
    "flag_GLOBAL allows the user to normalize the whole image (including all channels) or to normalize\n",
    "each channel/band independently.\n",
    "'''\n",
    "\n",
    "\n",
    "def rangeDisplay01(im, flag_GLOBAL=True):\n",
    "    im = im.astype(float)\n",
    "    if flag_GLOBAL:\n",
    "        im = (im - im.min()) / (im.max() - im.min())\n",
    "    else:\n",
    "        # bands normalization\n",
    "        for band in range(im.shape[2]):\n",
    "            im[:, :, band] = (im[:, :, band] - im[:, :, band].min()) / (im[:, :, band].max() - im[:, :, band].min())\n",
    "            # Note: remember that, for plt.imshow with RGB data, the valid range is [0..1] for floats and [0..255] for integers.\n",
    "    return im\n",
    "\n",
    "\n",
    "\"\"\"\n",
    "Función para mostrar imágenes en pantalla en color y blanco negro. Permite realizar\n",
    "aumento sobre las mismas para apreciar un mayor detalle.\n",
    "\n",
    "Entrada:\n",
    "    im: imagen leída en formato ndarray\n",
    "    title: nombre que recibe el marco en pantalla\n",
    "    factor: factor de aumento de la image, \"zoom\"\n",
    "\"\"\"\n",
    "\n",
    "\n",
    "def displayIm(im, title='Result', factor=2):\n",
    "    # First normalize range\n",
    "    max = np.max(im)\n",
    "    min = np.min(im)\n",
    "    if min < 0 or max > 255:\n",
    "        im = rangeDisplay01(im, flag_GLOBAL=True)\n",
    "    if len(im.shape) == 3:\n",
    "        # im es tribanda\n",
    "        plt.imshow(im, cmap='jet')\n",
    "    else:\n",
    "        # im es monobanda\n",
    "        plt.imshow(im, cmap='gray')\n",
    "    figure_size = plt.gcf().get_size_inches()\n",
    "    plt.gcf().set_size_inches(factor * figure_size)\n",
    "    plt.title(title)\n",
    "    plt.xticks([]), plt.yticks([])  # eliminamos numeración\n",
    "    plt.show()"
   ],
   "metadata": {
    "collapsed": false,
    "ExecuteTime": {
     "end_time": "2024-03-17T18:28:16.954128Z",
     "start_time": "2024-03-17T18:28:16.946890Z"
    }
   },
   "execution_count": 2
  },
  {
   "cell_type": "markdown",
   "source": [
    "### Lectura de las imágenes"
   ],
   "metadata": {
    "collapsed": false
   }
  },
  {
   "cell_type": "code",
   "outputs": [
    {
     "data": {
      "text/plain": "     patient_id  lesion_id  smoke  drink background_father background_mother  \\\n0      PAT_1516       1765    NaN    NaN               NaN               NaN   \n1        PAT_46        881  False  False         POMERANIA         POMERANIA   \n2      PAT_1545       1867    NaN    NaN               NaN               NaN   \n3      PAT_1989       4061    NaN    NaN               NaN               NaN   \n4       PAT_684       1302  False   True         POMERANIA         POMERANIA   \n...         ...        ...    ...    ...               ...               ...   \n2293   PAT_1708       3156    NaN    NaN               NaN               NaN   \n2294     PAT_46        880  False  False         POMERANIA         POMERANIA   \n2295   PAT_1343       1217    NaN    NaN               NaN               NaN   \n2296    PAT_326        690  False  False         POMERANIA         POMERANIA   \n2297   PAT_1714       3189    NaN    NaN               NaN               NaN   \n\n      age pesticide  gender skin_cancer_history  ... diameter_2 diagnostic  \\\n0       8       NaN     NaN                 NaN  ...        NaN        NEV   \n1      55     False  FEMALE                True  ...        5.0        BCC   \n2      77       NaN     NaN                 NaN  ...        NaN        ACK   \n3      75       NaN     NaN                 NaN  ...        NaN        ACK   \n4      79     False    MALE                True  ...        5.0        BCC   \n...   ...       ...     ...                 ...  ...        ...        ...   \n2293   73       NaN     NaN                 NaN  ...        NaN        ACK   \n2294   55     False  FEMALE                True  ...       12.0        BCC   \n2295   74       NaN     NaN                 NaN  ...        NaN        SEK   \n2296   58      True  FEMALE                True  ...        4.0        BCC   \n2297   41       NaN     NaN                 NaN  ...        NaN        SEK   \n\n       itch   grew   hurt  changed  bleed elevation                 img_id  \\\n0     False  False  False    False  False     False  PAT_1516_1765_530.png   \n1      True   True  False     True   True      True     PAT_46_881_939.png   \n2      True  False  False    False  False     False  PAT_1545_1867_547.png   \n3      True  False  False    False  False     False  PAT_1989_4061_934.png   \n4      True   True  False    False   True      True   PAT_684_1302_588.png   \n...     ...    ...    ...      ...    ...       ...                    ...   \n2293   True  False  False    False  False     False  PAT_1708_3156_175.png   \n2294   True   True  False     True  False     False     PAT_46_880_140.png   \n2295  False  False  False    False  False     False  PAT_1343_1217_404.png   \n2296   True  False  False    False  False      True    PAT_326_690_823.png   \n2297  False   True  False    False  False      True  PAT_1714_3189_989.png   \n\n     biopsed  \n0      False  \n1       True  \n2      False  \n3      False  \n4       True  \n...      ...  \n2293   False  \n2294    True  \n2295   False  \n2296    True  \n2297   False  \n\n[2298 rows x 26 columns]",
      "text/html": "<div>\n<style scoped>\n    .dataframe tbody tr th:only-of-type {\n        vertical-align: middle;\n    }\n\n    .dataframe tbody tr th {\n        vertical-align: top;\n    }\n\n    .dataframe thead th {\n        text-align: right;\n    }\n</style>\n<table border=\"1\" class=\"dataframe\">\n  <thead>\n    <tr style=\"text-align: right;\">\n      <th></th>\n      <th>patient_id</th>\n      <th>lesion_id</th>\n      <th>smoke</th>\n      <th>drink</th>\n      <th>background_father</th>\n      <th>background_mother</th>\n      <th>age</th>\n      <th>pesticide</th>\n      <th>gender</th>\n      <th>skin_cancer_history</th>\n      <th>...</th>\n      <th>diameter_2</th>\n      <th>diagnostic</th>\n      <th>itch</th>\n      <th>grew</th>\n      <th>hurt</th>\n      <th>changed</th>\n      <th>bleed</th>\n      <th>elevation</th>\n      <th>img_id</th>\n      <th>biopsed</th>\n    </tr>\n  </thead>\n  <tbody>\n    <tr>\n      <th>0</th>\n      <td>PAT_1516</td>\n      <td>1765</td>\n      <td>NaN</td>\n      <td>NaN</td>\n      <td>NaN</td>\n      <td>NaN</td>\n      <td>8</td>\n      <td>NaN</td>\n      <td>NaN</td>\n      <td>NaN</td>\n      <td>...</td>\n      <td>NaN</td>\n      <td>NEV</td>\n      <td>False</td>\n      <td>False</td>\n      <td>False</td>\n      <td>False</td>\n      <td>False</td>\n      <td>False</td>\n      <td>PAT_1516_1765_530.png</td>\n      <td>False</td>\n    </tr>\n    <tr>\n      <th>1</th>\n      <td>PAT_46</td>\n      <td>881</td>\n      <td>False</td>\n      <td>False</td>\n      <td>POMERANIA</td>\n      <td>POMERANIA</td>\n      <td>55</td>\n      <td>False</td>\n      <td>FEMALE</td>\n      <td>True</td>\n      <td>...</td>\n      <td>5.0</td>\n      <td>BCC</td>\n      <td>True</td>\n      <td>True</td>\n      <td>False</td>\n      <td>True</td>\n      <td>True</td>\n      <td>True</td>\n      <td>PAT_46_881_939.png</td>\n      <td>True</td>\n    </tr>\n    <tr>\n      <th>2</th>\n      <td>PAT_1545</td>\n      <td>1867</td>\n      <td>NaN</td>\n      <td>NaN</td>\n      <td>NaN</td>\n      <td>NaN</td>\n      <td>77</td>\n      <td>NaN</td>\n      <td>NaN</td>\n      <td>NaN</td>\n      <td>...</td>\n      <td>NaN</td>\n      <td>ACK</td>\n      <td>True</td>\n      <td>False</td>\n      <td>False</td>\n      <td>False</td>\n      <td>False</td>\n      <td>False</td>\n      <td>PAT_1545_1867_547.png</td>\n      <td>False</td>\n    </tr>\n    <tr>\n      <th>3</th>\n      <td>PAT_1989</td>\n      <td>4061</td>\n      <td>NaN</td>\n      <td>NaN</td>\n      <td>NaN</td>\n      <td>NaN</td>\n      <td>75</td>\n      <td>NaN</td>\n      <td>NaN</td>\n      <td>NaN</td>\n      <td>...</td>\n      <td>NaN</td>\n      <td>ACK</td>\n      <td>True</td>\n      <td>False</td>\n      <td>False</td>\n      <td>False</td>\n      <td>False</td>\n      <td>False</td>\n      <td>PAT_1989_4061_934.png</td>\n      <td>False</td>\n    </tr>\n    <tr>\n      <th>4</th>\n      <td>PAT_684</td>\n      <td>1302</td>\n      <td>False</td>\n      <td>True</td>\n      <td>POMERANIA</td>\n      <td>POMERANIA</td>\n      <td>79</td>\n      <td>False</td>\n      <td>MALE</td>\n      <td>True</td>\n      <td>...</td>\n      <td>5.0</td>\n      <td>BCC</td>\n      <td>True</td>\n      <td>True</td>\n      <td>False</td>\n      <td>False</td>\n      <td>True</td>\n      <td>True</td>\n      <td>PAT_684_1302_588.png</td>\n      <td>True</td>\n    </tr>\n    <tr>\n      <th>...</th>\n      <td>...</td>\n      <td>...</td>\n      <td>...</td>\n      <td>...</td>\n      <td>...</td>\n      <td>...</td>\n      <td>...</td>\n      <td>...</td>\n      <td>...</td>\n      <td>...</td>\n      <td>...</td>\n      <td>...</td>\n      <td>...</td>\n      <td>...</td>\n      <td>...</td>\n      <td>...</td>\n      <td>...</td>\n      <td>...</td>\n      <td>...</td>\n      <td>...</td>\n      <td>...</td>\n    </tr>\n    <tr>\n      <th>2293</th>\n      <td>PAT_1708</td>\n      <td>3156</td>\n      <td>NaN</td>\n      <td>NaN</td>\n      <td>NaN</td>\n      <td>NaN</td>\n      <td>73</td>\n      <td>NaN</td>\n      <td>NaN</td>\n      <td>NaN</td>\n      <td>...</td>\n      <td>NaN</td>\n      <td>ACK</td>\n      <td>True</td>\n      <td>False</td>\n      <td>False</td>\n      <td>False</td>\n      <td>False</td>\n      <td>False</td>\n      <td>PAT_1708_3156_175.png</td>\n      <td>False</td>\n    </tr>\n    <tr>\n      <th>2294</th>\n      <td>PAT_46</td>\n      <td>880</td>\n      <td>False</td>\n      <td>False</td>\n      <td>POMERANIA</td>\n      <td>POMERANIA</td>\n      <td>55</td>\n      <td>False</td>\n      <td>FEMALE</td>\n      <td>True</td>\n      <td>...</td>\n      <td>12.0</td>\n      <td>BCC</td>\n      <td>True</td>\n      <td>True</td>\n      <td>False</td>\n      <td>True</td>\n      <td>False</td>\n      <td>False</td>\n      <td>PAT_46_880_140.png</td>\n      <td>True</td>\n    </tr>\n    <tr>\n      <th>2295</th>\n      <td>PAT_1343</td>\n      <td>1217</td>\n      <td>NaN</td>\n      <td>NaN</td>\n      <td>NaN</td>\n      <td>NaN</td>\n      <td>74</td>\n      <td>NaN</td>\n      <td>NaN</td>\n      <td>NaN</td>\n      <td>...</td>\n      <td>NaN</td>\n      <td>SEK</td>\n      <td>False</td>\n      <td>False</td>\n      <td>False</td>\n      <td>False</td>\n      <td>False</td>\n      <td>False</td>\n      <td>PAT_1343_1217_404.png</td>\n      <td>False</td>\n    </tr>\n    <tr>\n      <th>2296</th>\n      <td>PAT_326</td>\n      <td>690</td>\n      <td>False</td>\n      <td>False</td>\n      <td>POMERANIA</td>\n      <td>POMERANIA</td>\n      <td>58</td>\n      <td>True</td>\n      <td>FEMALE</td>\n      <td>True</td>\n      <td>...</td>\n      <td>4.0</td>\n      <td>BCC</td>\n      <td>True</td>\n      <td>False</td>\n      <td>False</td>\n      <td>False</td>\n      <td>False</td>\n      <td>True</td>\n      <td>PAT_326_690_823.png</td>\n      <td>True</td>\n    </tr>\n    <tr>\n      <th>2297</th>\n      <td>PAT_1714</td>\n      <td>3189</td>\n      <td>NaN</td>\n      <td>NaN</td>\n      <td>NaN</td>\n      <td>NaN</td>\n      <td>41</td>\n      <td>NaN</td>\n      <td>NaN</td>\n      <td>NaN</td>\n      <td>...</td>\n      <td>NaN</td>\n      <td>SEK</td>\n      <td>False</td>\n      <td>True</td>\n      <td>False</td>\n      <td>False</td>\n      <td>False</td>\n      <td>True</td>\n      <td>PAT_1714_3189_989.png</td>\n      <td>False</td>\n    </tr>\n  </tbody>\n</table>\n<p>2298 rows × 26 columns</p>\n</div>"
     },
     "metadata": {},
     "output_type": "display_data"
    }
   ],
   "source": [
    "# Lectura del csv preprocesado\n",
    "df_original = pd.read_csv('metadata.csv')\n",
    "# .csv procesado\n",
    "#filas = get_thumbnails(df_original, img_path)\n",
    "#train = pd.DataFrame(filas, columns=df_original.columns)\n",
    "display(df_original)"
   ],
   "metadata": {
    "collapsed": false,
    "ExecuteTime": {
     "end_time": "2024-03-17T18:30:42.673193Z",
     "start_time": "2024-03-17T18:30:42.654145Z"
    }
   },
   "execution_count": 11
  },
  {
   "cell_type": "code",
   "outputs": [
    {
     "name": "stdout",
     "output_type": "stream",
     "text": [
      "['NEV', 'BCC', 'ACK', 'SEK', 'SCC', 'MEL']\n"
     ]
    }
   ],
   "source": [
    "# Extraemos el conteo de cada clase\n",
    "LABELS = list(df_original['diagnostic'].unique())\n",
    "print(LABELS)"
   ],
   "metadata": {
    "collapsed": false,
    "ExecuteTime": {
     "end_time": "2024-03-17T18:30:53.077097Z",
     "start_time": "2024-03-17T18:30:53.073668Z"
    }
   },
   "execution_count": 13
  },
  {
   "cell_type": "markdown",
   "source": [
    "### Tratamiento y división\n",
    "Se recorren las imágenes disponibles convirtiendo su clase a una notación numérica más comoda para realizar el estudio estadístico."
   ],
   "metadata": {
    "collapsed": false
   }
  },
  {
   "cell_type": "code",
   "outputs": [],
   "source": [
    "from sklearn.preprocessing import LabelEncoder\n",
    "import pandas as pd\n",
    "\n",
    "# Ejemplo de DataFrame con una columna 'Causa' que contiene categorías\n",
    "\n",
    "# Inicializa el LabelEncoder\n",
    "label_encoder = LabelEncoder()\n",
    "\n",
    "# Transforma las categorías en valores numéricos\n",
    "df_original['label_numerica'] = label_encoder.fit_transform(df_original['diagnostic'])"
   ],
   "metadata": {
    "collapsed": false,
    "ExecuteTime": {
     "end_time": "2024-03-17T18:31:55.618033Z",
     "start_time": "2024-03-17T18:31:55.614102Z"
    }
   },
   "execution_count": 15
  },
  {
   "cell_type": "code",
   "outputs": [
    {
     "name": "stderr",
     "output_type": "stream",
     "text": [
      "C:\\Users\\Cris1\\anaconda3\\Lib\\site-packages\\seaborn\\_oldcore.py:1765: FutureWarning: unique with argument that is not not a Series, Index, ExtensionArray, or np.ndarray is deprecated and will raise in a future version.\n",
      "  order = pd.unique(vector)\n",
      "C:\\Users\\Cris1\\anaconda3\\Lib\\site-packages\\seaborn\\_oldcore.py:1765: FutureWarning: unique with argument that is not not a Series, Index, ExtensionArray, or np.ndarray is deprecated and will raise in a future version.\n",
      "  order = pd.unique(vector)\n"
     ]
    },
    {
     "data": {
      "text/plain": "<Figure size 1600x900 with 1 Axes>",
      "image/png": "[encoded data removed]"
     },
     "metadata": {},
     "output_type": "display_data"
    }
   ],
   "source": [
    "# Extraemos el conteo de cada clase\n",
    "\n",
    "train_y = df_original.iloc[:,1:-1].to_numpy()\n",
    "\n",
    "values, counts = np.unique(df_original['diagnostic'].to_numpy(), return_counts=True)\n",
    "\n",
    "# Representamos en un gráfico de barras\n",
    "plt.figure(figsize=(16,9))\n",
    "plt.title(\"Distribución del conjunto de entrenamiento\")\n",
    "ax = sns.barplot(x=LABELS, y=counts, hue = LABELS, dodge=False)\n",
    "ax.set_xticklabels(ax.get_xticklabels(), fontsize=9)\n",
    "ax.legend(loc='center left', bbox_to_anchor=(1, 0.5))\n",
    "plt.xticks(rotation=90)\n",
    "plt.show()"
   ],
   "metadata": {
    "collapsed": false,
    "ExecuteTime": {
     "end_time": "2024-03-17T18:33:20.355690Z",
     "start_time": "2024-03-17T18:33:20.220209Z"
    }
   },
   "execution_count": 20
  }
 ],
 "metadata": {
  "kernelspec": {
   "display_name": "base",
   "language": "python",
   "name": "python3"
  },
  "language_info": {
   "codemirror_mode": {
    "name": "ipython",
    "version": 3
   },
   "file_extension": ".py",
   "mimetype": "text/x-python",
   "name": "python",
   "nbconvert_exporter": "python",
   "pygments_lexer": "ipython3",
   "version": "3.11.5"
  }
 },
 "nbformat": 4,
 "nbformat_minor": 2
}
