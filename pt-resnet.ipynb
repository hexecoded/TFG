{
 "cells": [
  {
   "cell_type": "code",
   "id": "initial_id",
   "metadata": {
    "collapsed": true,
    "ExecuteTime": {
     "end_time": "2024-05-08T18:56:59.871330Z",
     "start_time": "2024-05-08T18:56:57.277506Z"
    }
   },
   "source": [
    "# Librerías utilizadas por el script\n",
    "import timm\n",
    "\n",
    "import matplotlib.pyplot as plt\n",
    "import numpy as np\n",
    "import pandas as pd\n",
    "import cv2\n",
    "import torch\n",
    "\n",
    "from sklearn.metrics import classification_report\n",
    "from fastai.vision.all import *\n",
    "\n",
    "\"\"\"\n",
    "!pip install -Uqq fastbook\n",
    "!pip install nbdev\n",
    "\"\"\"\n",
    "import fastbook\n",
    "\n",
    "fastbook.setup_book()\n",
    "import fastai\n",
    "import fastcore\n",
    "\n",
    "print(f'fastcore version {fastcore.__version__} installed')\n",
    "print(f'fastai version {fastai.__version__} installed')\n",
    "from nbdev.showdoc import *\n",
    "from fastai.vision.all import *"
   ],
   "outputs": [
    {
     "name": "stdout",
     "output_type": "stream",
     "text": [
      "fastcore version 1.5.29 installed\n",
      "fastai version 2.7.14 installed\n"
     ]
    }
   ],
   "execution_count": 1
  },
  {
   "metadata": {
    "ExecuteTime": {
     "end_time": "2024-05-08T18:56:59.888307Z",
     "start_time": "2024-05-08T18:56:59.872284Z"
    }
   },
   "cell_type": "code",
   "source": "torch.cuda.is_available()",
   "id": "bac0fbef7aed9936",
   "outputs": [
    {
     "data": {
      "text/plain": [
       "True"
      ]
     },
     "execution_count": 2,
     "metadata": {},
     "output_type": "execute_result"
    }
   ],
   "execution_count": 2
  },
  {
   "metadata": {},
   "cell_type": "markdown",
   "source": "A continuación, se declaran las constantes usadas como parámetros a las funciones",
   "id": "ee29cd37a32e7842"
  },
  {
   "metadata": {
    "ExecuteTime": {
     "end_time": "2024-05-08T18:56:59.891251Z",
     "start_time": "2024-05-08T18:56:59.888788Z"
    }
   },
   "cell_type": "code",
   "source": [
    "# Número de clases. 2 para la binaria.\n",
    "NUM_CLASSES = 2\n",
    "TRAIN_DIR = \"trainThumbnails/\"\n",
    "VALID_PCT = 0.3\n",
    "SEED = 19\n",
    "# Número de canales de cada imagen\n",
    "CHANNELS = 3\n",
    "IMAGE_RESIZE = 386\n",
    "RESIZE_METHOD = 'squish'\n",
    "LOSS_FUNC = CrossEntropyLossFlat()\n",
    "METRICS = [accuracy, BalancedAccuracy(), error_rate, Recall(), Precision()]\n",
    "\n",
    "# EARLY_STOP_PATIENCE must be < NUM_EPOCHS\n",
    "NUM_EPOCHS = 0\n",
    "EARLY_STOP_PATIENCE = 3\n",
    "\n",
    "BATCH_SIZE = 32"
   ],
   "id": "374d0bc116b3289a",
   "outputs": [],
   "execution_count": 3
  },
  {
   "metadata": {
    "ExecuteTime": {
     "end_time": "2024-05-08T18:57:00.066917Z",
     "start_time": "2024-05-08T18:57:00.061747Z"
    }
   },
   "cell_type": "code",
   "source": [
    "'''\n",
    "This function receives a string with the filename of the image to read,\n",
    "and a flag indicating if we want to read it in color/RGB (flagColor=1) or gray level (flagColor=0)\n",
    "\n",
    "Example of use:\n",
    "im1=readIm(get_image('apple.jpg'),0)\n",
    "\n",
    "'''\n",
    "\n",
    "\n",
    "def readIm(filename, flagColor=1):\n",
    "    # cv2 reads BGR format\n",
    "    im = cv2.imread(filename)\n",
    "    # change to  RGB and return the image\n",
    "    if (flagColor):\n",
    "        return cv2.cvtColor(im, cv2.COLOR_BGR2RGB)\n",
    "    # change from BGR to grayscale instead if flag is 0\n",
    "    return cv2.cvtColor(im, cv2.COLOR_BGR2GRAY)\n",
    "\n",
    "\n",
    "'''\n",
    "This function receives an array of arbitrary real numbers (that could include even negative values),\n",
    "and returns an 'image' in the range [0,1].\n",
    "flag_GLOBAL allows the user to normalize the whole image (including all channels) or to normalize\n",
    "each channel/band independently.\n",
    "'''\n",
    "\n",
    "\n",
    "def rangeDisplay01(im, flag_GLOBAL=True):\n",
    "    im = im.astype(float)\n",
    "    if flag_GLOBAL:\n",
    "        im = (im - im.min()) / (im.max() - im.min())\n",
    "    else:\n",
    "        # bands normalization\n",
    "        for band in range(im.shape[2]):\n",
    "            im[:, :, band] = (im[:, :, band] - im[:, :, band].min()) / (im[:, :, band].max() - im[:, :, band].min())\n",
    "            # Note: remember that, for plt.imshow with RGB data, the valid range is [0..1] for floats and [0..255] for integers.\n",
    "    return im\n",
    "\n",
    "\n",
    "'''\n",
    "This function displays a single image, including a title, using a magnification factor.\n",
    "\n",
    "Example of use:\n",
    "im1=readIm(get_image('apple.jpg'),0)\n",
    "displayIm(im1,'Manzana',0.5)\n",
    "\n",
    "'''\n",
    "\n",
    "\n",
    "def displayIm(im, title='Result', factor=2):\n",
    "    # First normalize range\n",
    "    max = np.max(im)\n",
    "    min = np.min(im)\n",
    "    if min < 0 or max > 255:\n",
    "        im = rangeDisplay01(im, flag_GLOBAL=True)\n",
    "    if len(im.shape) == 3:\n",
    "        # im es tribanda\n",
    "        plt.imshow(im, cmap='jet')\n",
    "    else:\n",
    "        # im es monobanda\n",
    "        plt.imshow(im, cmap='gray')\n",
    "    figure_size = plt.gcf().get_size_inches()\n",
    "    plt.gcf().set_size_inches(factor * figure_size)\n",
    "    plt.title(title)\n",
    "    plt.xticks([]), plt.yticks([])  # eliminamos numeración\n",
    "    plt.show()\n",
    "\n",
    "\n",
    "# This function display the KeyPoints of an image\n",
    "def showKP(im, kp, title):\n",
    "    im_orig = im.copy()\n",
    "    for curKey in kp:\n",
    "        x = np.int(curKey.pt[0])\n",
    "        y = np.int(curKey.pt[1])\n",
    "        size = np.int(curKey.size)\n",
    "        cv2.circle(im, (x, y), 40, color=(255, 0, 0), thickness=4)\n",
    "    displayIm(im, title)"
   ],
   "id": "ea38d62658348909",
   "outputs": [],
   "execution_count": 4
  },
  {
   "metadata": {},
   "cell_type": "markdown",
   "source": "Leemos el dataframe con la información asoaciada a las etiquetas y otros metadatos",
   "id": "e91a28c8e5a33c36"
  },
  {
   "metadata": {
    "ExecuteTime": {
     "end_time": "2024-05-08T18:57:26.571332Z",
     "start_time": "2024-05-08T18:57:26.510413Z"
    }
   },
   "cell_type": "code",
   "source": [
    "train_df = pd.read_csv('pruebas.csv')\n",
    "display(train_df)"
   ],
   "id": "83ec7e5a8cc2a37a",
   "outputs": [
    {
     "data": {
      "text/plain": [
       "       Unnamed: 0             image  \\\n",
       "0               0     ASAN_8196.png   \n",
       "1               1    ASAN_10059.png   \n",
       "2               2    SEV_248_74.png   \n",
       "3               3  ISIC_0068761.JPG   \n",
       "4               4    SEV_062_17.png   \n",
       "...           ...               ...   \n",
       "64876       64876  ISIC_0014898.JPG   \n",
       "64877       64877    SEV_345_42.png   \n",
       "64878       64878  ISIC_0062505.JPG   \n",
       "64879       64879     SEV_164_8.png   \n",
       "64880       64880    ASAN_13074.png   \n",
       "\n",
       "                                                                dir  \\\n",
       "0                    datasets/Asan/dataset/hemangioma/ASAN_8196.png   \n",
       "1               datasets/Asan/dataset/dermatofibroma/ASAN_10059.png   \n",
       "2                      datasets/Severance/thumbnails/SEV_248_74.png   \n",
       "3                           datasets/ISIC/Melanoma/ISIC_0068761.JPG   \n",
       "4                      datasets/Severance/thumbnails/SEV_062_17.png   \n",
       "...                                                             ...   \n",
       "64876                          datasets/ISIC/Nevus/ISIC_0014898.JPG   \n",
       "64877                  datasets/Severance/thumbnails/SEV_345_42.png   \n",
       "64878                       datasets/ISIC/Melanoma/ISIC_0062505.JPG   \n",
       "64879                   datasets/Severance/thumbnails/SEV_164_8.png   \n",
       "64880  datasets/Asan/dataset/Squamous cell carcinoma/ASAN_13074.png   \n",
       "\n",
       "                         label    dataset        bin  \n",
       "0                   hemangioma       ASAN     Benign  \n",
       "1               dermatofibroma       ASAN     Benign  \n",
       "2           pyogenic_granuloma  SEVERANCE     Benign  \n",
       "3                     melanoma       ISIC  Malignant  \n",
       "4      squamous_cell_carcinoma  SEVERANCE  Malignant  \n",
       "...                        ...        ...        ...  \n",
       "64876                    nevus       ISIC     Benign  \n",
       "64877                syringoma  SEVERANCE     Benign  \n",
       "64878                 melanoma       ISIC  Malignant  \n",
       "64879               hemangioma  SEVERANCE     Benign  \n",
       "64880  squamous_cell_carcinoma       ASAN  Malignant  \n",
       "\n",
       "[64881 rows x 6 columns]"
      ],
      "text/html": [
       "<div>\n",
       "<style scoped>\n",
       "    .dataframe tbody tr th:only-of-type {\n",
       "        vertical-align: middle;\n",
       "    }\n",
       "\n",
       "    .dataframe tbody tr th {\n",
       "        vertical-align: top;\n",
       "    }\n",
       "\n",
       "    .dataframe thead th {\n",
       "        text-align: right;\n",
       "    }\n",
       "</style>\n",
       "<table border=\"1\" class=\"dataframe\">\n",
       "  <thead>\n",
       "    <tr style=\"text-align: right;\">\n",
       "      <th></th>\n",
       "      <th>Unnamed: 0</th>\n",
       "      <th>image</th>\n",
       "      <th>dir</th>\n",
       "      <th>label</th>\n",
       "      <th>dataset</th>\n",
       "      <th>bin</th>\n",
       "    </tr>\n",
       "  </thead>\n",
       "  <tbody>\n",
       "    <tr>\n",
       "      <th>0</th>\n",
       "      <td>0</td>\n",
       "      <td>ASAN_8196.png</td>\n",
       "      <td>datasets/Asan/dataset/hemangioma/ASAN_8196.png</td>\n",
       "      <td>hemangioma</td>\n",
       "      <td>ASAN</td>\n",
       "      <td>Benign</td>\n",
       "    </tr>\n",
       "    <tr>\n",
       "      <th>1</th>\n",
       "      <td>1</td>\n",
       "      <td>ASAN_10059.png</td>\n",
       "      <td>datasets/Asan/dataset/dermatofibroma/ASAN_10059.png</td>\n",
       "      <td>dermatofibroma</td>\n",
       "      <td>ASAN</td>\n",
       "      <td>Benign</td>\n",
       "    </tr>\n",
       "    <tr>\n",
       "      <th>2</th>\n",
       "      <td>2</td>\n",
       "      <td>SEV_248_74.png</td>\n",
       "      <td>datasets/Severance/thumbnails/SEV_248_74.png</td>\n",
       "      <td>pyogenic_granuloma</td>\n",
       "      <td>SEVERANCE</td>\n",
       "      <td>Benign</td>\n",
       "    </tr>\n",
       "    <tr>\n",
       "      <th>3</th>\n",
       "      <td>3</td>\n",
       "      <td>ISIC_0068761.JPG</td>\n",
       "      <td>datasets/ISIC/Melanoma/ISIC_0068761.JPG</td>\n",
       "      <td>melanoma</td>\n",
       "      <td>ISIC</td>\n",
       "      <td>Malignant</td>\n",
       "    </tr>\n",
       "    <tr>\n",
       "      <th>4</th>\n",
       "      <td>4</td>\n",
       "      <td>SEV_062_17.png</td>\n",
       "      <td>datasets/Severance/thumbnails/SEV_062_17.png</td>\n",
       "      <td>squamous_cell_carcinoma</td>\n",
       "      <td>SEVERANCE</td>\n",
       "      <td>Malignant</td>\n",
       "    </tr>\n",
       "    <tr>\n",
       "      <th>...</th>\n",
       "      <td>...</td>\n",
       "      <td>...</td>\n",
       "      <td>...</td>\n",
       "      <td>...</td>\n",
       "      <td>...</td>\n",
       "      <td>...</td>\n",
       "    </tr>\n",
       "    <tr>\n",
       "      <th>64876</th>\n",
       "      <td>64876</td>\n",
       "      <td>ISIC_0014898.JPG</td>\n",
       "      <td>datasets/ISIC/Nevus/ISIC_0014898.JPG</td>\n",
       "      <td>nevus</td>\n",
       "      <td>ISIC</td>\n",
       "      <td>Benign</td>\n",
       "    </tr>\n",
       "    <tr>\n",
       "      <th>64877</th>\n",
       "      <td>64877</td>\n",
       "      <td>SEV_345_42.png</td>\n",
       "      <td>datasets/Severance/thumbnails/SEV_345_42.png</td>\n",
       "      <td>syringoma</td>\n",
       "      <td>SEVERANCE</td>\n",
       "      <td>Benign</td>\n",
       "    </tr>\n",
       "    <tr>\n",
       "      <th>64878</th>\n",
       "      <td>64878</td>\n",
       "      <td>ISIC_0062505.JPG</td>\n",
       "      <td>datasets/ISIC/Melanoma/ISIC_0062505.JPG</td>\n",
       "      <td>melanoma</td>\n",
       "      <td>ISIC</td>\n",
       "      <td>Malignant</td>\n",
       "    </tr>\n",
       "    <tr>\n",
       "      <th>64879</th>\n",
       "      <td>64879</td>\n",
       "      <td>SEV_164_8.png</td>\n",
       "      <td>datasets/Severance/thumbnails/SEV_164_8.png</td>\n",
       "      <td>hemangioma</td>\n",
       "      <td>SEVERANCE</td>\n",
       "      <td>Benign</td>\n",
       "    </tr>\n",
       "    <tr>\n",
       "      <th>64880</th>\n",
       "      <td>64880</td>\n",
       "      <td>ASAN_13074.png</td>\n",
       "      <td>datasets/Asan/dataset/Squamous cell carcinoma/ASAN_13074.png</td>\n",
       "      <td>squamous_cell_carcinoma</td>\n",
       "      <td>ASAN</td>\n",
       "      <td>Malignant</td>\n",
       "    </tr>\n",
       "  </tbody>\n",
       "</table>\n",
       "<p>64881 rows × 6 columns</p>\n",
       "</div>"
      ]
     },
     "metadata": {},
     "output_type": "display_data"
    }
   ],
   "execution_count": 10
  },
  {
   "metadata": {
    "ExecuteTime": {
     "end_time": "2024-05-08T18:57:04.736835Z",
     "start_time": "2024-05-08T18:57:04.734024Z"
    }
   },
   "cell_type": "code",
   "source": [
    "import os\n",
    "import numpy as np\n",
    "from concurrent.futures import ThreadPoolExecutor\n",
    "from PIL import Image\n",
    "import cv2\n",
    "\n",
    "# Directorio donde se encuentran las imágenes\n",
    "directorio_imagenes = \"trainThumbnails\"\n",
    "\"\"\"\n",
    "# Función para procesar una imagen y calcular los valores de brillo\n",
    "def procesar_imagen(filename):\n",
    "    ruta_completa = os.path.join(directorio_imagenes, filename)\n",
    "    imagen = readIm(ruta_completa)\n",
    "    # Calcula el brillo promedio de la imagen\n",
    "    mean = [np.mean(imagen[:,:,0]), np.mean(imagen[:,:,1]), np.mean(imagen[:,:,2])]\n",
    "    std = [np.std(imagen[:,:,0]), np.std(imagen[:,:,1]), np.std(imagen[:,:,2])]\n",
    "    return mean, std\n",
    "\n",
    "# Recorre todas las imágenes en el directorio de manera paralela\n",
    "with ThreadPoolExecutor() as executor:\n",
    "    futures = []\n",
    "    for filename in os.listdir(directorio_imagenes):\n",
    "        if filename.lower().endswith(('.jpg', '.jpeg', '.png')):\n",
    "            futures.append(executor.submit(procesar_imagen, filename))\n",
    "\n",
    "# Obtiene los resultados\n",
    "mean_values = []\n",
    "std_values = []\n",
    "for future in futures:\n",
    "    mean, std = future.result()\n",
    "    mean_values.append(mean)\n",
    "    std_values.append(std)\n",
    "\n",
    "# Calcula la media y la desviación estándar de los valores de brillo\n",
    "med_col = np.mean(mean_values, axis=0)\n",
    "desv_col = np.std(std_values, axis=0)\n",
    "\n",
    "print(\"Valores de brillo promedio:\", med_col)\n",
    "print(\"Desviación estándar de los valores de brillo:\", desv_col)\n",
    "\"\"\""
   ],
   "id": "f33709610cf1a83f",
   "outputs": [
    {
     "data": {
      "text/plain": [
       "'\\n# Función para procesar una imagen y calcular los valores de brillo\\ndef procesar_imagen(filename):\\n    ruta_completa = os.path.join(directorio_imagenes, filename)\\n    imagen = readIm(ruta_completa)\\n    # Calcula el brillo promedio de la imagen\\n    mean = [np.mean(imagen[:,:,0]), np.mean(imagen[:,:,1]), np.mean(imagen[:,:,2])]\\n    std = [np.std(imagen[:,:,0]), np.std(imagen[:,:,1]), np.std(imagen[:,:,2])]\\n    return mean, std\\n\\n# Recorre todas las imágenes en el directorio de manera paralela\\nwith ThreadPoolExecutor() as executor:\\n    futures = []\\n    for filename in os.listdir(directorio_imagenes):\\n        if filename.lower().endswith((\\'.jpg\\', \\'.jpeg\\', \\'.png\\')):\\n            futures.append(executor.submit(procesar_imagen, filename))\\n\\n# Obtiene los resultados\\nmean_values = []\\nstd_values = []\\nfor future in futures:\\n    mean, std = future.result()\\n    mean_values.append(mean)\\n    std_values.append(std)\\n\\n# Calcula la media y la desviación estándar de los valores de brillo\\nmed_col = np.mean(mean_values, axis=0)\\ndesv_col = np.std(std_values, axis=0)\\n\\nprint(\"Valores de brillo promedio:\", med_col)\\nprint(\"Desviación estándar de los valores de brillo:\", desv_col)\\n'"
      ]
     },
     "execution_count": 6,
     "metadata": {},
     "output_type": "execute_result"
    }
   ],
   "execution_count": 6
  },
  {
   "metadata": {},
   "cell_type": "markdown",
   "source": "Creamos el dataset. Para ello, me ayudaré de fastai y crearé un conjunto de imágenes que se usarán para train y test. Nota: hay dos columnas de etiquetas, por lo que se han hecho dos funciones distintas; una que se ocupa de las etiquetas binarias, y otra de las subcategorías. Comenzaremos primero por clasificación binaria.",
   "id": "3ea209841729e661"
  },
  {
   "metadata": {
    "ExecuteTime": {
     "end_time": "2024-05-08T18:57:28.630257Z",
     "start_time": "2024-05-08T18:57:28.628275Z"
    }
   },
   "cell_type": "code",
   "source": [
    "def binary_label(fname):\n",
    "    global train_df\n",
    "    el = train_df.loc[train_df['image'] == str(fname).split(\"/\")[1]]\n",
    "    return el['bin'].values[0]\n",
    "\n",
    "\n",
    "def multi_label(fname):\n",
    "    global train_df\n",
    "    el = train_df.loc[train_df['image'] == str(fname)]\n",
    "    return ((el['label'].values[0]))"
   ],
   "id": "2e1398ee3901926e",
   "outputs": [],
   "execution_count": 11
  },
  {
   "metadata": {
    "ExecuteTime": {
     "end_time": "2024-05-08T18:58:57.929985Z",
     "start_time": "2024-05-08T18:57:29.692817Z"
    }
   },
   "cell_type": "code",
   "source": [
    "trainSet = DataBlock(\n",
    "    blocks=(ImageBlock, CategoryBlock),  # La entrada es un bloque de imagenes, y la salida, categorias\n",
    "    get_items=get_image_files,  # Utilizamos el mñetodo get_image_files proporcionado en el Notebook\n",
    "    splitter=RandomSplitter(valid_pct=VALID_PCT, seed=SEED),  # Establecida semilla 0\n",
    "    get_y=binary_label,  # Las etiquetas son especificadas como contenido del dataset en si\n",
    "    item_tfms=[Resize(IMAGE_RESIZE, method=RESIZE_METHOD)],  # Redimensionado\n",
    "    batch_tfms=Normalize.from_stats(*imagenet_stats)\n",
    ").dataloaders(TRAIN_DIR, bs=BATCH_SIZE)"
   ],
   "id": "9765b149e114ec3f",
   "outputs": [],
   "execution_count": 12
  },
  {
   "metadata": {
    "ExecuteTime": {
     "end_time": "2024-05-08T18:58:59.603276Z",
     "start_time": "2024-05-08T18:58:57.930672Z"
    }
   },
   "cell_type": "code",
   "source": [
    "resnet50 = vision_learner(trainSet, 'resnet50', loss_func=LOSS_FUNC, metrics=METRICS,\n",
    "                          pretrained=True)\n",
    "print(resnet50.summary())"
   ],
   "id": "9765657b0e253ba1",
   "outputs": [
    {
     "data": {
      "text/plain": [
       "<IPython.core.display.HTML object>"
      ],
      "text/html": [
       "\n",
       "<style>\n",
       "    /* Turns off some styling */\n",
       "    progress {\n",
       "        /* gets rid of default border in Firefox and Opera. */\n",
       "        border: none;\n",
       "        /* Needs to be in here for Safari polyfill so background images work as expected. */\n",
       "        background-size: auto;\n",
       "    }\n",
       "    progress:not([value]), progress:not([value])::-webkit-progress-bar {\n",
       "        background: repeating-linear-gradient(45deg, #7e7e7e, #7e7e7e 10px, #5c5c5c 10px, #5c5c5c 20px);\n",
       "    }\n",
       "    .progress-bar-interrupted, .progress-bar-interrupted::-webkit-progress-bar {\n",
       "        background: #F44336;\n",
       "    }\n",
       "</style>\n"
      ]
     },
     "metadata": {},
     "output_type": "display_data"
    },
    {
     "data": {
      "text/plain": [
       "<IPython.core.display.HTML object>"
      ],
      "text/html": [
       "\n",
       "    <div>\n",
       "      <progress value='0' class='' max='1' style='width:300px; height:20px; vertical-align: middle;'></progress>\n",
       "      0.00% [0/1 00:00&lt;?]\n",
       "    </div>\n",
       "    \n",
       "\n",
       "\n",
       "    <div>\n",
       "      <progress value='0' class='' max='1' style='width:300px; height:20px; vertical-align: middle;'></progress>\n",
       "      0.00% [0/1 00:00&lt;?]\n",
       "    </div>\n",
       "    "
      ]
     },
     "metadata": {},
     "output_type": "display_data"
    },
    {
     "data": {
      "text/plain": [
       "<IPython.core.display.HTML object>"
      ],
      "text/html": []
     },
     "metadata": {},
     "output_type": "display_data"
    },
    {
     "name": "stdout",
     "output_type": "stream",
     "text": [
      "Sequential (Input shape: 32 x 3 x 386 x 386)\n",
      "============================================================================\n",
      "Layer (type)         Output Shape         Param #    Trainable \n",
      "============================================================================\n",
      "                     32 x 64 x 193 x 193 \n",
      "Conv2d                                    9408       False     \n",
      "BatchNorm2d                               128        True      \n",
      "ReLU                                                           \n",
      "____________________________________________________________________________\n",
      "                     32 x 64 x 97 x 97   \n",
      "MaxPool2d                                                      \n",
      "Conv2d                                    4096       False     \n",
      "BatchNorm2d                               128        True      \n",
      "ReLU                                                           \n",
      "Conv2d                                    36864      False     \n",
      "BatchNorm2d                               128        True      \n",
      "Identity                                                       \n",
      "ReLU                                                           \n",
      "Identity                                                       \n",
      "____________________________________________________________________________\n",
      "                     32 x 256 x 97 x 97  \n",
      "Conv2d                                    16384      False     \n",
      "BatchNorm2d                               512        True      \n",
      "ReLU                                                           \n",
      "Conv2d                                    16384      False     \n",
      "BatchNorm2d                               512        True      \n",
      "____________________________________________________________________________\n",
      "                     32 x 64 x 97 x 97   \n",
      "Conv2d                                    16384      False     \n",
      "BatchNorm2d                               128        True      \n",
      "ReLU                                                           \n",
      "Conv2d                                    36864      False     \n",
      "BatchNorm2d                               128        True      \n",
      "Identity                                                       \n",
      "ReLU                                                           \n",
      "Identity                                                       \n",
      "____________________________________________________________________________\n",
      "                     32 x 256 x 97 x 97  \n",
      "Conv2d                                    16384      False     \n",
      "BatchNorm2d                               512        True      \n",
      "ReLU                                                           \n",
      "____________________________________________________________________________\n",
      "                     32 x 64 x 97 x 97   \n",
      "Conv2d                                    16384      False     \n",
      "BatchNorm2d                               128        True      \n",
      "ReLU                                                           \n",
      "Conv2d                                    36864      False     \n",
      "BatchNorm2d                               128        True      \n",
      "Identity                                                       \n",
      "ReLU                                                           \n",
      "Identity                                                       \n",
      "____________________________________________________________________________\n",
      "                     32 x 256 x 97 x 97  \n",
      "Conv2d                                    16384      False     \n",
      "BatchNorm2d                               512        True      \n",
      "ReLU                                                           \n",
      "____________________________________________________________________________\n",
      "                     32 x 128 x 97 x 97  \n",
      "Conv2d                                    32768      False     \n",
      "BatchNorm2d                               256        True      \n",
      "ReLU                                                           \n",
      "____________________________________________________________________________\n",
      "                     32 x 128 x 49 x 49  \n",
      "Conv2d                                    147456     False     \n",
      "BatchNorm2d                               256        True      \n",
      "Identity                                                       \n",
      "ReLU                                                           \n",
      "Identity                                                       \n",
      "____________________________________________________________________________\n",
      "                     32 x 512 x 49 x 49  \n",
      "Conv2d                                    65536      False     \n",
      "BatchNorm2d                               1024       True      \n",
      "ReLU                                                           \n",
      "Conv2d                                    131072     False     \n",
      "BatchNorm2d                               1024       True      \n",
      "____________________________________________________________________________\n",
      "                     32 x 128 x 49 x 49  \n",
      "Conv2d                                    65536      False     \n",
      "BatchNorm2d                               256        True      \n",
      "ReLU                                                           \n",
      "Conv2d                                    147456     False     \n",
      "BatchNorm2d                               256        True      \n",
      "Identity                                                       \n",
      "ReLU                                                           \n",
      "Identity                                                       \n",
      "____________________________________________________________________________\n",
      "                     32 x 512 x 49 x 49  \n",
      "Conv2d                                    65536      False     \n",
      "BatchNorm2d                               1024       True      \n",
      "ReLU                                                           \n",
      "____________________________________________________________________________\n",
      "                     32 x 128 x 49 x 49  \n",
      "Conv2d                                    65536      False     \n",
      "BatchNorm2d                               256        True      \n",
      "ReLU                                                           \n",
      "Conv2d                                    147456     False     \n",
      "BatchNorm2d                               256        True      \n",
      "Identity                                                       \n",
      "ReLU                                                           \n",
      "Identity                                                       \n",
      "____________________________________________________________________________\n",
      "                     32 x 512 x 49 x 49  \n",
      "Conv2d                                    65536      False     \n",
      "BatchNorm2d                               1024       True      \n",
      "ReLU                                                           \n",
      "____________________________________________________________________________\n",
      "                     32 x 128 x 49 x 49  \n",
      "Conv2d                                    65536      False     \n",
      "BatchNorm2d                               256        True      \n",
      "ReLU                                                           \n",
      "Conv2d                                    147456     False     \n",
      "BatchNorm2d                               256        True      \n",
      "Identity                                                       \n",
      "ReLU                                                           \n",
      "Identity                                                       \n",
      "____________________________________________________________________________\n",
      "                     32 x 512 x 49 x 49  \n",
      "Conv2d                                    65536      False     \n",
      "BatchNorm2d                               1024       True      \n",
      "ReLU                                                           \n",
      "____________________________________________________________________________\n",
      "                     32 x 256 x 49 x 49  \n",
      "Conv2d                                    131072     False     \n",
      "BatchNorm2d                               512        True      \n",
      "ReLU                                                           \n",
      "____________________________________________________________________________\n",
      "                     32 x 256 x 25 x 25  \n",
      "Conv2d                                    589824     False     \n",
      "BatchNorm2d                               512        True      \n",
      "Identity                                                       \n",
      "ReLU                                                           \n",
      "Identity                                                       \n",
      "____________________________________________________________________________\n",
      "                     32 x 1024 x 25 x 25 \n",
      "Conv2d                                    262144     False     \n",
      "BatchNorm2d                               2048       True      \n",
      "ReLU                                                           \n",
      "Conv2d                                    524288     False     \n",
      "BatchNorm2d                               2048       True      \n",
      "____________________________________________________________________________\n",
      "                     32 x 256 x 25 x 25  \n",
      "Conv2d                                    262144     False     \n",
      "BatchNorm2d                               512        True      \n",
      "ReLU                                                           \n",
      "Conv2d                                    589824     False     \n",
      "BatchNorm2d                               512        True      \n",
      "Identity                                                       \n",
      "ReLU                                                           \n",
      "Identity                                                       \n",
      "____________________________________________________________________________\n",
      "                     32 x 1024 x 25 x 25 \n",
      "Conv2d                                    262144     False     \n",
      "BatchNorm2d                               2048       True      \n",
      "ReLU                                                           \n",
      "____________________________________________________________________________\n",
      "                     32 x 256 x 25 x 25  \n",
      "Conv2d                                    262144     False     \n",
      "BatchNorm2d                               512        True      \n",
      "ReLU                                                           \n",
      "Conv2d                                    589824     False     \n",
      "BatchNorm2d                               512        True      \n",
      "Identity                                                       \n",
      "ReLU                                                           \n",
      "Identity                                                       \n",
      "____________________________________________________________________________\n",
      "                     32 x 1024 x 25 x 25 \n",
      "Conv2d                                    262144     False     \n",
      "BatchNorm2d                               2048       True      \n",
      "ReLU                                                           \n",
      "____________________________________________________________________________\n",
      "                     32 x 256 x 25 x 25  \n",
      "Conv2d                                    262144     False     \n",
      "BatchNorm2d                               512        True      \n",
      "ReLU                                                           \n",
      "Conv2d                                    589824     False     \n",
      "BatchNorm2d                               512        True      \n",
      "Identity                                                       \n",
      "ReLU                                                           \n",
      "Identity                                                       \n",
      "____________________________________________________________________________\n",
      "                     32 x 1024 x 25 x 25 \n",
      "Conv2d                                    262144     False     \n",
      "BatchNorm2d                               2048       True      \n",
      "ReLU                                                           \n",
      "____________________________________________________________________________\n",
      "                     32 x 256 x 25 x 25  \n",
      "Conv2d                                    262144     False     \n",
      "BatchNorm2d                               512        True      \n",
      "ReLU                                                           \n",
      "Conv2d                                    589824     False     \n",
      "BatchNorm2d                               512        True      \n",
      "Identity                                                       \n",
      "ReLU                                                           \n",
      "Identity                                                       \n",
      "____________________________________________________________________________\n",
      "                     32 x 1024 x 25 x 25 \n",
      "Conv2d                                    262144     False     \n",
      "BatchNorm2d                               2048       True      \n",
      "ReLU                                                           \n",
      "____________________________________________________________________________\n",
      "                     32 x 256 x 25 x 25  \n",
      "Conv2d                                    262144     False     \n",
      "BatchNorm2d                               512        True      \n",
      "ReLU                                                           \n",
      "Conv2d                                    589824     False     \n",
      "BatchNorm2d                               512        True      \n",
      "Identity                                                       \n",
      "ReLU                                                           \n",
      "Identity                                                       \n",
      "____________________________________________________________________________\n",
      "                     32 x 1024 x 25 x 25 \n",
      "Conv2d                                    262144     False     \n",
      "BatchNorm2d                               2048       True      \n",
      "ReLU                                                           \n",
      "____________________________________________________________________________\n",
      "                     32 x 512 x 25 x 25  \n",
      "Conv2d                                    524288     False     \n",
      "BatchNorm2d                               1024       True      \n",
      "ReLU                                                           \n",
      "____________________________________________________________________________\n",
      "                     32 x 512 x 13 x 13  \n",
      "Conv2d                                    2359296    False     \n",
      "BatchNorm2d                               1024       True      \n",
      "Identity                                                       \n",
      "ReLU                                                           \n",
      "Identity                                                       \n",
      "____________________________________________________________________________\n",
      "                     32 x 2048 x 13 x 13 \n",
      "Conv2d                                    1048576    False     \n",
      "BatchNorm2d                               4096       True      \n",
      "ReLU                                                           \n",
      "Conv2d                                    2097152    False     \n",
      "BatchNorm2d                               4096       True      \n",
      "____________________________________________________________________________\n",
      "                     32 x 512 x 13 x 13  \n",
      "Conv2d                                    1048576    False     \n",
      "BatchNorm2d                               1024       True      \n",
      "ReLU                                                           \n",
      "Conv2d                                    2359296    False     \n",
      "BatchNorm2d                               1024       True      \n",
      "Identity                                                       \n",
      "ReLU                                                           \n",
      "Identity                                                       \n",
      "____________________________________________________________________________\n",
      "                     32 x 2048 x 13 x 13 \n",
      "Conv2d                                    1048576    False     \n",
      "BatchNorm2d                               4096       True      \n",
      "ReLU                                                           \n",
      "____________________________________________________________________________\n",
      "                     32 x 512 x 13 x 13  \n",
      "Conv2d                                    1048576    False     \n",
      "BatchNorm2d                               1024       True      \n",
      "ReLU                                                           \n",
      "Conv2d                                    2359296    False     \n",
      "BatchNorm2d                               1024       True      \n",
      "Identity                                                       \n",
      "ReLU                                                           \n",
      "Identity                                                       \n",
      "____________________________________________________________________________\n",
      "                     32 x 2048 x 13 x 13 \n",
      "Conv2d                                    1048576    False     \n",
      "BatchNorm2d                               4096       True      \n",
      "ReLU                                                           \n",
      "____________________________________________________________________________\n",
      "                     32 x 2048 x 1 x 1   \n",
      "AdaptiveAvgPool2d                                              \n",
      "AdaptiveMaxPool2d                                              \n",
      "____________________________________________________________________________\n",
      "                     32 x 4096           \n",
      "Flatten                                                        \n",
      "BatchNorm1d                               8192       True      \n",
      "Dropout                                                        \n",
      "____________________________________________________________________________\n",
      "                     32 x 512            \n",
      "Linear                                    2097152    True      \n",
      "ReLU                                                           \n",
      "BatchNorm1d                               1024       True      \n",
      "Dropout                                                        \n",
      "____________________________________________________________________________\n",
      "                     32 x 2              \n",
      "Linear                                    1024       True      \n",
      "____________________________________________________________________________\n",
      "\n",
      "Total params: 25,615,424\n",
      "Total trainable params: 2,160,512\n",
      "Total non-trainable params: 23,454,912\n",
      "\n",
      "Optimizer used: <function Adam at 0x7f2ad7722660>\n",
      "Loss function: FlattenedLoss of CrossEntropyLoss()\n",
      "\n",
      "Model frozen up to parameter group #1\n",
      "\n",
      "Callbacks:\n",
      "  - TrainEvalCallback\n",
      "  - CastToTensor\n",
      "  - Recorder\n",
      "  - ProgressCallback\n"
     ]
    }
   ],
   "execution_count": 13
  },
  {
   "metadata": {
    "ExecuteTime": {
     "end_time": "2024-05-08T18:00:17.819210Z",
     "start_time": "2024-05-08T17:59:48.847101Z"
    }
   },
   "cell_type": "code",
   "source": "lrs = resnet50.lr_find(suggest_funcs=(minimum, steep, valley, slide))",
   "id": "9c33d939a49148a1",
   "outputs": [
    {
     "data": {
      "text/plain": [
       "<IPython.core.display.HTML object>"
      ],
      "text/html": [
       "\n",
       "<style>\n",
       "    /* Turns off some styling */\n",
       "    progress {\n",
       "        /* gets rid of default border in Firefox and Opera. */\n",
       "        border: none;\n",
       "        /* Needs to be in here for Safari polyfill so background images work as expected. */\n",
       "        background-size: auto;\n",
       "    }\n",
       "    progress:not([value]), progress:not([value])::-webkit-progress-bar {\n",
       "        background: repeating-linear-gradient(45deg, #7e7e7e, #7e7e7e 10px, #5c5c5c 10px, #5c5c5c 20px);\n",
       "    }\n",
       "    .progress-bar-interrupted, .progress-bar-interrupted::-webkit-progress-bar {\n",
       "        background: #F44336;\n",
       "    }\n",
       "</style>\n"
      ]
     },
     "metadata": {},
     "output_type": "display_data"
    },
    {
     "data": {
      "text/plain": [
       "<IPython.core.display.HTML object>"
      ],
      "text/html": []
     },
     "metadata": {},
     "output_type": "display_data"
    },
    {
     "data": {
      "text/plain": [
       "<Figure size 640x480 with 1 Axes>"
      ],
      "image/png": "[encoded data removed]"
     },
     "metadata": {},
     "output_type": "display_data"
    }
   ],
   "execution_count": 10
  },
  {
   "metadata": {
    "ExecuteTime": {
     "end_time": "2024-05-08T18:00:17.821826Z",
     "start_time": "2024-05-08T18:00:17.819890Z"
    }
   },
   "cell_type": "code",
   "source": "print(trainSet.vocab)",
   "id": "3f0d840afb837f5c",
   "outputs": [
    {
     "name": "stdout",
     "output_type": "stream",
     "text": [
      "['Benign', 'Malignant']\n"
     ]
    }
   ],
   "execution_count": 11
  },
  {
   "metadata": {
    "ExecuteTime": {
     "end_time": "2024-05-08T18:07:44.344893Z",
     "start_time": "2024-05-08T18:00:17.822328Z"
    }
   },
   "cell_type": "code",
   "source": [
    "early_stopping = EarlyStoppingCallback(monitor='valid_loss', patience=EARLY_STOP_PATIENCE)\n",
    "save_callback = SaveModelCallback(monitor='valid_loss', fname='best_model')\n",
    "\n",
    "resnet50.fine_tune(NUM_EPOCHS, lrs[2],\n",
    "                   cbs=[early_stopping, save_callback])\n"
   ],
   "id": "a576da9a3dc3acfb",
   "outputs": [
    {
     "data": {
      "text/plain": [
       "<IPython.core.display.HTML object>"
      ],
      "text/html": [
       "\n",
       "<style>\n",
       "    /* Turns off some styling */\n",
       "    progress {\n",
       "        /* gets rid of default border in Firefox and Opera. */\n",
       "        border: none;\n",
       "        /* Needs to be in here for Safari polyfill so background images work as expected. */\n",
       "        background-size: auto;\n",
       "    }\n",
       "    progress:not([value]), progress:not([value])::-webkit-progress-bar {\n",
       "        background: repeating-linear-gradient(45deg, #7e7e7e, #7e7e7e 10px, #5c5c5c 10px, #5c5c5c 20px);\n",
       "    }\n",
       "    .progress-bar-interrupted, .progress-bar-interrupted::-webkit-progress-bar {\n",
       "        background: #F44336;\n",
       "    }\n",
       "</style>\n"
      ]
     },
     "metadata": {},
     "output_type": "display_data"
    },
    {
     "data": {
      "text/plain": [
       "<IPython.core.display.HTML object>"
      ],
      "text/html": [
       "\n",
       "    <div>\n",
       "      <progress value='0' class='' max='1' style='width:300px; height:20px; vertical-align: middle;'></progress>\n",
       "      0.00% [0/1 00:00&lt;?]\n",
       "    </div>\n",
       "    \n",
       "<table border=\"1\" class=\"dataframe\">\n",
       "  <thead>\n",
       "    <tr style=\"text-align: left;\">\n",
       "      <th>epoch</th>\n",
       "      <th>train_loss</th>\n",
       "      <th>valid_loss</th>\n",
       "      <th>accuracy</th>\n",
       "      <th>balanced_accuracy_score</th>\n",
       "      <th>error_rate</th>\n",
       "      <th>recall_score</th>\n",
       "      <th>precision_score</th>\n",
       "      <th>time</th>\n",
       "    </tr>\n",
       "  </thead>\n",
       "  <tbody>\n",
       "  </tbody>\n",
       "</table><p>\n",
       "\n",
       "    <div>\n",
       "      <progress value='609' class='' max='609' style='width:300px; height:20px; vertical-align: middle;'></progress>\n",
       "      100.00% [609/609 01:19&lt;00:00 0.4617]\n",
       "    </div>\n",
       "    "
      ]
     },
     "metadata": {},
     "output_type": "display_data"
    },
    {
     "data": {
      "text/plain": [
       "<IPython.core.display.HTML object>"
      ],
      "text/html": [
       "<table border=\"1\" class=\"dataframe\">\n",
       "  <thead>\n",
       "    <tr style=\"text-align: left;\">\n",
       "      <th>epoch</th>\n",
       "      <th>train_loss</th>\n",
       "      <th>valid_loss</th>\n",
       "      <th>accuracy</th>\n",
       "      <th>balanced_accuracy_score</th>\n",
       "      <th>error_rate</th>\n",
       "      <th>recall_score</th>\n",
       "      <th>precision_score</th>\n",
       "      <th>time</th>\n",
       "    </tr>\n",
       "  </thead>\n",
       "  <tbody>\n",
       "    <tr>\n",
       "      <td>0</td>\n",
       "      <td>0.461678</td>\n",
       "      <td>0.421927</td>\n",
       "      <td>0.805282</td>\n",
       "      <td>0.601559</td>\n",
       "      <td>0.194718</td>\n",
       "      <td>0.242518</td>\n",
       "      <td>0.629470</td>\n",
       "      <td>07:26</td>\n",
       "    </tr>\n",
       "  </tbody>\n",
       "</table>"
      ]
     },
     "metadata": {},
     "output_type": "display_data"
    }
   ],
   "execution_count": 12
  },
  {
   "metadata": {
    "ExecuteTime": {
     "end_time": "2024-05-08T18:07:45.566174Z",
     "start_time": "2024-05-08T18:07:44.345529Z"
    }
   },
   "cell_type": "code",
   "source": "resnet50.summary()",
   "id": "26325ba99c1abbca",
   "outputs": [
    {
     "data": {
      "text/plain": [
       "<IPython.core.display.HTML object>"
      ],
      "text/html": [
       "\n",
       "<style>\n",
       "    /* Turns off some styling */\n",
       "    progress {\n",
       "        /* gets rid of default border in Firefox and Opera. */\n",
       "        border: none;\n",
       "        /* Needs to be in here for Safari polyfill so background images work as expected. */\n",
       "        background-size: auto;\n",
       "    }\n",
       "    progress:not([value]), progress:not([value])::-webkit-progress-bar {\n",
       "        background: repeating-linear-gradient(45deg, #7e7e7e, #7e7e7e 10px, #5c5c5c 10px, #5c5c5c 20px);\n",
       "    }\n",
       "    .progress-bar-interrupted, .progress-bar-interrupted::-webkit-progress-bar {\n",
       "        background: #F44336;\n",
       "    }\n",
       "</style>\n"
      ]
     },
     "metadata": {},
     "output_type": "display_data"
    },
    {
     "data": {
      "text/plain": [
       "<IPython.core.display.HTML object>"
      ],
      "text/html": [
       "\n",
       "    <div>\n",
       "      <progress value='0' class='' max='0' style='width:300px; height:20px; vertical-align: middle;'></progress>\n",
       "      \n",
       "    </div>\n",
       "    \n"
      ]
     },
     "metadata": {},
     "output_type": "display_data"
    },
    {
     "data": {
      "text/plain": [
       "<IPython.core.display.HTML object>"
      ],
      "text/html": []
     },
     "metadata": {},
     "output_type": "display_data"
    },
    {
     "data": {
      "text/plain": [
       "Sequential (Input shape: 32 x 3 x 386 x 386)\n",
       "============================================================================\n",
       "Layer (type)         Output Shape         Param #    Trainable \n",
       "============================================================================\n",
       "                     32 x 64 x 193 x 193 \n",
       "Conv2d                                    9408       True      \n",
       "BatchNorm2d                               128        True      \n",
       "ReLU                                                           \n",
       "____________________________________________________________________________\n",
       "                     32 x 64 x 97 x 97   \n",
       "MaxPool2d                                                      \n",
       "Conv2d                                    4096       True      \n",
       "BatchNorm2d                               128        True      \n",
       "ReLU                                                           \n",
       "Conv2d                                    36864      True      \n",
       "BatchNorm2d                               128        True      \n",
       "Identity                                                       \n",
       "ReLU                                                           \n",
       "Identity                                                       \n",
       "____________________________________________________________________________\n",
       "                     32 x 256 x 97 x 97  \n",
       "Conv2d                                    16384      True      \n",
       "BatchNorm2d                               512        True      \n",
       "ReLU                                                           \n",
       "Conv2d                                    16384      True      \n",
       "BatchNorm2d                               512        True      \n",
       "____________________________________________________________________________\n",
       "                     32 x 64 x 97 x 97   \n",
       "Conv2d                                    16384      True      \n",
       "BatchNorm2d                               128        True      \n",
       "ReLU                                                           \n",
       "Conv2d                                    36864      True      \n",
       "BatchNorm2d                               128        True      \n",
       "Identity                                                       \n",
       "ReLU                                                           \n",
       "Identity                                                       \n",
       "____________________________________________________________________________\n",
       "                     32 x 256 x 97 x 97  \n",
       "Conv2d                                    16384      True      \n",
       "BatchNorm2d                               512        True      \n",
       "ReLU                                                           \n",
       "____________________________________________________________________________\n",
       "                     32 x 64 x 97 x 97   \n",
       "Conv2d                                    16384      True      \n",
       "BatchNorm2d                               128        True      \n",
       "ReLU                                                           \n",
       "Conv2d                                    36864      True      \n",
       "BatchNorm2d                               128        True      \n",
       "Identity                                                       \n",
       "ReLU                                                           \n",
       "Identity                                                       \n",
       "____________________________________________________________________________\n",
       "                     32 x 256 x 97 x 97  \n",
       "Conv2d                                    16384      True      \n",
       "BatchNorm2d                               512        True      \n",
       "ReLU                                                           \n",
       "____________________________________________________________________________\n",
       "                     32 x 128 x 97 x 97  \n",
       "Conv2d                                    32768      True      \n",
       "BatchNorm2d                               256        True      \n",
       "ReLU                                                           \n",
       "____________________________________________________________________________\n",
       "                     32 x 128 x 49 x 49  \n",
       "Conv2d                                    147456     True      \n",
       "BatchNorm2d                               256        True      \n",
       "Identity                                                       \n",
       "ReLU                                                           \n",
       "Identity                                                       \n",
       "____________________________________________________________________________\n",
       "                     32 x 512 x 49 x 49  \n",
       "Conv2d                                    65536      True      \n",
       "BatchNorm2d                               1024       True      \n",
       "ReLU                                                           \n",
       "Conv2d                                    131072     True      \n",
       "BatchNorm2d                               1024       True      \n",
       "____________________________________________________________________________\n",
       "                     32 x 128 x 49 x 49  \n",
       "Conv2d                                    65536      True      \n",
       "BatchNorm2d                               256        True      \n",
       "ReLU                                                           \n",
       "Conv2d                                    147456     True      \n",
       "BatchNorm2d                               256        True      \n",
       "Identity                                                       \n",
       "ReLU                                                           \n",
       "Identity                                                       \n",
       "____________________________________________________________________________\n",
       "                     32 x 512 x 49 x 49  \n",
       "Conv2d                                    65536      True      \n",
       "BatchNorm2d                               1024       True      \n",
       "ReLU                                                           \n",
       "____________________________________________________________________________\n",
       "                     32 x 128 x 49 x 49  \n",
       "Conv2d                                    65536      True      \n",
       "BatchNorm2d                               256        True      \n",
       "ReLU                                                           \n",
       "Conv2d                                    147456     True      \n",
       "BatchNorm2d                               256        True      \n",
       "Identity                                                       \n",
       "ReLU                                                           \n",
       "Identity                                                       \n",
       "____________________________________________________________________________\n",
       "                     32 x 512 x 49 x 49  \n",
       "Conv2d                                    65536      True      \n",
       "BatchNorm2d                               1024       True      \n",
       "ReLU                                                           \n",
       "____________________________________________________________________________\n",
       "                     32 x 128 x 49 x 49  \n",
       "Conv2d                                    65536      True      \n",
       "BatchNorm2d                               256        True      \n",
       "ReLU                                                           \n",
       "Conv2d                                    147456     True      \n",
       "BatchNorm2d                               256        True      \n",
       "Identity                                                       \n",
       "ReLU                                                           \n",
       "Identity                                                       \n",
       "____________________________________________________________________________\n",
       "                     32 x 512 x 49 x 49  \n",
       "Conv2d                                    65536      True      \n",
       "BatchNorm2d                               1024       True      \n",
       "ReLU                                                           \n",
       "____________________________________________________________________________\n",
       "                     32 x 256 x 49 x 49  \n",
       "Conv2d                                    131072     True      \n",
       "BatchNorm2d                               512        True      \n",
       "ReLU                                                           \n",
       "____________________________________________________________________________\n",
       "                     32 x 256 x 25 x 25  \n",
       "Conv2d                                    589824     True      \n",
       "BatchNorm2d                               512        True      \n",
       "Identity                                                       \n",
       "ReLU                                                           \n",
       "Identity                                                       \n",
       "____________________________________________________________________________\n",
       "                     32 x 1024 x 25 x 25 \n",
       "Conv2d                                    262144     True      \n",
       "BatchNorm2d                               2048       True      \n",
       "ReLU                                                           \n",
       "Conv2d                                    524288     True      \n",
       "BatchNorm2d                               2048       True      \n",
       "____________________________________________________________________________\n",
       "                     32 x 256 x 25 x 25  \n",
       "Conv2d                                    262144     True      \n",
       "BatchNorm2d                               512        True      \n",
       "ReLU                                                           \n",
       "Conv2d                                    589824     True      \n",
       "BatchNorm2d                               512        True      \n",
       "Identity                                                       \n",
       "ReLU                                                           \n",
       "Identity                                                       \n",
       "____________________________________________________________________________\n",
       "                     32 x 1024 x 25 x 25 \n",
       "Conv2d                                    262144     True      \n",
       "BatchNorm2d                               2048       True      \n",
       "ReLU                                                           \n",
       "____________________________________________________________________________\n",
       "                     32 x 256 x 25 x 25  \n",
       "Conv2d                                    262144     True      \n",
       "BatchNorm2d                               512        True      \n",
       "ReLU                                                           \n",
       "Conv2d                                    589824     True      \n",
       "BatchNorm2d                               512        True      \n",
       "Identity                                                       \n",
       "ReLU                                                           \n",
       "Identity                                                       \n",
       "____________________________________________________________________________\n",
       "                     32 x 1024 x 25 x 25 \n",
       "Conv2d                                    262144     True      \n",
       "BatchNorm2d                               2048       True      \n",
       "ReLU                                                           \n",
       "____________________________________________________________________________\n",
       "                     32 x 256 x 25 x 25  \n",
       "Conv2d                                    262144     True      \n",
       "BatchNorm2d                               512        True      \n",
       "ReLU                                                           \n",
       "Conv2d                                    589824     True      \n",
       "BatchNorm2d                               512        True      \n",
       "Identity                                                       \n",
       "ReLU                                                           \n",
       "Identity                                                       \n",
       "____________________________________________________________________________\n",
       "                     32 x 1024 x 25 x 25 \n",
       "Conv2d                                    262144     True      \n",
       "BatchNorm2d                               2048       True      \n",
       "ReLU                                                           \n",
       "____________________________________________________________________________\n",
       "                     32 x 256 x 25 x 25  \n",
       "Conv2d                                    262144     True      \n",
       "BatchNorm2d                               512        True      \n",
       "ReLU                                                           \n",
       "Conv2d                                    589824     True      \n",
       "BatchNorm2d                               512        True      \n",
       "Identity                                                       \n",
       "ReLU                                                           \n",
       "Identity                                                       \n",
       "____________________________________________________________________________\n",
       "                     32 x 1024 x 25 x 25 \n",
       "Conv2d                                    262144     True      \n",
       "BatchNorm2d                               2048       True      \n",
       "ReLU                                                           \n",
       "____________________________________________________________________________\n",
       "                     32 x 256 x 25 x 25  \n",
       "Conv2d                                    262144     True      \n",
       "BatchNorm2d                               512        True      \n",
       "ReLU                                                           \n",
       "Conv2d                                    589824     True      \n",
       "BatchNorm2d                               512        True      \n",
       "Identity                                                       \n",
       "ReLU                                                           \n",
       "Identity                                                       \n",
       "____________________________________________________________________________\n",
       "                     32 x 1024 x 25 x 25 \n",
       "Conv2d                                    262144     True      \n",
       "BatchNorm2d                               2048       True      \n",
       "ReLU                                                           \n",
       "____________________________________________________________________________\n",
       "                     32 x 512 x 25 x 25  \n",
       "Conv2d                                    524288     True      \n",
       "BatchNorm2d                               1024       True      \n",
       "ReLU                                                           \n",
       "____________________________________________________________________________\n",
       "                     32 x 512 x 13 x 13  \n",
       "Conv2d                                    2359296    True      \n",
       "BatchNorm2d                               1024       True      \n",
       "Identity                                                       \n",
       "ReLU                                                           \n",
       "Identity                                                       \n",
       "____________________________________________________________________________\n",
       "                     32 x 2048 x 13 x 13 \n",
       "Conv2d                                    1048576    True      \n",
       "BatchNorm2d                               4096       True      \n",
       "ReLU                                                           \n",
       "Conv2d                                    2097152    True      \n",
       "BatchNorm2d                               4096       True      \n",
       "____________________________________________________________________________\n",
       "                     32 x 512 x 13 x 13  \n",
       "Conv2d                                    1048576    True      \n",
       "BatchNorm2d                               1024       True      \n",
       "ReLU                                                           \n",
       "Conv2d                                    2359296    True      \n",
       "BatchNorm2d                               1024       True      \n",
       "Identity                                                       \n",
       "ReLU                                                           \n",
       "Identity                                                       \n",
       "____________________________________________________________________________\n",
       "                     32 x 2048 x 13 x 13 \n",
       "Conv2d                                    1048576    True      \n",
       "BatchNorm2d                               4096       True      \n",
       "ReLU                                                           \n",
       "____________________________________________________________________________\n",
       "                     32 x 512 x 13 x 13  \n",
       "Conv2d                                    1048576    True      \n",
       "BatchNorm2d                               1024       True      \n",
       "ReLU                                                           \n",
       "Conv2d                                    2359296    True      \n",
       "BatchNorm2d                               1024       True      \n",
       "Identity                                                       \n",
       "ReLU                                                           \n",
       "Identity                                                       \n",
       "____________________________________________________________________________\n",
       "                     32 x 2048 x 13 x 13 \n",
       "Conv2d                                    1048576    True      \n",
       "BatchNorm2d                               4096       True      \n",
       "ReLU                                                           \n",
       "____________________________________________________________________________\n",
       "                     32 x 2048 x 1 x 1   \n",
       "AdaptiveAvgPool2d                                              \n",
       "AdaptiveMaxPool2d                                              \n",
       "____________________________________________________________________________\n",
       "                     32 x 4096           \n",
       "Flatten                                                        \n",
       "BatchNorm1d                               8192       True      \n",
       "Dropout                                                        \n",
       "____________________________________________________________________________\n",
       "                     32 x 512            \n",
       "Linear                                    2097152    True      \n",
       "ReLU                                                           \n",
       "BatchNorm1d                               1024       True      \n",
       "Dropout                                                        \n",
       "____________________________________________________________________________\n",
       "                     32 x 2              \n",
       "Linear                                    1024       True      \n",
       "____________________________________________________________________________\n",
       "\n",
       "Total params: 25,615,424\n",
       "Total trainable params: 25,615,424\n",
       "Total non-trainable params: 0\n",
       "\n",
       "Optimizer used: <function Adam at 0x7f3e3a6c6340>\n",
       "Loss function: FlattenedLoss of CrossEntropyLoss()\n",
       "\n",
       "Model unfrozen\n",
       "\n",
       "Callbacks:\n",
       "  - TrainEvalCallback\n",
       "  - CastToTensor\n",
       "  - Recorder\n",
       "  - ProgressCallback"
      ]
     },
     "execution_count": 13,
     "metadata": {},
     "output_type": "execute_result"
    }
   ],
   "execution_count": 13
  },
  {
   "metadata": {
    "ExecuteTime": {
     "end_time": "2024-05-08T18:09:02.848926Z",
     "start_time": "2024-05-08T18:07:45.567192Z"
    }
   },
   "cell_type": "code",
   "source": [
    "state = torch.load('models/best_model.pth')\n",
    "preds, targets = resnet50.get_preds(ds_idx=1)  # ds_idx=1 para el conjunto de validación\n"
   ],
   "id": "3993e360a562fb33",
   "outputs": [
    {
     "data": {
      "text/plain": [
       "<IPython.core.display.HTML object>"
      ],
      "text/html": [
       "\n",
       "<style>\n",
       "    /* Turns off some styling */\n",
       "    progress {\n",
       "        /* gets rid of default border in Firefox and Opera. */\n",
       "        border: none;\n",
       "        /* Needs to be in here for Safari polyfill so background images work as expected. */\n",
       "        background-size: auto;\n",
       "    }\n",
       "    progress:not([value]), progress:not([value])::-webkit-progress-bar {\n",
       "        background: repeating-linear-gradient(45deg, #7e7e7e, #7e7e7e 10px, #5c5c5c 10px, #5c5c5c 20px);\n",
       "    }\n",
       "    .progress-bar-interrupted, .progress-bar-interrupted::-webkit-progress-bar {\n",
       "        background: #F44336;\n",
       "    }\n",
       "</style>\n"
      ]
     },
     "metadata": {},
     "output_type": "display_data"
    },
    {
     "data": {
      "text/plain": [
       "<IPython.core.display.HTML object>"
      ],
      "text/html": []
     },
     "metadata": {},
     "output_type": "display_data"
    }
   ],
   "execution_count": 14
  },
  {
   "metadata": {
    "ExecuteTime": {
     "end_time": "2024-05-08T18:09:02.851708Z",
     "start_time": "2024-05-08T18:09:02.849751Z"
    }
   },
   "cell_type": "code",
   "source": [
    "y_true = targets.numpy()\n",
    "y_pred = preds.argmax(dim=1).numpy()  # Convierte las probabilidades en etiquetas predichas"
   ],
   "id": "12d860ad53550a3c",
   "outputs": [],
   "execution_count": 15
  },
  {
   "metadata": {
    "ExecuteTime": {
     "end_time": "2024-05-08T18:09:02.866647Z",
     "start_time": "2024-05-08T18:09:02.852335Z"
    }
   },
   "cell_type": "code",
   "source": "print(classification_report(y_true, y_pred,target_names=trainSet.vocab))",
   "id": "9f23721f92bcec5",
   "outputs": [
    {
     "name": "stdout",
     "output_type": "stream",
     "text": [
      "              precision    recall  f1-score   support\n",
      "\n",
      "      Benign       0.82      0.96      0.89     15254\n",
      "   Malignant       0.63      0.24      0.35      4210\n",
      "\n",
      "    accuracy                           0.81     19464\n",
      "   macro avg       0.73      0.60      0.62     19464\n",
      "weighted avg       0.78      0.81      0.77     19464\n",
      "\n"
     ]
    }
   ],
   "execution_count": 16
  },
  {
   "metadata": {
    "ExecuteTime": {
     "end_time": "2024-05-08T18:09:03.209361Z",
     "start_time": "2024-05-08T18:09:02.867182Z"
    }
   },
   "cell_type": "code",
   "source": "torch.save(resnet50,'modeloentero.pth')",
   "id": "490263e851669d00",
   "outputs": [],
   "execution_count": 17
  },
  {
   "metadata": {},
   "cell_type": "markdown",
   "source": [
    "## ONNX\n",
    "\n",
    "Convertimos al formato estándar"
   ],
   "id": "f072ebea0ebebfec"
  },
  {
   "metadata": {
    "ExecuteTime": {
     "end_time": "2024-05-08T18:21:50.751669Z",
     "start_time": "2024-05-08T18:21:50.501806Z"
    }
   },
   "cell_type": "code",
   "source": [
    "resnet50.export()\n",
    "resnet50.path"
   ],
   "id": "eb8628420ccf5f20",
   "outputs": [
    {
     "data": {
      "text/plain": [
       "Path('.')"
      ]
     },
     "execution_count": 38,
     "metadata": {},
     "output_type": "execute_result"
    }
   ],
   "execution_count": 38
  },
  {
   "metadata": {
    "ExecuteTime": {
     "end_time": "2024-05-08T18:19:35.456903Z",
     "start_time": "2024-05-08T18:19:35.012060Z"
    }
   },
   "cell_type": "code",
   "source": "",
   "id": "1dbfdf7ff8b11fb9",
   "outputs": [],
   "execution_count": 31
  },
  {
   "metadata": {
    "ExecuteTime": {
     "end_time": "2024-05-08T18:28:23.515178Z",
     "start_time": "2024-05-08T18:28:22.997413Z"
    }
   },
   "cell_type": "code",
   "source": [
    "testmodel = torch.load('export.pkl')\n",
    "model_dict = testmodel.state_dict()\n",
    "torch.save(model_dict, 'miModelo.pth')"
   ],
   "id": "b9da3b35dfea8512",
   "outputs": [],
   "execution_count": 53
  },
  {
   "metadata": {
    "ExecuteTime": {
     "end_time": "2024-05-08T18:43:46.771602Z",
     "start_time": "2024-05-08T18:43:46.193050Z"
    }
   },
   "cell_type": "code",
   "source": [
    "loaded_model = models.resnet50\n",
    "loaded_model = vision_learner(trainSet, 'resnet50', loss_func=LOSS_FUNC, metrics=METRICS) # Crea un modelo vacío con la misma arquitectura\n",
    "loaded_model.load_state_dict(torch.load('miModelo.pth'))"
   ],
   "id": "73975674976fe79a",
   "outputs": [
    {
     "data": {
      "text/plain": [
       "<All keys matched successfully>"
      ]
     },
     "execution_count": 67,
     "metadata": {},
     "output_type": "execute_result"
    }
   ],
   "execution_count": 67
  },
  {
   "metadata": {
    "ExecuteTime": {
     "end_time": "2024-05-08T18:29:57.260907Z",
     "start_time": "2024-05-08T18:29:57.258624Z"
    }
   },
   "cell_type": "code",
   "source": "type(loaded_model)",
   "id": "626ff000f0058f20",
   "outputs": [
    {
     "data": {
      "text/plain": [
       "fastai.learner.Learner"
      ]
     },
     "execution_count": 57,
     "metadata": {},
     "output_type": "execute_result"
    }
   ],
   "execution_count": 57
  },
  {
   "metadata": {
    "ExecuteTime": {
     "end_time": "2024-05-08T18:44:48.170437Z",
     "start_time": "2024-05-08T18:44:48.167533Z"
    }
   },
   "cell_type": "code",
   "source": [
    "class InferenceWrapper(nn.Module):\n",
    "    def __init__(self, model, normalize_mean, normalize_std, scale_inp=False, channels_last=False):\n",
    "        super().__init__()\n",
    "        self.model = model\n",
    "        self.register_buffer(\"normalize_mean\", normalize_mean)\n",
    "        self.register_buffer(\"normalize_std\", normalize_std)\n",
    "        self.scale_inp = scale_inp\n",
    "        self.channels_last = channels_last\n",
    "        self.softmax = nn.Softmax(dim=1)\n",
    "\n",
    "    def preprocess_input(self, x):\n",
    "        if self.scale_inp:\n",
    "            x = x / 255.0\n",
    "\n",
    "        if self.channels_last:\n",
    "            x = x.permute(0, 3, 1, 2)\n",
    "\n",
    "        x = (x - self.normalize_mean) / self.normalize_std\n",
    "        return x\n",
    "\n",
    "    def forward(self, x):\n",
    "        x = self.preprocess_input(x)\n",
    "        x = self.model(x)\n",
    "        x = self.softmax(x)\n",
    "        return x"
   ],
   "id": "38b98b9a8f57b23a",
   "outputs": [],
   "execution_count": 72
  },
  {
   "metadata": {
    "ExecuteTime": {
     "end_time": "2024-05-08T18:45:30.580235Z",
     "start_time": "2024-05-08T18:45:30.577023Z"
    }
   },
   "cell_type": "code",
   "source": [
    "# Define the normalization mean and standard deviation\n",
    "mean_tensor = torch.tensor(imagenet_stats[0]).view(1, 3, 1, 1)\n",
    "std_tensor = torch.tensor(imagenet_stats[1]).view(1, 3, 1, 1)\n",
    "\n",
    "# Set the model to evaluation mode\n",
    "resnet50.eval()\n",
    "\n",
    "# Wrap the model with preprocessing and post-processing steps\n",
    "wrapped_model = InferenceWrapper(model,\n",
    "                                 mean_tensor,\n",
    "                                 std_tensor,\n",
    "                                 scale_inp=False, # Scale input values from the rang [0,255] to [0,1]\n",
    "                                 channels_last=False, # Have the model expect input in channels-last format\n",
    "                                 )"
   ],
   "id": "5bff991f02a48956",
   "outputs": [],
   "execution_count": 76
  },
  {
   "metadata": {
    "ExecuteTime": {
     "end_time": "2024-05-08T19:00:05.710816Z",
     "start_time": "2024-05-08T19:00:05.636854Z"
    }
   },
   "cell_type": "code",
   "source": "resnet50.load('best_model')",
   "id": "c4e6a50a31704f00",
   "outputs": [
    {
     "name": "stderr",
     "output_type": "stream",
     "text": [
      "/home/cristhian/anaconda3/lib/python3.11/site-packages/fastai/learner.py:59: UserWarning: Saved file doesn't contain an optimizer state.\n",
      "  elif with_opt: warn(\"Saved file doesn't contain an optimizer state.\")\n"
     ]
    },
    {
     "data": {
      "text/plain": [
       "<fastai.learner.Learner at 0x7f2a9d9944d0>"
      ]
     },
     "execution_count": 16,
     "metadata": {},
     "output_type": "execute_result"
    }
   ],
   "execution_count": 16
  },
  {
   "metadata": {
    "ExecuteTime": {
     "end_time": "2024-05-08T19:00:22.108644Z",
     "start_time": "2024-05-08T19:00:22.105940Z"
    }
   },
   "cell_type": "code",
   "source": [
    "import torch\n",
    "import torchvision\n",
    "import torchvision.transforms as transforms\n",
    "\n",
    "# https://pytorch.org/vision/stable/models.html\n",
    "\n",
    "pytorch_model = resnet50.model.eval() # gets the PyTorch model\n",
    "softmax_layer = torch.nn.Softmax(dim=1) # define softmax\n",
    "normalization_layer = torchvision.transforms.Normalize(mean=[0.485, 0.456, 0.406], std=[0.229, 0.224, 0.225]) # normalization layer\n",
    "\n",
    "# assembling the final model\n",
    "final_model = nn.Sequential(\n",
    "    normalization_layer,\n",
    "    pytorch_model,\n",
    "    softmax_layer\n",
    ")"
   ],
   "id": "b6bbcf72eaa95b91",
   "outputs": [],
   "execution_count": 17
  },
  {
   "metadata": {
    "ExecuteTime": {
     "end_time": "2024-05-08T19:02:04.591740Z",
     "start_time": "2024-05-08T19:02:03.829534Z"
    }
   },
   "cell_type": "code",
   "source": [
    "torch.onnx.export(\n",
    "    final_model,\n",
    "    torch.randn(32, 3, 386, 386).to('cuda'),\n",
    "    'model.onnx',\n",
    "    do_constant_folding=True,\n",
    "    export_params=True,\n",
    "    input_names=['input'],\n",
    "    output_names=['output'],\n",
    "    opset_version=17,\n",
    "    dynamic_axes={'input' : {0 : 'batch_size'},    # variable length axes\n",
    "                  'output' : {0 : 'batch_size'}}\n",
    ")"
   ],
   "id": "63520064f72fd0db",
   "outputs": [],
   "execution_count": 22
  },
  {
   "metadata": {},
   "cell_type": "markdown",
   "source": "",
   "id": "fed34bda4b8f7446"
  },
  {
   "metadata": {},
   "cell_type": "markdown",
   "source": "Inferimos en ONNX",
   "id": "bc97cb8c3efa055e"
  },
  {
   "metadata": {
    "ExecuteTime": {
     "end_time": "2024-05-08T19:02:49.853670Z",
     "start_time": "2024-05-08T19:02:49.851535Z"
    }
   },
   "cell_type": "code",
   "source": [
    "from PIL import Image\n",
    "\n",
    "def image_transform_onnx(path: str, size: int) -> np.ndarray:\n",
    "    '''Image transform helper for onnx runtime inference.'''\n",
    "\n",
    "    image = Image.open(path)\n",
    "    image = image.resize((size,size))\n",
    "\n",
    "    # now our image is represented by 3 layers - Red, Green, Blue\n",
    "    # each layer has a 224 x 224 values representing\n",
    "    image = np.array(image)\n",
    "\n",
    "    # dummy input for the model at export - torch.randn(1, 3, 224, 224)\n",
    "    image = image.transpose(2,0,1).astype(np.float32)\n",
    "\n",
    "    # our image is currently represented by values ranging between 0-255\n",
    "    # we need to convert these values to 0.0-1.0 - those are the values that are expected by our model\n",
    "    image /= 255\n",
    "    image = image[None, ...]\n",
    "    return image"
   ],
   "id": "27f07a6ab9f5a3b9",
   "outputs": [],
   "execution_count": 23
  },
  {
   "metadata": {
    "ExecuteTime": {
     "end_time": "2024-05-08T19:06:13.948806Z",
     "start_time": "2024-05-08T19:06:13.801857Z"
    }
   },
   "cell_type": "code",
   "source": [
    "import numpy as np\n",
    "import onnxruntime as rt\n",
    "\n",
    "labels = ['Benign', 'Malignant']\n",
    "\n",
    "# get image as tensor - 1 x 3 x 256 x 256 dimensions\n",
    "img = image_transform_onnx('trainThumbnails/ISIC_0068761.JPG', 386)\n",
    "\n",
    "# initialize onnx runtime inference session\n",
    "sess = rt.InferenceSession('model.onnx')\n",
    "\n",
    "# input & output names\n",
    "input_name = sess.get_inputs()[0].name\n",
    "output_name = sess.get_outputs()[0].name\n",
    "\n",
    "# input dimensions (important for debugging)\n",
    "input_dims = sess.get_inputs()[0].shape\n",
    "\n",
    "print(f\"Input layer name: {input_name}, Output layer name: {output_name}, Input Dimension: {input_dims}\")\n",
    "\n",
    "results = sess.run([output_name], {input_name: img})[0]\n",
    "print(f\"It's a {labels[np.argmax(results)]}\", results)"
   ],
   "id": "ad2b9b5906890bb2",
   "outputs": [
    {
     "name": "stdout",
     "output_type": "stream",
     "text": [
      "Input layer name: input, Output layer name: output, Input Dimension: ['batch_size', 3, 386, 386]\n",
      "It's a Malignant [[0.43654725 0.5634528 ]]\n"
     ]
    }
   ],
   "execution_count": 30
  }
 ],
 "metadata": {
  "kernelspec": {
   "display_name": "Python 3",
   "language": "python",
   "name": "python3"
  },
  "language_info": {
   "codemirror_mode": {
    "name": "ipython",
    "version": 2
   },
   "file_extension": ".py",
   "mimetype": "text/x-python",
   "name": "python",
   "nbconvert_exporter": "python",
   "pygments_lexer": "ipython2",
   "version": "2.7.6"
  }
 },
 "nbformat": 4,
 "nbformat_minor": 5
}
