{
 "cells": [
  {
   "cell_type": "markdown",
   "id": "92485b90",
   "metadata": {},
   "source": [
    "## Entrenamiento de ResNet50 con data augmentation y 3 modelos\n",
    "\n",
    "Se procede al particionado de datos de train y valid por separado para aplicar data augmentation en entrenamiento mediante la librería imgaug. Luego, se proceden a realizar un modelo de clasificación binaria para discriminar primero el tipo de enfermedad, y posteriormente, se creará un modelo específico para enfermedades cancerígenas y no cancerígenas."
   ]
  },
  {
   "cell_type": "markdown",
   "id": "8a0d239d",
   "metadata": {},
   "source": [
    "Comenzamos por la importación de librerías"
   ]
  },
  {
   "cell_type": "code",
   "execution_count": 27,
   "id": "initial_id",
   "metadata": {
    "ExecuteTime": {
     "end_time": "2024-05-08T20:29:22.060748Z",
     "start_time": "2024-05-08T20:29:19.215241Z"
    },
    "collapsed": true
   },
   "outputs": [
    {
     "data": {
      "text/plain": [
       "True"
      ]
     },
     "execution_count": 27,
     "metadata": {},
     "output_type": "execute_result"
    }
   ],
   "source": [
    "# Librerías utilizadas por el script\n",
    "import timm\n",
    "import numpy as np\n",
    "import pandas as pd\n",
    "import cv2\n",
    "import torch\n",
    "import fastbook\n",
    "import fastai\n",
    "import fastcore\n",
    "import PIL\n",
    "\n",
    "import matplotlib.pyplot as plt\n",
    "import imgaug as ia\n",
    "import seaborn as sns\n",
    "\n",
    "from imgaug import augmenters as iaa\n",
    "from sklearn.model_selection import train_test_split\n",
    "from sklearn.metrics import classification_report\n",
    "from fastai.vision.all import *\n",
    "from nbdev.showdoc import *\n",
    "from fastai.vision.all import *\n",
    "\n",
    "\"\"\"\n",
    "!pip install -Uqq fastbook\n",
    "!pip install nbdev\n",
    "\"\"\"\n",
    "fastbook.setup_book()\n",
    "torch.cuda.is_available()"
   ]
  },
  {
   "cell_type": "markdown",
   "id": "ee29cd37a32e7842",
   "metadata": {},
   "source": [
    "A continuación, se declaran las constantes usadas como parámetros a las funciones"
   ]
  },
  {
   "cell_type": "code",
   "execution_count": 28,
   "id": "374d0bc116b3289a",
   "metadata": {
    "ExecuteTime": {
     "end_time": "2024-05-08T20:29:22.079045Z",
     "start_time": "2024-05-08T20:29:22.077009Z"
    }
   },
   "outputs": [],
   "source": [
    "# Número de clases. 2 para la binaria.\n",
    "NUM_CLASSES = 2\n",
    "TRAIN_DIR = \"trainThumbnails/\"\n",
    "VALID_PCT = 0.3\n",
    "SEED = 19\n",
    "# Número de canales de cada imagen\n",
    "CHANNELS = 3\n",
    "IMAGE_RESIZE = 386\n",
    "RESIZE_METHOD = 'squish'\n",
    "LOSS_FUNC = CrossEntropyLossFlat()\n",
    "METRICS = [accuracy, BalancedAccuracy(), error_rate, Recall(), Precision()]\n",
    "\n",
    "# EARLY_STOP_PATIENCE must be < NUM_EPOCHS\n",
    "NUM_EPOCHS = 50\n",
    "EARLY_STOP_PATIENCE = 3\n",
    "\n",
    "BATCH_SIZE = 16\n",
    "\n",
    "train_df = pd.read_csv('trainSet.csv',index_col=0)\n",
    "np.random.seed(SEED)"
   ]
  },
  {
   "cell_type": "markdown",
   "id": "86d35508",
   "metadata": {},
   "source": [
    "Realizamos la seperación de entrenamiento y validación, junto el aumento de datos. Primero, se separa el entrenamiento para evitar un sesgo de los resultados en validación, y posteriormente, se procede a la construcción de los dataframes."
   ]
  },
  {
   "cell_type": "code",
   "execution_count": 29,
   "id": "bd49acab",
   "metadata": {},
   "outputs": [
    {
     "name": "stdout",
     "output_type": "stream",
     "text": [
      "bin\n",
      "Benign       50949\n",
      "Malignant    13932\n",
      "Name: count, dtype: int64\n"
     ]
    },
    {
     "data": {
      "text/plain": [
       "<Axes: xlabel='bin', ylabel='count'>"
      ]
     },
     "execution_count": 29,
     "metadata": {},
     "output_type": "execute_result"
    },
    {
     "data": {
      "image/png": "[encoded data removed]",
      "text/plain": [
       "<Figure size 640x480 with 1 Axes>"
      ]
     },
     "metadata": {},
     "output_type": "display_data"
    }
   ],
   "source": [
    "# Separación validación y train\n",
    "\n",
    "#train, valid = train_test_split(train_df, test_size=VALID_PCT,stratify=train_df[['bin']])\n",
    "\n",
    "# Vemos cómo es el desequilibrio entre clases\n",
    "print(train_df.bin.value_counts())\n",
    "\n",
    "sns.countplot(data=train_df, x='bin', order=train_df.bin.value_counts().index)\n",
    "\n"
   ]
  },
  {
   "cell_type": "code",
   "execution_count": 30,
   "id": "2c60379d",
   "metadata": {},
   "outputs": [
    {
     "name": "stdout",
     "output_type": "stream",
     "text": [
      "MAL/BENG:  3.6569767441860463\n"
     ]
    }
   ],
   "source": [
    " # Hallamos cuál es la proporción entre las dos clases para igualarlas mediante aumento de datos\n",
    "benign_count, malign_count = train_df.bin.value_counts()\n",
    "print(\"MAL/BENG: \", benign_count/malign_count)"
   ]
  },
  {
   "cell_type": "markdown",
   "id": "7627aa3a",
   "metadata": {},
   "source": [
    "Podemos generar hasta 3 imágenes por data augmentation de la clase maligna para equiparar aproximadamente ambas clases"
   ]
  },
  {
   "cell_type": "code",
   "execution_count": 31,
   "id": "27156ec4",
   "metadata": {},
   "outputs": [],
   "source": [
    "if not os.path.isdir(TRAIN_DIR):\n",
    "    print('%s is not a valid directory.' % TRAIN_DIR)\n",
    "    sys.exit(1)\n",
    "    \n",
    "IMG_EXTENSION = \".png\"\n",
    "NUM_AUG_IMAGES_BEN = 1\n",
    "NUM_AUG_IMAGES_MAL = 5\n",
    "debug = False\n",
    "cwd = os.getcwd()\n",
    "\n",
    "#### Define augmentation sequence ####\n",
    "# See https://github.com/aleju/imgaug for a list of augmentation techniques available.\n",
    "seq = iaa.Sequential([\n",
    "    iaa.Fliplr(0.5),                             # Horizontal flip 50% of images\n",
    "    iaa.Crop(percent=(0, 0.10)),                 # Crop all images between 0% to 10%\n",
    "    iaa.GaussianBlur(sigma=(0, 1)),              # Add slight blur to images\n",
    "    iaa.AddToBrightness((-30, 30)),             # Slightly brighten, darken, or recolor images\n",
    "    iaa.Affine(\n",
    "        translate_percent={\"x\": (-0.1, 0.1), \"y\": (-0.1, 0.1)}, # Translate image\n",
    "        rotate=(-5, 5),                                         # Rotate image\n",
    "        mode=ia.ALL, cval=(0,255)                               # Filling in extra pixels\n",
    "        )\n",
    "    ])\n",
    "\n",
    "\n",
    "#img_ben = train.loc[train['bin'] == \"Benign\"]['image'].to_list()\n",
    "#img_mal = train.loc[train['bin'] == \"Malignant\"]['image'].to_list()"
   ]
  },
  {
   "cell_type": "markdown",
   "id": "475f36cf",
   "metadata": {},
   "source": [
    "Comprobamos que el formato es el adecuado"
   ]
  },
  {
   "cell_type": "code",
   "execution_count": 32,
   "id": "f02ab45e",
   "metadata": {},
   "outputs": [
    {
     "data": {
      "text/plain": [
       "'\\nfor i in range(len(img_ben)):\\n    img_ben[i] = TRAIN_DIR + img_ben[i]\\n\\nfor i in range(len(img_mal)):\\n    img_mal[i] = TRAIN_DIR + img_mal[i]\\n'"
      ]
     },
     "execution_count": 32,
     "metadata": {},
     "output_type": "execute_result"
    }
   ],
   "source": [
    "# Le añadimos el directorio\n",
    "\"\"\"\n",
    "for i in range(len(img_ben)):\n",
    "    img_ben[i] = TRAIN_DIR + img_ben[i]\n",
    "\n",
    "for i in range(len(img_mal)):\n",
    "    img_mal[i] = TRAIN_DIR + img_mal[i]\n",
    "\"\"\""
   ]
  },
  {
   "cell_type": "markdown",
   "id": "975ea322",
   "metadata": {},
   "source": [
    "Ahora, podemos realizar data augmentation de ambas clases. El hecho de hacerlo por separado se debe a que aumentaremos en mayor medida los casos malignos que los benignos para así equiparar el recuento. Multimplicaremos beningnos por 2, y malignos por 6, para así aproximar ambas clases"
   ]
  },
  {
   "cell_type": "code",
   "execution_count": 33,
   "id": "d31221ce",
   "metadata": {},
   "outputs": [],
   "source": [
    "\n",
    "# Go through every image in directory, augment it, and save new image/annotation data\n",
    "\n",
    "def data_aug(img_list, num_img, out_df, direct):\n",
    "    img_aug_list = []\n",
    "    for img_fn in img_list:\n",
    "\n",
    "        #---- Load image ----#\n",
    "        img1_bgr = cv2.imread(img_fn) # Load image with OpenCV\n",
    "        img1 = cv2.cvtColor(img1_bgr, cv2.COLOR_BGR2RGB) # Re-color to RGB from BGR\n",
    "\n",
    "        #---- Augment image N times----#\n",
    "        for i in range(num_img):\n",
    "            img_aug1 = seq1(images=[img1])[0] # Apply augmentation to image\n",
    "\n",
    "            #---- Save image ----#\n",
    "            base_fn = img_fn[:-4] # Get image base filename\n",
    "            img_aug_fn = base_fn + ('_aug%d' % (i+1)) + IMG_EXTENSION # Append \"aug#\" to filename\n",
    "            img_aug_bgr1 = cv2.cvtColor(img_aug1, cv2.COLOR_RGB2BGR) # Re-color to BGR from RGB\n",
    "            \n",
    "            # Añadimos al dataframe, convirtiendo previamente en una lista para fácil edición\n",
    "            el = out_df.loc[out_df['image'] == img_fn.split(\"/\")[1]].values.flatten().tolist()\n",
    "            el[0] = img_aug_fn.split(\"/\")[1]\n",
    "            el[1] = img_aug_fn\n",
    "            \n",
    "            img_aug_list.append(el)\n",
    "\n",
    "            cv2.imwrite(direct + img_aug_fn.split(\"/\")[1],img_aug_bgr1) # Save image to disk\n",
    "            \n",
    "    #print(img_aug_list)\n",
    "    img_aug_df = (pd.DataFrame(img_aug_list, columns=list(out_df.columns)))\n",
    "    out_df = pd.concat([out_df, img_aug_df], ignore_index=True)\n",
    "        \n",
    "    return out_df\n",
    "    "
   ]
  },
  {
   "cell_type": "code",
   "execution_count": 34,
   "id": "b64cb571",
   "metadata": {},
   "outputs": [
    {
     "data": {
      "text/plain": [
       "'\\ntrain_aug = train.copy()\\ntrain_aug = data_aug(img_ben, 1,train_aug, \"binAUG/\")\\ntrain_aug = data_aug(img_mal, 5,train_aug, \"binAUG/\")\\n'"
      ]
     },
     "execution_count": 34,
     "metadata": {},
     "output_type": "execute_result"
    }
   ],
   "source": [
    "\"\"\"\n",
    "train_aug = train.copy()\n",
    "train_aug = data_aug(img_ben, 1,train_aug, \"binAUG/\")\n",
    "train_aug = data_aug(img_mal, 5,train_aug, \"binAUG/\")\n",
    "\"\"\""
   ]
  },
  {
   "cell_type": "markdown",
   "id": "e91a28c8e5a33c36",
   "metadata": {},
   "source": [
    "Leemos el dataframe con la información asoaciada a las etiquetas y otros metadatos"
   ]
  },
  {
   "cell_type": "code",
   "execution_count": 35,
   "id": "83ec7e5a8cc2a37a",
   "metadata": {
    "ExecuteTime": {
     "end_time": "2024-05-08T20:29:22.146048Z",
     "start_time": "2024-05-08T20:29:22.084325Z"
    }
   },
   "outputs": [
    {
     "data": {
      "text/html": [
       "<div>\n",
       "<style scoped>\n",
       "    .dataframe tbody tr th:only-of-type {\n",
       "        vertical-align: middle;\n",
       "    }\n",
       "\n",
       "    .dataframe tbody tr th {\n",
       "        vertical-align: top;\n",
       "    }\n",
       "\n",
       "    .dataframe thead th {\n",
       "        text-align: right;\n",
       "    }\n",
       "</style>\n",
       "<table border=\"1\" class=\"dataframe\">\n",
       "  <thead>\n",
       "    <tr style=\"text-align: right;\">\n",
       "      <th></th>\n",
       "      <th>image</th>\n",
       "      <th>dir</th>\n",
       "      <th>label</th>\n",
       "      <th>dataset</th>\n",
       "      <th>bin</th>\n",
       "    </tr>\n",
       "  </thead>\n",
       "  <tbody>\n",
       "    <tr>\n",
       "      <th>0</th>\n",
       "      <td>ASAN_8196.png</td>\n",
       "      <td>datasets/Asan/dataset/hemangioma/ASAN_8196.png</td>\n",
       "      <td>hemangioma</td>\n",
       "      <td>ASAN</td>\n",
       "      <td>Benign</td>\n",
       "    </tr>\n",
       "    <tr>\n",
       "      <th>1</th>\n",
       "      <td>ASAN_10059.png</td>\n",
       "      <td>datasets/Asan/dataset/dermatofibroma/ASAN_10059.png</td>\n",
       "      <td>dermatofibroma</td>\n",
       "      <td>ASAN</td>\n",
       "      <td>Benign</td>\n",
       "    </tr>\n",
       "    <tr>\n",
       "      <th>2</th>\n",
       "      <td>SEV_248_74.png</td>\n",
       "      <td>datasets/Severance/thumbnails/SEV_248_74.png</td>\n",
       "      <td>pyogenic_granuloma</td>\n",
       "      <td>SEVERANCE</td>\n",
       "      <td>Benign</td>\n",
       "    </tr>\n",
       "    <tr>\n",
       "      <th>3</th>\n",
       "      <td>ISIC_0068761.JPG</td>\n",
       "      <td>datasets/ISIC/Melanoma/ISIC_0068761.JPG</td>\n",
       "      <td>melanoma</td>\n",
       "      <td>ISIC</td>\n",
       "      <td>Malignant</td>\n",
       "    </tr>\n",
       "    <tr>\n",
       "      <th>4</th>\n",
       "      <td>SEV_062_17.png</td>\n",
       "      <td>datasets/Severance/thumbnails/SEV_062_17.png</td>\n",
       "      <td>squamous_cell_carcinoma</td>\n",
       "      <td>SEVERANCE</td>\n",
       "      <td>Malignant</td>\n",
       "    </tr>\n",
       "    <tr>\n",
       "      <th>...</th>\n",
       "      <td>...</td>\n",
       "      <td>...</td>\n",
       "      <td>...</td>\n",
       "      <td>...</td>\n",
       "      <td>...</td>\n",
       "    </tr>\n",
       "    <tr>\n",
       "      <th>64876</th>\n",
       "      <td>ISIC_0014898.JPG</td>\n",
       "      <td>datasets/ISIC/Nevus/ISIC_0014898.JPG</td>\n",
       "      <td>nevus</td>\n",
       "      <td>ISIC</td>\n",
       "      <td>Benign</td>\n",
       "    </tr>\n",
       "    <tr>\n",
       "      <th>64877</th>\n",
       "      <td>SEV_345_42.png</td>\n",
       "      <td>datasets/Severance/thumbnails/SEV_345_42.png</td>\n",
       "      <td>syringoma</td>\n",
       "      <td>SEVERANCE</td>\n",
       "      <td>Benign</td>\n",
       "    </tr>\n",
       "    <tr>\n",
       "      <th>64878</th>\n",
       "      <td>ISIC_0062505.JPG</td>\n",
       "      <td>datasets/ISIC/Melanoma/ISIC_0062505.JPG</td>\n",
       "      <td>melanoma</td>\n",
       "      <td>ISIC</td>\n",
       "      <td>Malignant</td>\n",
       "    </tr>\n",
       "    <tr>\n",
       "      <th>64879</th>\n",
       "      <td>SEV_164_8.png</td>\n",
       "      <td>datasets/Severance/thumbnails/SEV_164_8.png</td>\n",
       "      <td>hemangioma</td>\n",
       "      <td>SEVERANCE</td>\n",
       "      <td>Benign</td>\n",
       "    </tr>\n",
       "    <tr>\n",
       "      <th>64880</th>\n",
       "      <td>ASAN_13074.png</td>\n",
       "      <td>datasets/Asan/dataset/Squamous cell carcinoma/ASAN_13074.png</td>\n",
       "      <td>squamous_cell_carcinoma</td>\n",
       "      <td>ASAN</td>\n",
       "      <td>Malignant</td>\n",
       "    </tr>\n",
       "  </tbody>\n",
       "</table>\n",
       "<p>64881 rows × 5 columns</p>\n",
       "</div>"
      ],
      "text/plain": [
       "                  image  \\\n",
       "0         ASAN_8196.png   \n",
       "1        ASAN_10059.png   \n",
       "2        SEV_248_74.png   \n",
       "3      ISIC_0068761.JPG   \n",
       "4        SEV_062_17.png   \n",
       "...                 ...   \n",
       "64876  ISIC_0014898.JPG   \n",
       "64877    SEV_345_42.png   \n",
       "64878  ISIC_0062505.JPG   \n",
       "64879     SEV_164_8.png   \n",
       "64880    ASAN_13074.png   \n",
       "\n",
       "                                                                dir  \\\n",
       "0                    datasets/Asan/dataset/hemangioma/ASAN_8196.png   \n",
       "1               datasets/Asan/dataset/dermatofibroma/ASAN_10059.png   \n",
       "2                      datasets/Severance/thumbnails/SEV_248_74.png   \n",
       "3                           datasets/ISIC/Melanoma/ISIC_0068761.JPG   \n",
       "4                      datasets/Severance/thumbnails/SEV_062_17.png   \n",
       "...                                                             ...   \n",
       "64876                          datasets/ISIC/Nevus/ISIC_0014898.JPG   \n",
       "64877                  datasets/Severance/thumbnails/SEV_345_42.png   \n",
       "64878                       datasets/ISIC/Melanoma/ISIC_0062505.JPG   \n",
       "64879                   datasets/Severance/thumbnails/SEV_164_8.png   \n",
       "64880  datasets/Asan/dataset/Squamous cell carcinoma/ASAN_13074.png   \n",
       "\n",
       "                         label    dataset        bin  \n",
       "0                   hemangioma       ASAN     Benign  \n",
       "1               dermatofibroma       ASAN     Benign  \n",
       "2           pyogenic_granuloma  SEVERANCE     Benign  \n",
       "3                     melanoma       ISIC  Malignant  \n",
       "4      squamous_cell_carcinoma  SEVERANCE  Malignant  \n",
       "...                        ...        ...        ...  \n",
       "64876                    nevus       ISIC     Benign  \n",
       "64877                syringoma  SEVERANCE     Benign  \n",
       "64878                 melanoma       ISIC  Malignant  \n",
       "64879               hemangioma  SEVERANCE     Benign  \n",
       "64880  squamous_cell_carcinoma       ASAN  Malignant  \n",
       "\n",
       "[64881 rows x 5 columns]"
      ]
     },
     "metadata": {},
     "output_type": "display_data"
    }
   ],
   "source": [
    "display(train_df)"
   ]
  },
  {
   "cell_type": "markdown",
   "id": "3ea209841729e661",
   "metadata": {},
   "source": [
    "Creamos el dataset. Para ello, me ayudaré de fastai y crearé un conjunto de imágenes que se usarán para train y test. Nota: hay dos columnas de etiquetas, por lo que se han hecho dos funciones distintas; una que se ocupa de las etiquetas binarias, y otra de las subcategorías. Comenzaremos primero por clasificación binaria."
   ]
  },
  {
   "cell_type": "code",
   "execution_count": 36,
   "id": "2e1398ee3901926e",
   "metadata": {
    "ExecuteTime": {
     "end_time": "2024-05-08T20:29:22.151817Z",
     "start_time": "2024-05-08T20:29:22.149995Z"
    }
   },
   "outputs": [],
   "source": [
    "def binary_label(fname):\n",
    "    global train_df\n",
    "    el = train_df.loc[train_df['image'] == str(fname).split(\"/\")[1]]\n",
    "    return el['bin'].values[0]\n",
    "\n",
    "\n",
    "def multi_label(fname):\n",
    "    global train_df\n",
    "    el = train_df.loc[train_df['image'] == str(fname)]\n",
    "    return ((el['label'].values[0]))"
   ]
  },
  {
   "cell_type": "markdown",
   "id": "d1cdfce0",
   "metadata": {},
   "source": [
    "Aplicamos las transformaciones de img aug de forma personalizada, haciendo un wrapper para el argumento transformaciones."
   ]
  },
  {
   "cell_type": "code",
   "execution_count": 37,
   "id": "3088f438",
   "metadata": {},
   "outputs": [],
   "source": [
    "# Crear una función de transformación personalizada utilizando imgaug\n",
    "def imgaug_transformations(x: PIL.Image.Image):\n",
    "    seq = iaa.Sequential([\n",
    "    iaa.Fliplr(0.5),                             # Horizontal flip 50% of images\n",
    "    iaa.Crop(percent=(0, 0.10)),                 # Crop all images between 0% to 10%\n",
    "    iaa.GaussianBlur(sigma=(0, 1)),              # Add slight blur to images\n",
    "    iaa.AddToBrightness((-30, 30)),             # Slightly brighten, darken, or recolor images\n",
    "    iaa.Affine(\n",
    "        translate_percent={\"x\": (-0.1, 0.1), \"y\": (-0.1, 0.1)}, # Translate image\n",
    "        rotate=(-5, 5),                                         # Rotate image\n",
    "        mode=ia.ALL, cval=(0,255)                               # Filling in extra pixels\n",
    "        )\n",
    "    ])\n",
    "\n",
    "    img_arr = np.array(x)\n",
    "    augmented_img_arr = seq.augment_image(img_arr)\n",
    "    return PIL.Image.fromarray(augmented_img_arr)\n",
    "\n",
    "# Crear un objeto de transformación en fastai\n",
    "imgaug_tfm = Transform(imgaug_transformations)"
   ]
  },
  {
   "cell_type": "code",
   "execution_count": 38,
   "id": "9765b149e114ec3f",
   "metadata": {
    "ExecuteTime": {
     "end_time": "2024-05-08T20:30:50.069368Z",
     "start_time": "2024-05-08T20:29:22.152386Z"
    }
   },
   "outputs": [],
   "source": [
    "trainSet = DataBlock(\n",
    "    blocks=(ImageBlock, CategoryBlock),  # La entrada es un bloque de imagenes, y la salida, categorias\n",
    "    get_items=get_image_files,  # Utilizamos el mñetodo get_image_files proporcionado en el Notebook\n",
    "    splitter=RandomSplitter(valid_pct=VALID_PCT, seed=SEED),  # Establecida semilla 0\n",
    "    get_y=binary_label,  # Las etiquetas son especificadas como contenido del dataset en si\n",
    "    item_tfms=[Resize(IMAGE_RESIZE, method=RESIZE_METHOD)],  # Redimensionado\n",
    "    batch_tfms=[Normalize.from_stats(*imagenet_stats),imgaug_tfm]\n",
    ").dataloaders(TRAIN_DIR, bs=BATCH_SIZE)"
   ]
  },
  {
   "cell_type": "code",
   "execution_count": 39,
   "id": "9765657b0e253ba1",
   "metadata": {
    "ExecuteTime": {
     "end_time": "2024-05-08T20:30:51.248073Z",
     "start_time": "2024-05-08T20:30:50.070382Z"
    }
   },
   "outputs": [
    {
     "data": {
      "text/html": [
       "\n",
       "<style>\n",
       "    /* Turns off some styling */\n",
       "    progress {\n",
       "        /* gets rid of default border in Firefox and Opera. */\n",
       "        border: none;\n",
       "        /* Needs to be in here for Safari polyfill so background images work as expected. */\n",
       "        background-size: auto;\n",
       "    }\n",
       "    progress:not([value]), progress:not([value])::-webkit-progress-bar {\n",
       "        background: repeating-linear-gradient(45deg, #7e7e7e, #7e7e7e 10px, #5c5c5c 10px, #5c5c5c 20px);\n",
       "    }\n",
       "    .progress-bar-interrupted, .progress-bar-interrupted::-webkit-progress-bar {\n",
       "        background: #F44336;\n",
       "    }\n",
       "</style>\n"
      ],
      "text/plain": [
       "<IPython.core.display.HTML object>"
      ]
     },
     "metadata": {},
     "output_type": "display_data"
    },
    {
     "data": {
      "text/html": [],
      "text/plain": [
       "<IPython.core.display.HTML object>"
      ]
     },
     "metadata": {},
     "output_type": "display_data"
    },
    {
     "name": "stderr",
     "output_type": "stream",
     "text": [
      "/home/cristhian/anaconda3/lib/python3.11/site-packages/torch/nn/modules/conv.py:456: UserWarning: Plan failed with a cudnnException: CUDNN_BACKEND_EXECUTION_PLAN_DESCRIPTOR: cudnnFinalize Descriptor Failed cudnn_status: CUDNN_STATUS_NOT_SUPPORTED (Triggered internally at /opt/conda/conda-bld/pytorch_1712608853099/work/aten/src/ATen/native/cudnn/Conv_v8.cpp:919.)\n",
      "  return F.conv2d(input, weight, bias, self.stride,\n"
     ]
    },
    {
     "name": "stdout",
     "output_type": "stream",
     "text": [
      "Sequential (Input shape: 16 x 3 x 386 x 386)\n",
      "============================================================================\n",
      "Layer (type)         Output Shape         Param #    Trainable \n",
      "============================================================================\n",
      "                     16 x 64 x 193 x 193 \n",
      "Conv2d                                    9408       False     \n",
      "BatchNorm2d                               128        True      \n",
      "ReLU                                                           \n",
      "____________________________________________________________________________\n",
      "                     16 x 64 x 97 x 97   \n",
      "MaxPool2d                                                      \n",
      "Conv2d                                    4096       False     \n",
      "BatchNorm2d                               128        True      \n",
      "ReLU                                                           \n",
      "Conv2d                                    36864      False     \n",
      "BatchNorm2d                               128        True      \n",
      "Identity                                                       \n",
      "ReLU                                                           \n",
      "Identity                                                       \n",
      "____________________________________________________________________________\n",
      "                     16 x 256 x 97 x 97  \n",
      "Conv2d                                    16384      False     \n",
      "BatchNorm2d                               512        True      \n",
      "ReLU                                                           \n",
      "Conv2d                                    16384      False     \n",
      "BatchNorm2d                               512        True      \n",
      "____________________________________________________________________________\n",
      "                     16 x 64 x 97 x 97   \n",
      "Conv2d                                    16384      False     \n",
      "BatchNorm2d                               128        True      \n",
      "ReLU                                                           \n",
      "Conv2d                                    36864      False     \n",
      "BatchNorm2d                               128        True      \n",
      "Identity                                                       \n",
      "ReLU                                                           \n",
      "Identity                                                       \n",
      "____________________________________________________________________________\n",
      "                     16 x 256 x 97 x 97  \n",
      "Conv2d                                    16384      False     \n",
      "BatchNorm2d                               512        True      \n",
      "ReLU                                                           \n",
      "____________________________________________________________________________\n",
      "                     16 x 64 x 97 x 97   \n",
      "Conv2d                                    16384      False     \n",
      "BatchNorm2d                               128        True      \n",
      "ReLU                                                           \n",
      "Conv2d                                    36864      False     \n",
      "BatchNorm2d                               128        True      \n",
      "Identity                                                       \n",
      "ReLU                                                           \n",
      "Identity                                                       \n",
      "____________________________________________________________________________\n",
      "                     16 x 256 x 97 x 97  \n",
      "Conv2d                                    16384      False     \n",
      "BatchNorm2d                               512        True      \n",
      "ReLU                                                           \n",
      "____________________________________________________________________________\n",
      "                     16 x 128 x 97 x 97  \n",
      "Conv2d                                    32768      False     \n",
      "BatchNorm2d                               256        True      \n",
      "ReLU                                                           \n",
      "____________________________________________________________________________\n",
      "                     16 x 128 x 49 x 49  \n",
      "Conv2d                                    147456     False     \n",
      "BatchNorm2d                               256        True      \n",
      "Identity                                                       \n",
      "ReLU                                                           \n",
      "Identity                                                       \n",
      "____________________________________________________________________________\n",
      "                     16 x 512 x 49 x 49  \n",
      "Conv2d                                    65536      False     \n",
      "BatchNorm2d                               1024       True      \n",
      "ReLU                                                           \n",
      "Conv2d                                    131072     False     \n",
      "BatchNorm2d                               1024       True      \n",
      "____________________________________________________________________________\n",
      "                     16 x 128 x 49 x 49  \n",
      "Conv2d                                    65536      False     \n",
      "BatchNorm2d                               256        True      \n",
      "ReLU                                                           \n",
      "Conv2d                                    147456     False     \n",
      "BatchNorm2d                               256        True      \n",
      "Identity                                                       \n",
      "ReLU                                                           \n",
      "Identity                                                       \n",
      "____________________________________________________________________________\n",
      "                     16 x 512 x 49 x 49  \n",
      "Conv2d                                    65536      False     \n",
      "BatchNorm2d                               1024       True      \n",
      "ReLU                                                           \n",
      "____________________________________________________________________________\n",
      "                     16 x 128 x 49 x 49  \n",
      "Conv2d                                    65536      False     \n",
      "BatchNorm2d                               256        True      \n",
      "ReLU                                                           \n",
      "Conv2d                                    147456     False     \n",
      "BatchNorm2d                               256        True      \n",
      "Identity                                                       \n",
      "ReLU                                                           \n",
      "Identity                                                       \n",
      "____________________________________________________________________________\n",
      "                     16 x 512 x 49 x 49  \n",
      "Conv2d                                    65536      False     \n",
      "BatchNorm2d                               1024       True      \n",
      "ReLU                                                           \n",
      "____________________________________________________________________________\n",
      "                     16 x 128 x 49 x 49  \n",
      "Conv2d                                    65536      False     \n",
      "BatchNorm2d                               256        True      \n",
      "ReLU                                                           \n",
      "Conv2d                                    147456     False     \n",
      "BatchNorm2d                               256        True      \n",
      "Identity                                                       \n",
      "ReLU                                                           \n",
      "Identity                                                       \n",
      "____________________________________________________________________________\n",
      "                     16 x 512 x 49 x 49  \n",
      "Conv2d                                    65536      False     \n",
      "BatchNorm2d                               1024       True      \n",
      "ReLU                                                           \n",
      "____________________________________________________________________________\n",
      "                     16 x 256 x 49 x 49  \n",
      "Conv2d                                    131072     False     \n",
      "BatchNorm2d                               512        True      \n",
      "ReLU                                                           \n",
      "____________________________________________________________________________\n",
      "                     16 x 256 x 25 x 25  \n",
      "Conv2d                                    589824     False     \n",
      "BatchNorm2d                               512        True      \n",
      "Identity                                                       \n",
      "ReLU                                                           \n",
      "Identity                                                       \n",
      "____________________________________________________________________________\n",
      "                     16 x 1024 x 25 x 25 \n",
      "Conv2d                                    262144     False     \n",
      "BatchNorm2d                               2048       True      \n",
      "ReLU                                                           \n",
      "Conv2d                                    524288     False     \n",
      "BatchNorm2d                               2048       True      \n",
      "____________________________________________________________________________\n",
      "                     16 x 256 x 25 x 25  \n",
      "Conv2d                                    262144     False     \n",
      "BatchNorm2d                               512        True      \n",
      "ReLU                                                           \n",
      "Conv2d                                    589824     False     \n",
      "BatchNorm2d                               512        True      \n",
      "Identity                                                       \n",
      "ReLU                                                           \n",
      "Identity                                                       \n",
      "____________________________________________________________________________\n",
      "                     16 x 1024 x 25 x 25 \n",
      "Conv2d                                    262144     False     \n",
      "BatchNorm2d                               2048       True      \n",
      "ReLU                                                           \n",
      "____________________________________________________________________________\n",
      "                     16 x 256 x 25 x 25  \n",
      "Conv2d                                    262144     False     \n",
      "BatchNorm2d                               512        True      \n",
      "ReLU                                                           \n",
      "Conv2d                                    589824     False     \n",
      "BatchNorm2d                               512        True      \n",
      "Identity                                                       \n",
      "ReLU                                                           \n",
      "Identity                                                       \n",
      "____________________________________________________________________________\n",
      "                     16 x 1024 x 25 x 25 \n",
      "Conv2d                                    262144     False     \n",
      "BatchNorm2d                               2048       True      \n",
      "ReLU                                                           \n",
      "____________________________________________________________________________\n",
      "                     16 x 256 x 25 x 25  \n",
      "Conv2d                                    262144     False     \n",
      "BatchNorm2d                               512        True      \n",
      "ReLU                                                           \n",
      "Conv2d                                    589824     False     \n",
      "BatchNorm2d                               512        True      \n",
      "Identity                                                       \n",
      "ReLU                                                           \n",
      "Identity                                                       \n",
      "____________________________________________________________________________\n",
      "                     16 x 1024 x 25 x 25 \n",
      "Conv2d                                    262144     False     \n",
      "BatchNorm2d                               2048       True      \n",
      "ReLU                                                           \n",
      "____________________________________________________________________________\n",
      "                     16 x 256 x 25 x 25  \n",
      "Conv2d                                    262144     False     \n",
      "BatchNorm2d                               512        True      \n",
      "ReLU                                                           \n",
      "Conv2d                                    589824     False     \n",
      "BatchNorm2d                               512        True      \n",
      "Identity                                                       \n",
      "ReLU                                                           \n",
      "Identity                                                       \n",
      "____________________________________________________________________________\n",
      "                     16 x 1024 x 25 x 25 \n",
      "Conv2d                                    262144     False     \n",
      "BatchNorm2d                               2048       True      \n",
      "ReLU                                                           \n",
      "____________________________________________________________________________\n",
      "                     16 x 256 x 25 x 25  \n",
      "Conv2d                                    262144     False     \n",
      "BatchNorm2d                               512        True      \n",
      "ReLU                                                           \n",
      "Conv2d                                    589824     False     \n",
      "BatchNorm2d                               512        True      \n",
      "Identity                                                       \n",
      "ReLU                                                           \n",
      "Identity                                                       \n",
      "____________________________________________________________________________\n",
      "                     16 x 1024 x 25 x 25 \n",
      "Conv2d                                    262144     False     \n",
      "BatchNorm2d                               2048       True      \n",
      "ReLU                                                           \n",
      "____________________________________________________________________________\n",
      "                     16 x 512 x 25 x 25  \n",
      "Conv2d                                    524288     False     \n",
      "BatchNorm2d                               1024       True      \n",
      "ReLU                                                           \n",
      "____________________________________________________________________________\n",
      "                     16 x 512 x 13 x 13  \n",
      "Conv2d                                    2359296    False     \n",
      "BatchNorm2d                               1024       True      \n",
      "Identity                                                       \n",
      "ReLU                                                           \n",
      "Identity                                                       \n",
      "____________________________________________________________________________\n",
      "                     16 x 2048 x 13 x 13 \n",
      "Conv2d                                    1048576    False     \n",
      "BatchNorm2d                               4096       True      \n",
      "ReLU                                                           \n",
      "Conv2d                                    2097152    False     \n",
      "BatchNorm2d                               4096       True      \n",
      "____________________________________________________________________________\n",
      "                     16 x 512 x 13 x 13  \n",
      "Conv2d                                    1048576    False     \n",
      "BatchNorm2d                               1024       True      \n",
      "ReLU                                                           \n",
      "Conv2d                                    2359296    False     \n",
      "BatchNorm2d                               1024       True      \n",
      "Identity                                                       \n",
      "ReLU                                                           \n",
      "Identity                                                       \n",
      "____________________________________________________________________________\n",
      "                     16 x 2048 x 13 x 13 \n",
      "Conv2d                                    1048576    False     \n",
      "BatchNorm2d                               4096       True      \n",
      "ReLU                                                           \n",
      "____________________________________________________________________________\n",
      "                     16 x 512 x 13 x 13  \n",
      "Conv2d                                    1048576    False     \n",
      "BatchNorm2d                               1024       True      \n",
      "ReLU                                                           \n",
      "Conv2d                                    2359296    False     \n",
      "BatchNorm2d                               1024       True      \n",
      "Identity                                                       \n",
      "ReLU                                                           \n",
      "Identity                                                       \n",
      "____________________________________________________________________________\n",
      "                     16 x 2048 x 13 x 13 \n",
      "Conv2d                                    1048576    False     \n",
      "BatchNorm2d                               4096       True      \n",
      "ReLU                                                           \n",
      "____________________________________________________________________________\n",
      "                     16 x 2048 x 1 x 1   \n",
      "AdaptiveAvgPool2d                                              \n",
      "AdaptiveMaxPool2d                                              \n",
      "____________________________________________________________________________\n",
      "                     16 x 4096           \n",
      "Flatten                                                        \n",
      "BatchNorm1d                               8192       True      \n",
      "Dropout                                                        \n",
      "____________________________________________________________________________\n",
      "                     16 x 512            \n",
      "Linear                                    2097152    True      \n",
      "ReLU                                                           \n",
      "BatchNorm1d                               1024       True      \n",
      "Dropout                                                        \n",
      "____________________________________________________________________________\n",
      "                     16 x 2              \n",
      "Linear                                    1024       True      \n",
      "____________________________________________________________________________\n",
      "\n",
      "Total params: 25,615,424\n",
      "Total trainable params: 2,160,512\n",
      "Total non-trainable params: 23,454,912\n",
      "\n",
      "Optimizer used: <function Adam at 0x7f73ac67b1a0>\n",
      "Loss function: FlattenedLoss of CrossEntropyLoss()\n",
      "\n",
      "Model frozen up to parameter group #1\n",
      "\n",
      "Callbacks:\n",
      "  - TrainEvalCallback\n",
      "  - CastToTensor\n",
      "  - Recorder\n",
      "  - ProgressCallback\n"
     ]
    }
   ],
   "source": [
    "resnet50 = vision_learner(trainSet, 'resnet50', loss_func=LOSS_FUNC, metrics=METRICS,\n",
    "                          pretrained=True)\n",
    "print(resnet50.summary())"
   ]
  },
  {
   "cell_type": "code",
   "execution_count": 40,
   "id": "9c33d939a49148a1",
   "metadata": {
    "ExecuteTime": {
     "end_time": "2024-05-08T20:31:07.380250Z",
     "start_time": "2024-05-08T20:30:51.250228Z"
    }
   },
   "outputs": [
    {
     "data": {
      "text/html": [
       "\n",
       "<style>\n",
       "    /* Turns off some styling */\n",
       "    progress {\n",
       "        /* gets rid of default border in Firefox and Opera. */\n",
       "        border: none;\n",
       "        /* Needs to be in here for Safari polyfill so background images work as expected. */\n",
       "        background-size: auto;\n",
       "    }\n",
       "    progress:not([value]), progress:not([value])::-webkit-progress-bar {\n",
       "        background: repeating-linear-gradient(45deg, #7e7e7e, #7e7e7e 10px, #5c5c5c 10px, #5c5c5c 20px);\n",
       "    }\n",
       "    .progress-bar-interrupted, .progress-bar-interrupted::-webkit-progress-bar {\n",
       "        background: #F44336;\n",
       "    }\n",
       "</style>\n"
      ],
      "text/plain": [
       "<IPython.core.display.HTML object>"
      ]
     },
     "metadata": {},
     "output_type": "display_data"
    },
    {
     "data": {
      "text/html": [],
      "text/plain": [
       "<IPython.core.display.HTML object>"
      ]
     },
     "metadata": {},
     "output_type": "display_data"
    },
    {
     "data": {
      "image/png": "[encoded data removed]",
      "text/plain": [
       "<Figure size 640x480 with 1 Axes>"
      ]
     },
     "metadata": {},
     "output_type": "display_data"
    }
   ],
   "source": [
    "lrs = resnet50.lr_find(suggest_funcs=(minimum, steep, valley, slide))"
   ]
  },
  {
   "cell_type": "code",
   "execution_count": 41,
   "id": "3f0d840afb837f5c",
   "metadata": {
    "ExecuteTime": {
     "end_time": "2024-05-08T20:31:07.383119Z",
     "start_time": "2024-05-08T20:31:07.380997Z"
    }
   },
   "outputs": [
    {
     "name": "stdout",
     "output_type": "stream",
     "text": [
      "['Benign', 'Malignant']\n"
     ]
    }
   ],
   "source": [
    "print(trainSet.vocab)"
   ]
  },
  {
   "cell_type": "code",
   "execution_count": 42,
   "id": "a576da9a3dc3acfb",
   "metadata": {
    "ExecuteTime": {
     "end_time": "2024-05-08T20:37:51.424514Z",
     "start_time": "2024-05-08T20:31:07.383910Z"
    }
   },
   "outputs": [
    {
     "data": {
      "text/html": [
       "\n",
       "<style>\n",
       "    /* Turns off some styling */\n",
       "    progress {\n",
       "        /* gets rid of default border in Firefox and Opera. */\n",
       "        border: none;\n",
       "        /* Needs to be in here for Safari polyfill so background images work as expected. */\n",
       "        background-size: auto;\n",
       "    }\n",
       "    progress:not([value]), progress:not([value])::-webkit-progress-bar {\n",
       "        background: repeating-linear-gradient(45deg, #7e7e7e, #7e7e7e 10px, #5c5c5c 10px, #5c5c5c 20px);\n",
       "    }\n",
       "    .progress-bar-interrupted, .progress-bar-interrupted::-webkit-progress-bar {\n",
       "        background: #F44336;\n",
       "    }\n",
       "</style>\n"
      ],
      "text/plain": [
       "<IPython.core.display.HTML object>"
      ]
     },
     "metadata": {},
     "output_type": "display_data"
    },
    {
     "data": {
      "text/html": [
       "<table border=\"1\" class=\"dataframe\">\n",
       "  <thead>\n",
       "    <tr style=\"text-align: left;\">\n",
       "      <th>epoch</th>\n",
       "      <th>train_loss</th>\n",
       "      <th>valid_loss</th>\n",
       "      <th>accuracy</th>\n",
       "      <th>balanced_accuracy_score</th>\n",
       "      <th>error_rate</th>\n",
       "      <th>recall_score</th>\n",
       "      <th>precision_score</th>\n",
       "      <th>time</th>\n",
       "    </tr>\n",
       "  </thead>\n",
       "  <tbody>\n",
       "    <tr>\n",
       "      <td>0</td>\n",
       "      <td>0.478788</td>\n",
       "      <td>0.445818</td>\n",
       "      <td>0.798500</td>\n",
       "      <td>0.575220</td>\n",
       "      <td>0.201500</td>\n",
       "      <td>0.181710</td>\n",
       "      <td>0.615942</td>\n",
       "      <td>06:53</td>\n",
       "    </tr>\n",
       "  </tbody>\n",
       "</table>"
      ],
      "text/plain": [
       "<IPython.core.display.HTML object>"
      ]
     },
     "metadata": {},
     "output_type": "display_data"
    },
    {
     "name": "stdout",
     "output_type": "stream",
     "text": [
      "Better model found at epoch 0 with valid_loss value: 0.44581764936447144.\n"
     ]
    },
    {
     "data": {
      "text/html": [
       "\n",
       "<style>\n",
       "    /* Turns off some styling */\n",
       "    progress {\n",
       "        /* gets rid of default border in Firefox and Opera. */\n",
       "        border: none;\n",
       "        /* Needs to be in here for Safari polyfill so background images work as expected. */\n",
       "        background-size: auto;\n",
       "    }\n",
       "    progress:not([value]), progress:not([value])::-webkit-progress-bar {\n",
       "        background: repeating-linear-gradient(45deg, #7e7e7e, #7e7e7e 10px, #5c5c5c 10px, #5c5c5c 20px);\n",
       "    }\n",
       "    .progress-bar-interrupted, .progress-bar-interrupted::-webkit-progress-bar {\n",
       "        background: #F44336;\n",
       "    }\n",
       "</style>\n"
      ],
      "text/plain": [
       "<IPython.core.display.HTML object>"
      ]
     },
     "metadata": {},
     "output_type": "display_data"
    },
    {
     "data": {
      "text/html": [
       "<table border=\"1\" class=\"dataframe\">\n",
       "  <thead>\n",
       "    <tr style=\"text-align: left;\">\n",
       "      <th>epoch</th>\n",
       "      <th>train_loss</th>\n",
       "      <th>valid_loss</th>\n",
       "      <th>accuracy</th>\n",
       "      <th>balanced_accuracy_score</th>\n",
       "      <th>error_rate</th>\n",
       "      <th>recall_score</th>\n",
       "      <th>precision_score</th>\n",
       "      <th>time</th>\n",
       "    </tr>\n",
       "  </thead>\n",
       "  <tbody>\n",
       "    <tr>\n",
       "      <td>0</td>\n",
       "      <td>0.412533</td>\n",
       "      <td>0.380668</td>\n",
       "      <td>0.827425</td>\n",
       "      <td>0.653263</td>\n",
       "      <td>0.172575</td>\n",
       "      <td>0.346318</td>\n",
       "      <td>0.706053</td>\n",
       "      <td>08:45</td>\n",
       "    </tr>\n",
       "    <tr>\n",
       "      <td>1</td>\n",
       "      <td>0.373019</td>\n",
       "      <td>0.378933</td>\n",
       "      <td>0.827014</td>\n",
       "      <td>0.640017</td>\n",
       "      <td>0.172986</td>\n",
       "      <td>0.310451</td>\n",
       "      <td>0.738001</td>\n",
       "      <td>08:41</td>\n",
       "    </tr>\n",
       "    <tr>\n",
       "      <td>2</td>\n",
       "      <td>0.398761</td>\n",
       "      <td>0.365668</td>\n",
       "      <td>0.834053</td>\n",
       "      <td>0.682513</td>\n",
       "      <td>0.165947</td>\n",
       "      <td>0.415439</td>\n",
       "      <td>0.694599</td>\n",
       "      <td>08:32</td>\n",
       "    </tr>\n",
       "    <tr>\n",
       "      <td>3</td>\n",
       "      <td>0.356074</td>\n",
       "      <td>0.365302</td>\n",
       "      <td>0.834720</td>\n",
       "      <td>0.675630</td>\n",
       "      <td>0.165279</td>\n",
       "      <td>0.395249</td>\n",
       "      <td>0.712634</td>\n",
       "      <td>08:34</td>\n",
       "    </tr>\n",
       "    <tr>\n",
       "      <td>4</td>\n",
       "      <td>0.357760</td>\n",
       "      <td>0.365624</td>\n",
       "      <td>0.834926</td>\n",
       "      <td>0.656329</td>\n",
       "      <td>0.165074</td>\n",
       "      <td>0.341568</td>\n",
       "      <td>0.765301</td>\n",
       "      <td>08:40</td>\n",
       "    </tr>\n",
       "    <tr>\n",
       "      <td>5</td>\n",
       "      <td>0.370220</td>\n",
       "      <td>0.352662</td>\n",
       "      <td>0.841091</td>\n",
       "      <td>0.713574</td>\n",
       "      <td>0.158909</td>\n",
       "      <td>0.488836</td>\n",
       "      <td>0.686229</td>\n",
       "      <td>07:50</td>\n",
       "    </tr>\n",
       "    <tr>\n",
       "      <td>6</td>\n",
       "      <td>0.369169</td>\n",
       "      <td>0.359601</td>\n",
       "      <td>0.841399</td>\n",
       "      <td>0.714114</td>\n",
       "      <td>0.158600</td>\n",
       "      <td>0.489786</td>\n",
       "      <td>0.687104</td>\n",
       "      <td>08:56</td>\n",
       "    </tr>\n",
       "    <tr>\n",
       "      <td>7</td>\n",
       "      <td>0.377817</td>\n",
       "      <td>0.359447</td>\n",
       "      <td>0.844739</td>\n",
       "      <td>0.699907</td>\n",
       "      <td>0.155261</td>\n",
       "      <td>0.444656</td>\n",
       "      <td>0.732394</td>\n",
       "      <td>09:21</td>\n",
       "    </tr>\n",
       "    <tr>\n",
       "      <td>8</td>\n",
       "      <td>0.354759</td>\n",
       "      <td>0.348329</td>\n",
       "      <td>0.847976</td>\n",
       "      <td>0.714956</td>\n",
       "      <td>0.152024</td>\n",
       "      <td>0.480523</td>\n",
       "      <td>0.723792</td>\n",
       "      <td>09:20</td>\n",
       "    </tr>\n",
       "    <tr>\n",
       "      <td>9</td>\n",
       "      <td>0.353970</td>\n",
       "      <td>0.337252</td>\n",
       "      <td>0.849363</td>\n",
       "      <td>0.716185</td>\n",
       "      <td>0.150637</td>\n",
       "      <td>0.481473</td>\n",
       "      <td>0.730187</td>\n",
       "      <td>09:24</td>\n",
       "    </tr>\n",
       "    <tr>\n",
       "      <td>10</td>\n",
       "      <td>0.343975</td>\n",
       "      <td>0.343938</td>\n",
       "      <td>0.849517</td>\n",
       "      <td>0.691434</td>\n",
       "      <td>0.150483</td>\n",
       "      <td>0.412827</td>\n",
       "      <td>0.791800</td>\n",
       "      <td>09:24</td>\n",
       "    </tr>\n",
       "    <tr>\n",
       "      <td>11</td>\n",
       "      <td>0.342771</td>\n",
       "      <td>0.337909</td>\n",
       "      <td>0.850185</td>\n",
       "      <td>0.696159</td>\n",
       "      <td>0.149815</td>\n",
       "      <td>0.424703</td>\n",
       "      <td>0.783523</td>\n",
       "      <td>09:23</td>\n",
       "    </tr>\n",
       "    <tr>\n",
       "      <td>12</td>\n",
       "      <td>0.340118</td>\n",
       "      <td>0.336044</td>\n",
       "      <td>0.853268</td>\n",
       "      <td>0.711282</td>\n",
       "      <td>0.146732</td>\n",
       "      <td>0.461045</td>\n",
       "      <td>0.767801</td>\n",
       "      <td>09:24</td>\n",
       "    </tr>\n",
       "    <tr>\n",
       "      <td>13</td>\n",
       "      <td>0.332889</td>\n",
       "      <td>0.328016</td>\n",
       "      <td>0.856042</td>\n",
       "      <td>0.721822</td>\n",
       "      <td>0.143958</td>\n",
       "      <td>0.485273</td>\n",
       "      <td>0.762883</td>\n",
       "      <td>09:23</td>\n",
       "    </tr>\n",
       "    <tr>\n",
       "      <td>14</td>\n",
       "      <td>0.327873</td>\n",
       "      <td>0.331991</td>\n",
       "      <td>0.854655</td>\n",
       "      <td>0.716638</td>\n",
       "      <td>0.145345</td>\n",
       "      <td>0.473397</td>\n",
       "      <td>0.765067</td>\n",
       "      <td>09:24</td>\n",
       "    </tr>\n",
       "    <tr>\n",
       "      <td>15</td>\n",
       "      <td>0.340078</td>\n",
       "      <td>0.327742</td>\n",
       "      <td>0.854449</td>\n",
       "      <td>0.778073</td>\n",
       "      <td>0.145551</td>\n",
       "      <td>0.643468</td>\n",
       "      <td>0.670379</td>\n",
       "      <td>09:02</td>\n",
       "    </tr>\n",
       "    <tr>\n",
       "      <td>16</td>\n",
       "      <td>0.333254</td>\n",
       "      <td>0.328850</td>\n",
       "      <td>0.859998</td>\n",
       "      <td>0.733461</td>\n",
       "      <td>0.140002</td>\n",
       "      <td>0.510451</td>\n",
       "      <td>0.763953</td>\n",
       "      <td>08:45</td>\n",
       "    </tr>\n",
       "    <tr>\n",
       "      <td>17</td>\n",
       "      <td>0.301677</td>\n",
       "      <td>0.331421</td>\n",
       "      <td>0.858765</td>\n",
       "      <td>0.727343</td>\n",
       "      <td>0.141235</td>\n",
       "      <td>0.495724</td>\n",
       "      <td>0.769259</td>\n",
       "      <td>08:42</td>\n",
       "    </tr>\n",
       "    <tr>\n",
       "      <td>18</td>\n",
       "      <td>0.283858</td>\n",
       "      <td>0.329788</td>\n",
       "      <td>0.863389</td>\n",
       "      <td>0.741643</td>\n",
       "      <td>0.136611</td>\n",
       "      <td>0.527078</td>\n",
       "      <td>0.768618</td>\n",
       "      <td>08:59</td>\n",
       "    </tr>\n",
       "  </tbody>\n",
       "</table>"
      ],
      "text/plain": [
       "<IPython.core.display.HTML object>"
      ]
     },
     "metadata": {},
     "output_type": "display_data"
    },
    {
     "name": "stdout",
     "output_type": "stream",
     "text": [
      "Better model found at epoch 0 with valid_loss value: 0.38066762685775757.\n",
      "Better model found at epoch 1 with valid_loss value: 0.37893256545066833.\n",
      "Better model found at epoch 2 with valid_loss value: 0.3656682074069977.\n",
      "Better model found at epoch 3 with valid_loss value: 0.36530229449272156.\n",
      "Better model found at epoch 5 with valid_loss value: 0.3526623547077179.\n",
      "Better model found at epoch 8 with valid_loss value: 0.3483293652534485.\n",
      "Better model found at epoch 9 with valid_loss value: 0.3372517228126526.\n",
      "Better model found at epoch 12 with valid_loss value: 0.3360438048839569.\n",
      "Better model found at epoch 13 with valid_loss value: 0.32801568508148193.\n",
      "Better model found at epoch 15 with valid_loss value: 0.32774215936660767.\n",
      "No improvement since epoch 15: early stopping\n"
     ]
    }
   ],
   "source": [
    "early_stopping = EarlyStoppingCallback(monitor='valid_loss', patience=EARLY_STOP_PATIENCE)\n",
    "save_callback = SaveModelCallback(monitor='valid_loss', fname='best_model')\n",
    "\n",
    "resnet50.fine_tune(NUM_EPOCHS, lrs[2],\n",
    "                   cbs=[early_stopping, save_callback])\n"
   ]
  },
  {
   "cell_type": "code",
   "execution_count": 43,
   "id": "26325ba99c1abbca",
   "metadata": {
    "ExecuteTime": {
     "end_time": "2024-05-08T20:37:51.961079Z",
     "start_time": "2024-05-08T20:37:51.425355Z"
    }
   },
   "outputs": [
    {
     "data": {
      "text/html": [
       "\n",
       "<style>\n",
       "    /* Turns off some styling */\n",
       "    progress {\n",
       "        /* gets rid of default border in Firefox and Opera. */\n",
       "        border: none;\n",
       "        /* Needs to be in here for Safari polyfill so background images work as expected. */\n",
       "        background-size: auto;\n",
       "    }\n",
       "    progress:not([value]), progress:not([value])::-webkit-progress-bar {\n",
       "        background: repeating-linear-gradient(45deg, #7e7e7e, #7e7e7e 10px, #5c5c5c 10px, #5c5c5c 20px);\n",
       "    }\n",
       "    .progress-bar-interrupted, .progress-bar-interrupted::-webkit-progress-bar {\n",
       "        background: #F44336;\n",
       "    }\n",
       "</style>\n"
      ],
      "text/plain": [
       "<IPython.core.display.HTML object>"
      ]
     },
     "metadata": {},
     "output_type": "display_data"
    },
    {
     "data": {
      "text/html": [],
      "text/plain": [
       "<IPython.core.display.HTML object>"
      ]
     },
     "metadata": {},
     "output_type": "display_data"
    },
    {
     "data": {
      "text/plain": [
       "Sequential (Input shape: 16 x 3 x 386 x 386)\n",
       "============================================================================\n",
       "Layer (type)         Output Shape         Param #    Trainable \n",
       "============================================================================\n",
       "                     16 x 64 x 193 x 193 \n",
       "Conv2d                                    9408       True      \n",
       "BatchNorm2d                               128        True      \n",
       "ReLU                                                           \n",
       "____________________________________________________________________________\n",
       "                     16 x 64 x 97 x 97   \n",
       "MaxPool2d                                                      \n",
       "Conv2d                                    4096       True      \n",
       "BatchNorm2d                               128        True      \n",
       "ReLU                                                           \n",
       "Conv2d                                    36864      True      \n",
       "BatchNorm2d                               128        True      \n",
       "Identity                                                       \n",
       "ReLU                                                           \n",
       "Identity                                                       \n",
       "____________________________________________________________________________\n",
       "                     16 x 256 x 97 x 97  \n",
       "Conv2d                                    16384      True      \n",
       "BatchNorm2d                               512        True      \n",
       "ReLU                                                           \n",
       "Conv2d                                    16384      True      \n",
       "BatchNorm2d                               512        True      \n",
       "____________________________________________________________________________\n",
       "                     16 x 64 x 97 x 97   \n",
       "Conv2d                                    16384      True      \n",
       "BatchNorm2d                               128        True      \n",
       "ReLU                                                           \n",
       "Conv2d                                    36864      True      \n",
       "BatchNorm2d                               128        True      \n",
       "Identity                                                       \n",
       "ReLU                                                           \n",
       "Identity                                                       \n",
       "____________________________________________________________________________\n",
       "                     16 x 256 x 97 x 97  \n",
       "Conv2d                                    16384      True      \n",
       "BatchNorm2d                               512        True      \n",
       "ReLU                                                           \n",
       "____________________________________________________________________________\n",
       "                     16 x 64 x 97 x 97   \n",
       "Conv2d                                    16384      True      \n",
       "BatchNorm2d                               128        True      \n",
       "ReLU                                                           \n",
       "Conv2d                                    36864      True      \n",
       "BatchNorm2d                               128        True      \n",
       "Identity                                                       \n",
       "ReLU                                                           \n",
       "Identity                                                       \n",
       "____________________________________________________________________________\n",
       "                     16 x 256 x 97 x 97  \n",
       "Conv2d                                    16384      True      \n",
       "BatchNorm2d                               512        True      \n",
       "ReLU                                                           \n",
       "____________________________________________________________________________\n",
       "                     16 x 128 x 97 x 97  \n",
       "Conv2d                                    32768      True      \n",
       "BatchNorm2d                               256        True      \n",
       "ReLU                                                           \n",
       "____________________________________________________________________________\n",
       "                     16 x 128 x 49 x 49  \n",
       "Conv2d                                    147456     True      \n",
       "BatchNorm2d                               256        True      \n",
       "Identity                                                       \n",
       "ReLU                                                           \n",
       "Identity                                                       \n",
       "____________________________________________________________________________\n",
       "                     16 x 512 x 49 x 49  \n",
       "Conv2d                                    65536      True      \n",
       "BatchNorm2d                               1024       True      \n",
       "ReLU                                                           \n",
       "Conv2d                                    131072     True      \n",
       "BatchNorm2d                               1024       True      \n",
       "____________________________________________________________________________\n",
       "                     16 x 128 x 49 x 49  \n",
       "Conv2d                                    65536      True      \n",
       "BatchNorm2d                               256        True      \n",
       "ReLU                                                           \n",
       "Conv2d                                    147456     True      \n",
       "BatchNorm2d                               256        True      \n",
       "Identity                                                       \n",
       "ReLU                                                           \n",
       "Identity                                                       \n",
       "____________________________________________________________________________\n",
       "                     16 x 512 x 49 x 49  \n",
       "Conv2d                                    65536      True      \n",
       "BatchNorm2d                               1024       True      \n",
       "ReLU                                                           \n",
       "____________________________________________________________________________\n",
       "                     16 x 128 x 49 x 49  \n",
       "Conv2d                                    65536      True      \n",
       "BatchNorm2d                               256        True      \n",
       "ReLU                                                           \n",
       "Conv2d                                    147456     True      \n",
       "BatchNorm2d                               256        True      \n",
       "Identity                                                       \n",
       "ReLU                                                           \n",
       "Identity                                                       \n",
       "____________________________________________________________________________\n",
       "                     16 x 512 x 49 x 49  \n",
       "Conv2d                                    65536      True      \n",
       "BatchNorm2d                               1024       True      \n",
       "ReLU                                                           \n",
       "____________________________________________________________________________\n",
       "                     16 x 128 x 49 x 49  \n",
       "Conv2d                                    65536      True      \n",
       "BatchNorm2d                               256        True      \n",
       "ReLU                                                           \n",
       "Conv2d                                    147456     True      \n",
       "BatchNorm2d                               256        True      \n",
       "Identity                                                       \n",
       "ReLU                                                           \n",
       "Identity                                                       \n",
       "____________________________________________________________________________\n",
       "                     16 x 512 x 49 x 49  \n",
       "Conv2d                                    65536      True      \n",
       "BatchNorm2d                               1024       True      \n",
       "ReLU                                                           \n",
       "____________________________________________________________________________\n",
       "                     16 x 256 x 49 x 49  \n",
       "Conv2d                                    131072     True      \n",
       "BatchNorm2d                               512        True      \n",
       "ReLU                                                           \n",
       "____________________________________________________________________________\n",
       "                     16 x 256 x 25 x 25  \n",
       "Conv2d                                    589824     True      \n",
       "BatchNorm2d                               512        True      \n",
       "Identity                                                       \n",
       "ReLU                                                           \n",
       "Identity                                                       \n",
       "____________________________________________________________________________\n",
       "                     16 x 1024 x 25 x 25 \n",
       "Conv2d                                    262144     True      \n",
       "BatchNorm2d                               2048       True      \n",
       "ReLU                                                           \n",
       "Conv2d                                    524288     True      \n",
       "BatchNorm2d                               2048       True      \n",
       "____________________________________________________________________________\n",
       "                     16 x 256 x 25 x 25  \n",
       "Conv2d                                    262144     True      \n",
       "BatchNorm2d                               512        True      \n",
       "ReLU                                                           \n",
       "Conv2d                                    589824     True      \n",
       "BatchNorm2d                               512        True      \n",
       "Identity                                                       \n",
       "ReLU                                                           \n",
       "Identity                                                       \n",
       "____________________________________________________________________________\n",
       "                     16 x 1024 x 25 x 25 \n",
       "Conv2d                                    262144     True      \n",
       "BatchNorm2d                               2048       True      \n",
       "ReLU                                                           \n",
       "____________________________________________________________________________\n",
       "                     16 x 256 x 25 x 25  \n",
       "Conv2d                                    262144     True      \n",
       "BatchNorm2d                               512        True      \n",
       "ReLU                                                           \n",
       "Conv2d                                    589824     True      \n",
       "BatchNorm2d                               512        True      \n",
       "Identity                                                       \n",
       "ReLU                                                           \n",
       "Identity                                                       \n",
       "____________________________________________________________________________\n",
       "                     16 x 1024 x 25 x 25 \n",
       "Conv2d                                    262144     True      \n",
       "BatchNorm2d                               2048       True      \n",
       "ReLU                                                           \n",
       "____________________________________________________________________________\n",
       "                     16 x 256 x 25 x 25  \n",
       "Conv2d                                    262144     True      \n",
       "BatchNorm2d                               512        True      \n",
       "ReLU                                                           \n",
       "Conv2d                                    589824     True      \n",
       "BatchNorm2d                               512        True      \n",
       "Identity                                                       \n",
       "ReLU                                                           \n",
       "Identity                                                       \n",
       "____________________________________________________________________________\n",
       "                     16 x 1024 x 25 x 25 \n",
       "Conv2d                                    262144     True      \n",
       "BatchNorm2d                               2048       True      \n",
       "ReLU                                                           \n",
       "____________________________________________________________________________\n",
       "                     16 x 256 x 25 x 25  \n",
       "Conv2d                                    262144     True      \n",
       "BatchNorm2d                               512        True      \n",
       "ReLU                                                           \n",
       "Conv2d                                    589824     True      \n",
       "BatchNorm2d                               512        True      \n",
       "Identity                                                       \n",
       "ReLU                                                           \n",
       "Identity                                                       \n",
       "____________________________________________________________________________\n",
       "                     16 x 1024 x 25 x 25 \n",
       "Conv2d                                    262144     True      \n",
       "BatchNorm2d                               2048       True      \n",
       "ReLU                                                           \n",
       "____________________________________________________________________________\n",
       "                     16 x 256 x 25 x 25  \n",
       "Conv2d                                    262144     True      \n",
       "BatchNorm2d                               512        True      \n",
       "ReLU                                                           \n",
       "Conv2d                                    589824     True      \n",
       "BatchNorm2d                               512        True      \n",
       "Identity                                                       \n",
       "ReLU                                                           \n",
       "Identity                                                       \n",
       "____________________________________________________________________________\n",
       "                     16 x 1024 x 25 x 25 \n",
       "Conv2d                                    262144     True      \n",
       "BatchNorm2d                               2048       True      \n",
       "ReLU                                                           \n",
       "____________________________________________________________________________\n",
       "                     16 x 512 x 25 x 25  \n",
       "Conv2d                                    524288     True      \n",
       "BatchNorm2d                               1024       True      \n",
       "ReLU                                                           \n",
       "____________________________________________________________________________\n",
       "                     16 x 512 x 13 x 13  \n",
       "Conv2d                                    2359296    True      \n",
       "BatchNorm2d                               1024       True      \n",
       "Identity                                                       \n",
       "ReLU                                                           \n",
       "Identity                                                       \n",
       "____________________________________________________________________________\n",
       "                     16 x 2048 x 13 x 13 \n",
       "Conv2d                                    1048576    True      \n",
       "BatchNorm2d                               4096       True      \n",
       "ReLU                                                           \n",
       "Conv2d                                    2097152    True      \n",
       "BatchNorm2d                               4096       True      \n",
       "____________________________________________________________________________\n",
       "                     16 x 512 x 13 x 13  \n",
       "Conv2d                                    1048576    True      \n",
       "BatchNorm2d                               1024       True      \n",
       "ReLU                                                           \n",
       "Conv2d                                    2359296    True      \n",
       "BatchNorm2d                               1024       True      \n",
       "Identity                                                       \n",
       "ReLU                                                           \n",
       "Identity                                                       \n",
       "____________________________________________________________________________\n",
       "                     16 x 2048 x 13 x 13 \n",
       "Conv2d                                    1048576    True      \n",
       "BatchNorm2d                               4096       True      \n",
       "ReLU                                                           \n",
       "____________________________________________________________________________\n",
       "                     16 x 512 x 13 x 13  \n",
       "Conv2d                                    1048576    True      \n",
       "BatchNorm2d                               1024       True      \n",
       "ReLU                                                           \n",
       "Conv2d                                    2359296    True      \n",
       "BatchNorm2d                               1024       True      \n",
       "Identity                                                       \n",
       "ReLU                                                           \n",
       "Identity                                                       \n",
       "____________________________________________________________________________\n",
       "                     16 x 2048 x 13 x 13 \n",
       "Conv2d                                    1048576    True      \n",
       "BatchNorm2d                               4096       True      \n",
       "ReLU                                                           \n",
       "____________________________________________________________________________\n",
       "                     16 x 2048 x 1 x 1   \n",
       "AdaptiveAvgPool2d                                              \n",
       "AdaptiveMaxPool2d                                              \n",
       "____________________________________________________________________________\n",
       "                     16 x 4096           \n",
       "Flatten                                                        \n",
       "BatchNorm1d                               8192       True      \n",
       "Dropout                                                        \n",
       "____________________________________________________________________________\n",
       "                     16 x 512            \n",
       "Linear                                    2097152    True      \n",
       "ReLU                                                           \n",
       "BatchNorm1d                               1024       True      \n",
       "Dropout                                                        \n",
       "____________________________________________________________________________\n",
       "                     16 x 2              \n",
       "Linear                                    1024       True      \n",
       "____________________________________________________________________________\n",
       "\n",
       "Total params: 25,615,424\n",
       "Total trainable params: 25,615,424\n",
       "Total non-trainable params: 0\n",
       "\n",
       "Optimizer used: <function Adam at 0x7f73ac67b1a0>\n",
       "Loss function: FlattenedLoss of CrossEntropyLoss()\n",
       "\n",
       "Model unfrozen\n",
       "\n",
       "Callbacks:\n",
       "  - TrainEvalCallback\n",
       "  - CastToTensor\n",
       "  - Recorder\n",
       "  - ProgressCallback"
      ]
     },
     "execution_count": 43,
     "metadata": {},
     "output_type": "execute_result"
    }
   ],
   "source": [
    "resnet50.summary()"
   ]
  },
  {
   "cell_type": "code",
   "execution_count": 44,
   "id": "3993e360a562fb33",
   "metadata": {
    "ExecuteTime": {
     "end_time": "2024-05-08T20:39:04.994693Z",
     "start_time": "2024-05-08T20:37:51.961646Z"
    }
   },
   "outputs": [
    {
     "data": {
      "text/html": [
       "\n",
       "<style>\n",
       "    /* Turns off some styling */\n",
       "    progress {\n",
       "        /* gets rid of default border in Firefox and Opera. */\n",
       "        border: none;\n",
       "        /* Needs to be in here for Safari polyfill so background images work as expected. */\n",
       "        background-size: auto;\n",
       "    }\n",
       "    progress:not([value]), progress:not([value])::-webkit-progress-bar {\n",
       "        background: repeating-linear-gradient(45deg, #7e7e7e, #7e7e7e 10px, #5c5c5c 10px, #5c5c5c 20px);\n",
       "    }\n",
       "    .progress-bar-interrupted, .progress-bar-interrupted::-webkit-progress-bar {\n",
       "        background: #F44336;\n",
       "    }\n",
       "</style>\n"
      ],
      "text/plain": [
       "<IPython.core.display.HTML object>"
      ]
     },
     "metadata": {},
     "output_type": "display_data"
    },
    {
     "data": {
      "text/html": [],
      "text/plain": [
       "<IPython.core.display.HTML object>"
      ]
     },
     "metadata": {},
     "output_type": "display_data"
    }
   ],
   "source": [
    "state = torch.load('models/best_model.pth')\n",
    "preds, targets = resnet50.get_preds(ds_idx=1)  # ds_idx=1 para el conjunto de validación\n"
   ]
  },
  {
   "cell_type": "code",
   "execution_count": 45,
   "id": "12d860ad53550a3c",
   "metadata": {
    "ExecuteTime": {
     "end_time": "2024-05-08T20:39:04.997050Z",
     "start_time": "2024-05-08T20:39:04.995337Z"
    }
   },
   "outputs": [],
   "source": [
    "y_true = targets.numpy()\n",
    "y_pred = preds.argmax(dim=1).numpy()  # Convierte las probabilidades en etiquetas predichas"
   ]
  },
  {
   "cell_type": "code",
   "execution_count": 46,
   "id": "9f23721f92bcec5",
   "metadata": {
    "ExecuteTime": {
     "end_time": "2024-05-08T20:39:05.011466Z",
     "start_time": "2024-05-08T20:39:04.997471Z"
    }
   },
   "outputs": [
    {
     "name": "stdout",
     "output_type": "stream",
     "text": [
      "              precision    recall  f1-score   support\n",
      "\n",
      "      Benign       0.90      0.91      0.91     15254\n",
      "   Malignant       0.67      0.64      0.66      4210\n",
      "\n",
      "    accuracy                           0.85     19464\n",
      "   macro avg       0.79      0.78      0.78     19464\n",
      "weighted avg       0.85      0.85      0.85     19464\n",
      "\n"
     ]
    }
   ],
   "source": [
    "print(classification_report(y_true, y_pred, target_names=trainSet.vocab))"
   ]
  },
  {
   "cell_type": "code",
   "execution_count": 47,
   "id": "490263e851669d00",
   "metadata": {
    "ExecuteTime": {
     "end_time": "2024-05-08T20:39:05.431107Z",
     "start_time": "2024-05-08T20:39:05.011876Z"
    }
   },
   "outputs": [],
   "source": [
    "torch.save(resnet50, 'modeloentero.pth')"
   ]
  },
  {
   "cell_type": "markdown",
   "id": "f072ebea0ebebfec",
   "metadata": {},
   "source": [
    "## ONNX\n",
    "\n",
    "Convertimos al formato estándar"
   ]
  },
  {
   "cell_type": "code",
   "execution_count": 48,
   "id": "eb8628420ccf5f20",
   "metadata": {
    "ExecuteTime": {
     "end_time": "2024-05-08T20:39:05.729446Z",
     "start_time": "2024-05-08T20:39:05.431931Z"
    }
   },
   "outputs": [
    {
     "data": {
      "text/plain": [
       "Path('.')"
      ]
     },
     "execution_count": 48,
     "metadata": {},
     "output_type": "execute_result"
    }
   ],
   "source": [
    "resnet50.export()\n",
    "resnet50.path"
   ]
  },
  {
   "cell_type": "code",
   "execution_count": null,
   "id": "1dbfdf7ff8b11fb9",
   "metadata": {
    "ExecuteTime": {
     "end_time": "2024-05-08T20:39:05.731535Z",
     "start_time": "2024-05-08T20:39:05.730044Z"
    }
   },
   "outputs": [],
   "source": []
  },
  {
   "cell_type": "code",
   "execution_count": 49,
   "id": "b9da3b35dfea8512",
   "metadata": {
    "ExecuteTime": {
     "end_time": "2024-05-08T20:39:06.135775Z",
     "start_time": "2024-05-08T20:39:05.731973Z"
    }
   },
   "outputs": [],
   "source": [
    "testmodel = torch.load('export.pkl')\n",
    "model_dict = testmodel.state_dict()\n",
    "torch.save(model_dict, 'miModelo.pth')"
   ]
  },
  {
   "cell_type": "code",
   "execution_count": 50,
   "id": "73975674976fe79a",
   "metadata": {
    "ExecuteTime": {
     "end_time": "2024-05-08T20:39:06.617267Z",
     "start_time": "2024-05-08T20:39:06.136417Z"
    }
   },
   "outputs": [
    {
     "data": {
      "text/plain": [
       "<All keys matched successfully>"
      ]
     },
     "execution_count": 50,
     "metadata": {},
     "output_type": "execute_result"
    }
   ],
   "source": [
    "loaded_model = models.resnet50\n",
    "loaded_model = vision_learner(trainSet, 'resnet50', loss_func=LOSS_FUNC,\n",
    "                              metrics=METRICS)  # Crea un modelo vacío con la misma arquitectura\n",
    "loaded_model.load_state_dict(torch.load('miModelo.pth'))"
   ]
  },
  {
   "cell_type": "code",
   "execution_count": 51,
   "id": "626ff000f0058f20",
   "metadata": {
    "ExecuteTime": {
     "end_time": "2024-05-08T20:39:06.619553Z",
     "start_time": "2024-05-08T20:39:06.617743Z"
    }
   },
   "outputs": [
    {
     "data": {
      "text/plain": [
       "fastai.learner.Learner"
      ]
     },
     "execution_count": 51,
     "metadata": {},
     "output_type": "execute_result"
    }
   ],
   "source": [
    "type(loaded_model)"
   ]
  },
  {
   "cell_type": "code",
   "execution_count": 52,
   "id": "38b98b9a8f57b23a",
   "metadata": {
    "ExecuteTime": {
     "end_time": "2024-05-08T20:39:06.622491Z",
     "start_time": "2024-05-08T20:39:06.619974Z"
    }
   },
   "outputs": [],
   "source": [
    "class InferenceWrapper(nn.Module):\n",
    "    def __init__(self, model, normalize_mean, normalize_std, scale_inp=False, channels_last=False):\n",
    "        super().__init__()\n",
    "        self.model = model\n",
    "        self.register_buffer(\"normalize_mean\", normalize_mean)\n",
    "        self.register_buffer(\"normalize_std\", normalize_std)\n",
    "        self.scale_inp = scale_inp\n",
    "        self.channels_last = channels_last\n",
    "        self.softmax = nn.Softmax(dim=1)\n",
    "\n",
    "    def preprocess_input(self, x):\n",
    "        if self.scale_inp:\n",
    "            x = x / 255.0\n",
    "\n",
    "        if self.channels_last:\n",
    "            x = x.permute(0, 3, 1, 2)\n",
    "\n",
    "        x = (x - self.normalize_mean) / self.normalize_std\n",
    "        return x\n",
    "\n",
    "    def forward(self, x):\n",
    "        x = self.preprocess_input(x)\n",
    "        x = self.model(x)\n",
    "        x = self.softmax(x)\n",
    "        return x"
   ]
  },
  {
   "cell_type": "code",
   "execution_count": 53,
   "id": "5bff991f02a48956",
   "metadata": {
    "ExecuteTime": {
     "end_time": "2024-05-08T20:39:06.624857Z",
     "start_time": "2024-05-08T20:39:06.622928Z"
    }
   },
   "outputs": [
    {
     "data": {
      "text/plain": [
       "'mean_tensor = torch.tensor(imagenet_stats[0]).view(1, 3, 1, 1)\\nstd_tensor = torch.tensor(imagenet_stats[1]).view(1, 3, 1, 1)\\n\\n# Set the model to evaluation mode\\nresnet50.eval()\\n\\n# Wrap the model with preprocessing and post-processing steps\\nwrapped_model = InferenceWrapper(model,\\n                                 mean_tensor,\\n                                 std_tensor,\\n                                 scale_inp=False,  # Scale input values from the rang [0,255] to [0,1]\\n                                 channels_last=False,  # Have the model expect input in channels-last format\\n                                 )'"
      ]
     },
     "execution_count": 53,
     "metadata": {},
     "output_type": "execute_result"
    }
   ],
   "source": [
    "# Define the normalization mean and standard deviation\n",
    "\"\"\"mean_tensor = torch.tensor(imagenet_stats[0]).view(1, 3, 1, 1)\n",
    "std_tensor = torch.tensor(imagenet_stats[1]).view(1, 3, 1, 1)\n",
    "\n",
    "# Set the model to evaluation mode\n",
    "resnet50.eval()\n",
    "\n",
    "# Wrap the model with preprocessing and post-processing steps\n",
    "wrapped_model = InferenceWrapper(model,\n",
    "                                 mean_tensor,\n",
    "                                 std_tensor,\n",
    "                                 scale_inp=False,  # Scale input values from the rang [0,255] to [0,1]\n",
    "                                 channels_last=False,  # Have the model expect input in channels-last format\n",
    "                                 )\"\"\""
   ]
  },
  {
   "cell_type": "code",
   "execution_count": 54,
   "id": "c4e6a50a31704f00",
   "metadata": {
    "ExecuteTime": {
     "end_time": "2024-05-08T20:39:06.670114Z",
     "start_time": "2024-05-08T20:39:06.625234Z"
    }
   },
   "outputs": [
    {
     "name": "stderr",
     "output_type": "stream",
     "text": [
      "/home/cristhian/anaconda3/lib/python3.11/site-packages/fastai/learner.py:59: UserWarning: Saved file doesn't contain an optimizer state.\n",
      "  elif with_opt: warn(\"Saved file doesn't contain an optimizer state.\")\n"
     ]
    },
    {
     "data": {
      "text/plain": [
       "<fastai.learner.Learner at 0x7f73122d3a90>"
      ]
     },
     "execution_count": 54,
     "metadata": {},
     "output_type": "execute_result"
    }
   ],
   "source": [
    "resnet50.load('best_model')"
   ]
  },
  {
   "cell_type": "code",
   "execution_count": 55,
   "id": "b6bbcf72eaa95b91",
   "metadata": {
    "ExecuteTime": {
     "end_time": "2024-05-08T20:39:06.672736Z",
     "start_time": "2024-05-08T20:39:06.670548Z"
    }
   },
   "outputs": [],
   "source": [
    "import torch\n",
    "import torchvision\n",
    "import torchvision.transforms as transforms\n",
    "\n",
    "# https://pytorch.org/vision/stable/models.html\n",
    "\n",
    "pytorch_model = resnet50.model.eval()  # gets the PyTorch model\n",
    "softmax_layer = torch.nn.Softmax(dim=1)  # define softmax\n",
    "normalization_layer = torchvision.transforms.Normalize(mean=[0.485, 0.456, 0.406],\n",
    "                                                       std=[0.229, 0.224, 0.225])  # normalization layer\n",
    "\n",
    "# assembling the final model\n",
    "final_model = nn.Sequential(\n",
    "    normalization_layer,\n",
    "    pytorch_model,\n",
    "    softmax_layer\n",
    ")"
   ]
  },
  {
   "cell_type": "code",
   "execution_count": 56,
   "id": "63520064f72fd0db",
   "metadata": {
    "ExecuteTime": {
     "end_time": "2024-05-08T20:39:07.372674Z",
     "start_time": "2024-05-08T20:39:06.673136Z"
    }
   },
   "outputs": [],
   "source": [
    "input = torch.randn(BATCH_SIZE, 3, IMAGE_RESIZE, IMAGE_RESIZE).to('cuda')\n",
    "torch.onnx.export(\n",
    "    final_model,\n",
    "    input,\n",
    "    'modelbase.onnx',\n",
    "    do_constant_folding=True,\n",
    "    export_params=True,\n",
    "    input_names=['input'],\n",
    "    output_names=['output'],\n",
    "    opset_version=17,\n",
    "    dynamic_axes={'input': {0: 'batch_size'},  # variable length axes\n",
    "                  'output': {0: 'batch_size'}}\n",
    ")"
   ]
  },
  {
   "cell_type": "markdown",
   "id": "fed34bda4b8f7446",
   "metadata": {},
   "source": []
  },
  {
   "cell_type": "markdown",
   "id": "bc97cb8c3efa055e",
   "metadata": {},
   "source": [
    "Inferimos en ONNX"
   ]
  },
  {
   "cell_type": "code",
   "execution_count": 57,
   "id": "27f07a6ab9f5a3b9",
   "metadata": {
    "ExecuteTime": {
     "end_time": "2024-05-08T20:39:07.376459Z",
     "start_time": "2024-05-08T20:39:07.374259Z"
    }
   },
   "outputs": [],
   "source": [
    "from PIL import Image\n",
    "\n",
    "\n",
    "def image_transform_onnx(path: str, size: int) -> np.ndarray:\n",
    "    '''Image transform helper for onnx runtime inference.'''\n",
    "\n",
    "    image = Image.open(path)\n",
    "    image = image.resize((size, size))\n",
    "\n",
    "    # now our image is represented by 3 layers - Red, Green, Blue\n",
    "    # each layer has a 224 x 224 values representing\n",
    "    image = np.array(image)\n",
    "\n",
    "    # dummy input for the model at export - torch.randn(1, 3, 224, 224)\n",
    "    image = image.transpose(2, 0, 1).astype(np.float32)\n",
    "\n",
    "    # our image is currently represented by values ranging between 0-255\n",
    "    # we need to convert these values to 0.0-1.0 - those are the values that are expected by our model\n",
    "    image /= 255\n",
    "    image = image[None, ...]\n",
    "    return image"
   ]
  },
  {
   "cell_type": "code",
   "execution_count": 59,
   "id": "ad2b9b5906890bb2",
   "metadata": {
    "ExecuteTime": {
     "end_time": "2024-05-08T20:39:07.568531Z",
     "start_time": "2024-05-08T20:39:07.376879Z"
    }
   },
   "outputs": [
    {
     "name": "stdout",
     "output_type": "stream",
     "text": [
      "Input layer name: input, Output layer name: output, Input Dimension: ['batch_size', 3, 386, 386]\n",
      "It's a Malignant [[0.05531159 0.9446884 ]]\n"
     ]
    }
   ],
   "source": [
    "import numpy as np\n",
    "import onnxruntime as rt\n",
    "\n",
    "labels = ['Benign', 'Malignant']\n",
    "\n",
    "# get image as tensor - 1 x 3 x 256 x 256 dimensions\n",
    "img = image_transform_onnx('trainThumbnails/ISIC_0068761.JPG', 386)\n",
    "\n",
    "# initialize onnx runtime inference session\n",
    "sess = rt.InferenceSession('modelbase.onnx')\n",
    "\n",
    "# input & output names\n",
    "input_name = sess.get_inputs()[0].name\n",
    "output_name = sess.get_outputs()[0].name\n",
    "\n",
    "# input dimensions (important for debugging)\n",
    "input_dims = sess.get_inputs()[0].shape\n",
    "\n",
    "print(f\"Input layer name: {input_name}, Output layer name: {output_name}, Input Dimension: {input_dims}\")\n",
    "\n",
    "results = sess.run([output_name], {input_name: img})[0]\n",
    "print(f\"It's a {labels[np.argmax(results)]}\", results)"
   ]
  },
  {
   "cell_type": "code",
   "execution_count": null,
   "id": "bd5a852d",
   "metadata": {},
   "outputs": [],
   "source": []
  }
 ],
 "metadata": {
  "kernelspec": {
   "display_name": "Python 3",
   "language": "python",
   "name": "python3"
  },
  "language_info": {
   "codemirror_mode": {
    "name": "ipython",
    "version": 3
   },
   "file_extension": ".py",
   "mimetype": "text/x-python",
   "name": "python",
   "nbconvert_exporter": "python",
   "pygments_lexer": "ipython3",
   "version": "3.11.0"
  }
 },
 "nbformat": 4,
 "nbformat_minor": 5
}
